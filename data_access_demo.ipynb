{
 "cells": [
  {
   "cell_type": "markdown",
   "id": "826655f1-f093-4491-9631-db3a3d872cbc",
   "metadata": {
    "execution": {
     "iopub.execute_input": "2023-04-19T04:32:13.353992Z",
     "iopub.status.busy": "2023-04-19T04:32:13.353762Z",
     "iopub.status.idle": "2023-04-19T04:32:13.356535Z",
     "shell.execute_reply": "2023-04-19T04:32:13.356105Z",
     "shell.execute_reply.started": "2023-04-19T04:32:13.353976Z"
    }
   },
   "source": [
    "# Pre-bootcamp exercises: accessing data products via butler\n",
    "\n",
    "**Description:** Introduction to data access with the Butler using a small test dataset from HSC, [rc2_subset](https://github.com/lsst/rc2_subset).\n",
    "\n",
    "**Contact authors:** Keith Bechtol\n",
    "\n",
    "**Last verified to run:** 2023-04-18\n",
    "\n",
    "**LSST Science Piplines version:** w_2023_15\n",
    "\n",
    "This notebook is intended to be run after executing the data processing steps in `process_rc2_subset.sh` to demonstrate how to access the reduced data products, e.g., object tables and source tables. Alternatively, one can use an existing sandbox repo to bypass processing steps."
   ]
  },
  {
   "cell_type": "markdown",
   "id": "bcfadd68-5fcc-4e45-8cc0-ac5553139592",
   "metadata": {
    "execution": {
     "iopub.execute_input": "2023-04-19T04:41:39.575692Z",
     "iopub.status.busy": "2023-04-19T04:41:39.574983Z",
     "iopub.status.idle": "2023-04-19T04:41:39.577852Z",
     "shell.execute_reply": "2023-04-19T04:41:39.577435Z",
     "shell.execute_reply.started": "2023-04-19T04:41:39.575672Z"
    }
   },
   "source": [
    "## Preliminaries"
   ]
  },
  {
   "cell_type": "code",
   "execution_count": null,
   "id": "ea55f341-506c-4df0-a5a1-93810ded50d4",
   "metadata": {},
   "outputs": [],
   "source": [
    "import lsst.daf.butler as dafButler"
   ]
  },
  {
   "cell_type": "code",
   "execution_count": null,
   "id": "d8502fc8-b7c0-42d5-b83e-2ceef4fa101c",
   "metadata": {
    "tags": []
   },
   "outputs": [],
   "source": [
    "# User instance of the repo\n",
    "collections = ['u/%s'%os.environ['USER']]\n",
    "repo = '/sdf/group/rubin/user/%s/bootcamp_2023/rc2_subset/SMALL_HSC/'%(os.environ['USER'])\n",
    "\n",
    "# Existing sandbox repo if you prefer to skip processing steps\n",
    "#collections = ['u/bechtol/step3']\n",
    "#repo = '/sdf/group/rubin/user/bechtol/bootcamp_2023/rc2_subset_16Apr2023/SMALL_HSC/'"
   ]
  },
  {
   "cell_type": "code",
   "execution_count": null,
   "id": "509e92e3-77e8-4fd9-bfab-4b1f764d70d9",
   "metadata": {
    "tags": []
   },
   "outputs": [],
   "source": [
    "butler = dafButler.Butler(repo, collections=collections)\n",
    "registry = butler.registry"
   ]
  },
  {
   "cell_type": "markdown",
   "id": "9efe83a0-d105-4a49-8519-0ec861bf2b6c",
   "metadata": {
    "execution": {
     "iopub.execute_input": "2023-04-19T04:34:52.356165Z",
     "iopub.status.busy": "2023-04-19T04:34:52.355921Z",
     "iopub.status.idle": "2023-04-19T04:34:52.358613Z",
     "shell.execute_reply": "2023-04-19T04:34:52.358183Z",
     "shell.execute_reply.started": "2023-04-19T04:34:52.356149Z"
    },
    "tags": []
   },
   "source": [
    "Check what dataset types are present in the collection"
   ]
  },
  {
   "cell_type": "code",
   "execution_count": null,
   "id": "4b2522e7-35e1-4475-b503-e727bae939f3",
   "metadata": {
    "tags": []
   },
   "outputs": [],
   "source": [
    "for datasetType in registry.queryDatasetTypes():\n",
    "    if registry.queryDatasets(datasetType, collections=collections).any(execute=False, exact=False):\n",
    "        print(datasetType)"
   ]
  },
  {
   "cell_type": "markdown",
   "id": "6519bdbf-a9c7-4bb3-b9c1-c03e02177afa",
   "metadata": {
    "tags": []
   },
   "source": [
    "## Object tables"
   ]
  },
  {
   "cell_type": "code",
   "execution_count": null,
   "id": "a86f7ad8-a6e2-4b0a-b593-eef02f9d8211",
   "metadata": {
    "tags": []
   },
   "outputs": [],
   "source": [
    "refs = sorted(registry.queryDatasets(\"objectTable_tract\"))\n",
    "print(len(refs))"
   ]
  },
  {
   "cell_type": "code",
   "execution_count": null,
   "id": "00b4eb4b-9f19-4af2-b0d8-1d3a0ffed060",
   "metadata": {
    "tags": []
   },
   "outputs": [],
   "source": [
    "refs[0].dataId"
   ]
  },
  {
   "cell_type": "code",
   "execution_count": null,
   "id": "7e2b7687-a351-4422-93c9-7b73c9bcbb9a",
   "metadata": {
    "tags": []
   },
   "outputs": [],
   "source": [
    "objectTable = butler.get(refs[0])\n",
    "objectTable"
   ]
  },
  {
   "cell_type": "markdown",
   "id": "cf1ea0e6-2412-4e8e-908c-57a77240e31d",
   "metadata": {
    "execution": {
     "iopub.execute_input": "2023-04-19T04:41:15.719044Z",
     "iopub.status.busy": "2023-04-19T04:41:15.718764Z",
     "iopub.status.idle": "2023-04-19T04:41:15.721677Z",
     "shell.execute_reply": "2023-04-19T04:41:15.721225Z",
     "shell.execute_reply.started": "2023-04-19T04:41:15.719027Z"
    }
   },
   "source": [
    "## Source tables"
   ]
  },
  {
   "cell_type": "code",
   "execution_count": null,
   "id": "c7df9b9b-8985-4445-b5b3-e29190155a67",
   "metadata": {
    "tags": []
   },
   "outputs": [],
   "source": [
    "refs = sorted(registry.queryDatasets(\"sourceTable_visit\"))"
   ]
  },
  {
   "cell_type": "code",
   "execution_count": null,
   "id": "88711a61-bd88-4fa0-b970-c002f04f19d4",
   "metadata": {
    "tags": []
   },
   "outputs": [],
   "source": [
    "for ref in refs: print(ref.dataId.full)"
   ]
  },
  {
   "cell_type": "code",
   "execution_count": null,
   "id": "9a8cc15d-a550-4d0f-9e88-80934df213f5",
   "metadata": {},
   "outputs": [],
   "source": [
    "butler.get(refs[-1])"
   ]
  },
  {
   "cell_type": "markdown",
   "id": "3d4e07fc-a438-47b0-aadb-2af33ec3d516",
   "metadata": {
    "tags": []
   },
   "source": [
    "## Run analysis_tools interactively\n",
    "\n",
    "Demonstration of running analysis tools interactively in a notbeook by passing in-memory data inputs to create metrics and diagnostic plots."
   ]
  },
  {
   "cell_type": "code",
   "execution_count": null,
   "id": "8b1d77e1-f575-40d9-9a9a-6c2fd078c131",
   "metadata": {
    "tags": []
   },
   "outputs": [],
   "source": [
    "from lsst.analysis.tools.analysisMetrics import ShapeSizeFractionalMetric\n",
    "from lsst.analysis.tools.tasks.base import _StandinPlotInfo"
   ]
  },
  {
   "cell_type": "code",
   "execution_count": null,
   "id": "3c927d42-7ba4-41b4-b1b7-d3f83ba51e49",
   "metadata": {},
   "outputs": [],
   "source": [
    "metric = ShapeSizeFractionalMetric()"
   ]
  },
  {
   "cell_type": "code",
   "execution_count": null,
   "id": "2a11002c-6ffe-4219-af5a-e2b5e93ed5bd",
   "metadata": {},
   "outputs": [],
   "source": [
    "results = metric(objectTable, band='i')"
   ]
  },
  {
   "cell_type": "code",
   "execution_count": null,
   "id": "de3b8d08-b25c-4ad3-ad14-a92945c0f1fb",
   "metadata": {},
   "outputs": [],
   "source": [
    "results"
   ]
  },
  {
   "cell_type": "code",
   "execution_count": null,
   "id": "a92621d5-ce87-4c27-87f0-55b35e19b5fe",
   "metadata": {},
   "outputs": [],
   "source": [
    "from lsst.analysis.tools.analysisPlots import ShapeSizeFractionalDiffScatterPlot"
   ]
  },
  {
   "cell_type": "code",
   "execution_count": null,
   "id": "7aa263a2-47a9-408c-92b0-0f4069f19459",
   "metadata": {},
   "outputs": [],
   "source": [
    "plot = ShapeSizeFractionalDiffScatterPlot()\n",
    "# set some configs, we will go into this later\n",
    "plot.produce.addSummaryPlot = False"
   ]
  },
  {
   "cell_type": "code",
   "execution_count": null,
   "id": "e52c4673-d59d-4cf7-9033-58912c5e40f3",
   "metadata": {
    "tags": []
   },
   "outputs": [],
   "source": [
    "# later keyword arguments will not be required going forward\n",
    "results = plot(objectTable, band='i', skymap=None, plotInfo=_StandinPlotInfo())"
   ]
  },
  {
   "cell_type": "code",
   "execution_count": null,
   "id": "1d2d0ba4-3e94-440b-b144-a30f3413688e",
   "metadata": {},
   "outputs": [],
   "source": []
  }
 ],
 "metadata": {
  "kernelspec": {
   "display_name": "LSST",
   "language": "python",
   "name": "lsst"
  },
  "language_info": {
   "codemirror_mode": {
    "name": "ipython",
    "version": 3
   },
   "file_extension": ".py",
   "mimetype": "text/x-python",
   "name": "python",
   "nbconvert_exporter": "python",
   "pygments_lexer": "ipython3",
   "version": "3.10.9"
  }
 },
 "nbformat": 4,
 "nbformat_minor": 5
}
