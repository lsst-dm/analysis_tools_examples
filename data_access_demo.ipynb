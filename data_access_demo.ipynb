{
 "cells": [
  {
   "cell_type": "markdown",
   "id": "826655f1-f093-4491-9631-db3a3d872cbc",
   "metadata": {
    "execution": {
     "iopub.execute_input": "2023-04-19T04:32:13.353992Z",
     "iopub.status.busy": "2023-04-19T04:32:13.353762Z",
     "iopub.status.idle": "2023-04-19T04:32:13.356535Z",
     "shell.execute_reply": "2023-04-19T04:32:13.356105Z",
     "shell.execute_reply.started": "2023-04-19T04:32:13.353976Z"
    }
   },
   "source": [
    "# Pre-bootcamp exercises: accessing data products via butler\n",
    "\n",
    "**Description:** Introduction to data access with the Butler using a small test dataset from HSC, [rc2_subset](https://github.com/lsst/rc2_subset).\n",
    "\n",
    "**Contact authors:** Keith Bechtol\n",
    "\n",
    "**Last verified to run:** 2023-05-02\n",
    "\n",
    "**LSST Science Piplines version:** w_2023_17\n",
    "\n",
    "One can use an existing sandbox repo (prepared for this exercise) to bypass processing steps and go straight to demonstrating data access via the Butler, e.g., object tables and source tables. Alternatively, this notebook can be run after executing the data processing steps in `process_rc2_subset.sh` to access the reduced data products in your repo."
   ]
  },
  {
   "cell_type": "markdown",
   "id": "c9ee0414-8da1-40f6-9e16-f47648303bd0",
   "metadata": {},
   "source": [
    "Check the version of the stack you are using"
   ]
  },
  {
   "cell_type": "code",
   "execution_count": null,
   "id": "04c5caf9-7177-4d59-9c69-0fce71bd0816",
   "metadata": {
    "tags": []
   },
   "outputs": [],
   "source": [
    "!eups list -s | grep lsst_distrib"
   ]
  },
  {
   "cell_type": "markdown",
   "id": "bcfadd68-5fcc-4e45-8cc0-ac5553139592",
   "metadata": {
    "execution": {
     "iopub.execute_input": "2023-04-19T04:41:39.575692Z",
     "iopub.status.busy": "2023-04-19T04:41:39.574983Z",
     "iopub.status.idle": "2023-04-19T04:41:39.577852Z",
     "shell.execute_reply": "2023-04-19T04:41:39.577435Z",
     "shell.execute_reply.started": "2023-04-19T04:41:39.575672Z"
    }
   },
   "source": [
    "## Preliminaries"
   ]
  },
  {
   "cell_type": "code",
   "execution_count": null,
   "id": "ea55f341-506c-4df0-a5a1-93810ded50d4",
   "metadata": {},
   "outputs": [],
   "source": [
    "import lsst.daf.butler as dafButler"
   ]
  },
  {
   "cell_type": "code",
   "execution_count": null,
   "id": "d8502fc8-b7c0-42d5-b83e-2ceef4fa101c",
   "metadata": {
    "tags": []
   },
   "outputs": [],
   "source": [
    "# Point to existing sandbox repo if you prefer to skip processing steps\n",
    "collections = ['u/bechtol']\n",
    "repo = '/sdf/group/rubin/user/bechtol/bootcamp_2023/rc2_subset/SMALL_HSC/'\n",
    "\n",
    "# User instance of the repo if you have processed rc2_subset yourself\n",
    "#collections = ['u/%s'%os.environ['USER']]\n",
    "#repo = '/sdf/group/rubin/user/%s/bootcamp_2023/rc2_subset/SMALL_HSC/'%(os.environ['USER'])"
   ]
  },
  {
   "cell_type": "code",
   "execution_count": null,
   "id": "509e92e3-77e8-4fd9-bfab-4b1f764d70d9",
   "metadata": {
    "tags": []
   },
   "outputs": [],
   "source": [
    "butler = dafButler.Butler(repo, collections=collections)\n",
    "registry = butler.registry"
   ]
  },
  {
   "cell_type": "markdown",
   "id": "9efe83a0-d105-4a49-8519-0ec861bf2b6c",
   "metadata": {
    "execution": {
     "iopub.execute_input": "2023-04-19T04:34:52.356165Z",
     "iopub.status.busy": "2023-04-19T04:34:52.355921Z",
     "iopub.status.idle": "2023-04-19T04:34:52.358613Z",
     "shell.execute_reply": "2023-04-19T04:34:52.358183Z",
     "shell.execute_reply.started": "2023-04-19T04:34:52.356149Z"
    },
    "tags": []
   },
   "source": [
    "Check what dataset types are present in the collection"
   ]
  },
  {
   "cell_type": "code",
   "execution_count": null,
   "id": "4b2522e7-35e1-4475-b503-e727bae939f3",
   "metadata": {
    "tags": []
   },
   "outputs": [],
   "source": [
    "for datasetType in registry.queryDatasetTypes():\n",
    "    if registry.queryDatasets(datasetType, collections=collections).any(execute=False, exact=False):\n",
    "        print(datasetType)"
   ]
  },
  {
   "cell_type": "markdown",
   "id": "6519bdbf-a9c7-4bb3-b9c1-c03e02177afa",
   "metadata": {
    "tags": []
   },
   "source": [
    "## Object tables"
   ]
  },
  {
   "cell_type": "code",
   "execution_count": null,
   "id": "a86f7ad8-a6e2-4b0a-b593-eef02f9d8211",
   "metadata": {
    "tags": []
   },
   "outputs": [],
   "source": [
    "refs = sorted(registry.queryDatasets(\"objectTable_tract\"))\n",
    "print(len(refs))"
   ]
  },
  {
   "cell_type": "code",
   "execution_count": null,
   "id": "00b4eb4b-9f19-4af2-b0d8-1d3a0ffed060",
   "metadata": {
    "tags": []
   },
   "outputs": [],
   "source": [
    "refs[0].dataId"
   ]
  },
  {
   "cell_type": "code",
   "execution_count": null,
   "id": "7e2b7687-a351-4422-93c9-7b73c9bcbb9a",
   "metadata": {
    "tags": []
   },
   "outputs": [],
   "source": [
    "objectTable = butler.get(refs[0])\n",
    "objectTable"
   ]
  },
  {
   "cell_type": "code",
   "execution_count": null,
   "id": "ee6fe2b7-3446-4ee9-8f6a-177ea5a9bfcf",
   "metadata": {
    "tags": []
   },
   "outputs": [],
   "source": [
    "objectTable.columns.values"
   ]
  },
  {
   "cell_type": "markdown",
   "id": "cf1ea0e6-2412-4e8e-908c-57a77240e31d",
   "metadata": {
    "execution": {
     "iopub.execute_input": "2023-04-19T04:41:15.719044Z",
     "iopub.status.busy": "2023-04-19T04:41:15.718764Z",
     "iopub.status.idle": "2023-04-19T04:41:15.721677Z",
     "shell.execute_reply": "2023-04-19T04:41:15.721225Z",
     "shell.execute_reply.started": "2023-04-19T04:41:15.719027Z"
    }
   },
   "source": [
    "## Source tables"
   ]
  },
  {
   "cell_type": "code",
   "execution_count": null,
   "id": "c7df9b9b-8985-4445-b5b3-e29190155a67",
   "metadata": {
    "tags": []
   },
   "outputs": [],
   "source": [
    "refs = sorted(registry.queryDatasets(\"sourceTable_visit\"))"
   ]
  },
  {
   "cell_type": "code",
   "execution_count": null,
   "id": "88711a61-bd88-4fa0-b970-c002f04f19d4",
   "metadata": {
    "tags": []
   },
   "outputs": [],
   "source": [
    "for ref in refs: print(ref.dataId.full)"
   ]
  },
  {
   "cell_type": "code",
   "execution_count": null,
   "id": "9a8cc15d-a550-4d0f-9e88-80934df213f5",
   "metadata": {},
   "outputs": [],
   "source": [
    "sourceTable = butler.get(refs[-1])\n",
    "sourceTable"
   ]
  },
  {
   "cell_type": "code",
   "execution_count": null,
   "id": "6eec9b9f-ac5a-4b0f-9c7f-449ac4e33bf1",
   "metadata": {
    "tags": []
   },
   "outputs": [],
   "source": [
    "sourceTable.columns.values"
   ]
  },
  {
   "cell_type": "markdown",
   "id": "3d4e07fc-a438-47b0-aadb-2af33ec3d516",
   "metadata": {
    "tags": []
   },
   "source": [
    "## Run analysis_tools interactively\n",
    "\n",
    "Demonstration of running analysis tools interactively in a notbeook by passing in-memory data inputs to create metrics and diagnostic plots."
   ]
  },
  {
   "cell_type": "code",
   "execution_count": null,
   "id": "4c8b30ae-d864-42d9-9bb1-4866b7d25d81",
   "metadata": {
    "tags": []
   },
   "outputs": [],
   "source": [
    "from lsst.analysis.tools.atools import ShapeSizeFractionalDiff\n",
    "from lsst.analysis.tools.interfaces._task import _StandinPlotInfo\n",
    "from lsst.analysis.tools.interfaces._actions import NoPlot"
   ]
  },
  {
   "cell_type": "code",
   "execution_count": null,
   "id": "e103cb45-932c-45b7-a39b-b921f12a0da5",
   "metadata": {
    "tags": []
   },
   "outputs": [],
   "source": [
    "atool = ShapeSizeFractionalDiff()\n",
    "atool.produce.plot.addSummaryPlot = False\n",
    "\n",
    "# Do not produce plot; only metric values\n",
    "#atool.produce.plot = NoPlot() \n",
    "\n",
    "# This helps simplify some of the configuration\n",
    "# by ensuring that appropriate keys are set to \n",
    "# load columns that are needed in later steps. \n",
    "# This happens automatically when an AnalysisTool \n",
    "# is used as a single unit.\n",
    "atool.populatePrepFromProcess() # Needed to run "
   ]
  },
  {
   "cell_type": "markdown",
   "id": "f89e188f-d418-46f4-8bfb-81cc89012662",
   "metadata": {
    "execution": {
     "iopub.execute_input": "2023-05-03T05:46:38.219181Z",
     "iopub.status.busy": "2023-05-03T05:46:38.218965Z",
     "iopub.status.idle": "2023-05-03T05:46:38.222496Z",
     "shell.execute_reply": "2023-05-03T05:46:38.221961Z",
     "shell.execute_reply.started": "2023-05-03T05:46:38.219165Z"
    },
    "tags": []
   },
   "source": [
    "Notice that the returned metric values match summary statistics displayed on the plot"
   ]
  },
  {
   "cell_type": "code",
   "execution_count": null,
   "id": "467a2791-9303-4520-a3f9-18547dff5da2",
   "metadata": {
    "tags": []
   },
   "outputs": [],
   "source": [
    "results = atool(objectTable, band='i', skymap=None, plotInfo=_StandinPlotInfo())\n",
    "results"
   ]
  },
  {
   "cell_type": "code",
   "execution_count": null,
   "id": "481a1612-0af0-4c98-b63f-15783814e282",
   "metadata": {},
   "outputs": [],
   "source": []
  }
 ],
 "metadata": {
  "kernelspec": {
   "display_name": "LSST",
   "language": "python",
   "name": "lsst"
  },
  "language_info": {
   "codemirror_mode": {
    "name": "ipython",
    "version": 3
   },
   "file_extension": ".py",
   "mimetype": "text/x-python",
   "name": "python",
   "nbconvert_exporter": "python",
   "pygments_lexer": "ipython3",
   "version": "3.10.10"
  }
 },
 "nbformat": 4,
 "nbformat_minor": 5
}
