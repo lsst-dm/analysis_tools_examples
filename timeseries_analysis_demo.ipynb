{
 "cells": [
  {
   "cell_type": "markdown",
   "id": "826655f1-f093-4491-9631-db3a3d872cbc",
   "metadata": {
    "execution": {
     "iopub.execute_input": "2023-04-19T04:32:13.353992Z",
     "iopub.status.busy": "2023-04-19T04:32:13.353762Z",
     "iopub.status.idle": "2023-04-19T04:32:13.356535Z",
     "shell.execute_reply": "2023-04-19T04:32:13.356105Z",
     "shell.execute_reply.started": "2023-04-19T04:32:13.353976Z"
    }
   },
   "source": [
    "# Bootcamp exercise: Timeseries analysis with analysis tools\n",
    "\n",
    "**Description:** Introduction to timeseries analysis on DRP difference imaging products\n",
    "\n",
    "**Contact authors:** Eric Bellm\n",
    "\n",
    "**Last verified to run:** \n",
    "\n",
    "**LSST Science Piplines version:** \n",
    "\n"
   ]
  },
  {
   "cell_type": "markdown",
   "id": "c9ee0414-8da1-40f6-9e16-f47648303bd0",
   "metadata": {},
   "source": [
    "Check the version of the stack you are using"
   ]
  },
  {
   "cell_type": "code",
   "execution_count": 1,
   "id": "04c5caf9-7177-4d59-9c69-0fce71bd0816",
   "metadata": {
    "execution": {
     "iopub.execute_input": "2023-05-17T18:21:07.287806Z",
     "iopub.status.busy": "2023-05-17T18:21:07.287565Z",
     "iopub.status.idle": "2023-05-17T18:21:07.654412Z",
     "shell.execute_reply": "2023-05-17T18:21:07.653642Z",
     "shell.execute_reply.started": "2023-05-17T18:21:07.287790Z"
    },
    "tags": []
   },
   "outputs": [
    {
     "name": "stdout",
     "output_type": "stream",
     "text": [
      "lsst_distrib          gdf42428520+aa7779d39a \tcurrent d_2023_05_03 setup\n"
     ]
    }
   ],
   "source": [
    "!eups list -s | grep lsst_distrib"
   ]
  },
  {
   "cell_type": "markdown",
   "id": "ee7e874e-224c-49c9-babb-3b8f479e507c",
   "metadata": {},
   "source": [
    "Are you using a local version of `analysis_tools`?"
   ]
  },
  {
   "cell_type": "code",
   "execution_count": 2,
   "id": "f0b302d6-814a-4874-b5c4-7cb1b6bd10ae",
   "metadata": {
    "execution": {
     "iopub.execute_input": "2023-05-17T18:21:08.358013Z",
     "iopub.status.busy": "2023-05-17T18:21:08.357676Z",
     "iopub.status.idle": "2023-05-17T18:21:08.541558Z",
     "shell.execute_reply": "2023-05-17T18:21:08.541025Z",
     "shell.execute_reply.started": "2023-05-17T18:21:08.357997Z"
    },
    "tags": []
   },
   "outputs": [
    {
     "name": "stdout",
     "output_type": "stream",
     "text": [
      "/sdf/group/rubin/u/ebellm/stack/analysis_tools/python/lsst/analysis/tools/__init__.py\n"
     ]
    }
   ],
   "source": [
    "import lsst.analysis.tools\n",
    "print(lsst.analysis.tools.__file__)"
   ]
  },
  {
   "cell_type": "markdown",
   "id": "bcfadd68-5fcc-4e45-8cc0-ac5553139592",
   "metadata": {
    "execution": {
     "iopub.execute_input": "2023-04-19T04:41:39.575692Z",
     "iopub.status.busy": "2023-04-19T04:41:39.574983Z",
     "iopub.status.idle": "2023-04-19T04:41:39.577852Z",
     "shell.execute_reply": "2023-04-19T04:41:39.577435Z",
     "shell.execute_reply.started": "2023-04-19T04:41:39.575672Z"
    }
   },
   "source": [
    "## Preliminaries"
   ]
  },
  {
   "cell_type": "code",
   "execution_count": 3,
   "id": "ea55f341-506c-4df0-a5a1-93810ded50d4",
   "metadata": {
    "execution": {
     "iopub.execute_input": "2023-05-17T18:21:09.187083Z",
     "iopub.status.busy": "2023-05-17T18:21:09.186902Z",
     "iopub.status.idle": "2023-05-17T18:21:09.669044Z",
     "shell.execute_reply": "2023-05-17T18:21:09.668513Z",
     "shell.execute_reply.started": "2023-05-17T18:21:09.187067Z"
    },
    "tags": []
   },
   "outputs": [],
   "source": [
    "import numpy as np\n",
    "import lsst.daf.butler as dafButler"
   ]
  },
  {
   "cell_type": "code",
   "execution_count": 4,
   "id": "d8502fc8-b7c0-42d5-b83e-2ceef4fa101c",
   "metadata": {
    "execution": {
     "iopub.execute_input": "2023-05-17T18:21:09.673774Z",
     "iopub.status.busy": "2023-05-17T18:21:09.673629Z",
     "iopub.status.idle": "2023-05-17T18:21:09.676022Z",
     "shell.execute_reply": "2023-05-17T18:21:09.675613Z",
     "shell.execute_reply.started": "2023-05-17T18:21:09.673756Z"
    },
    "tags": []
   },
   "outputs": [],
   "source": [
    "# Point to existing sandbox repo if you prefer to skip processing steps\n",
    "#collections = ['u/bechtol']\n",
    "#repo = '/sdf/group/rubin/user/bechtol/bootcamp_2023/rc2_subset/SMALL_HSC/'\n",
    "\n",
    "collections = ['HSC/runs/RC2/w_2023_07/DM-38042/20230308T213613Z']\n",
    "repo = '/repo/main/'\n",
    "\n",
    "\n",
    "# User instance of the repo if you have processed rc2_subset yourself\n",
    "#collections = ['u/%s'%os.environ['USER']]\n",
    "#repo = '/sdf/group/rubin/user/%s/bootcamp_2023/rc2_subset/SMALL_HSC/'%(os.environ['USER'])"
   ]
  },
  {
   "cell_type": "code",
   "execution_count": 5,
   "id": "509e92e3-77e8-4fd9-bfab-4b1f764d70d9",
   "metadata": {
    "execution": {
     "iopub.execute_input": "2023-05-17T18:21:10.386254Z",
     "iopub.status.busy": "2023-05-17T18:21:10.385904Z",
     "iopub.status.idle": "2023-05-17T18:21:14.458153Z",
     "shell.execute_reply": "2023-05-17T18:21:14.457595Z",
     "shell.execute_reply.started": "2023-05-17T18:21:10.386236Z"
    },
    "tags": []
   },
   "outputs": [],
   "source": [
    "butler = dafButler.Butler(repo, collections=collections)\n",
    "registry = butler.registry"
   ]
  },
  {
   "cell_type": "markdown",
   "id": "9efe83a0-d105-4a49-8519-0ec861bf2b6c",
   "metadata": {
    "execution": {
     "iopub.execute_input": "2023-04-19T04:34:52.356165Z",
     "iopub.status.busy": "2023-04-19T04:34:52.355921Z",
     "iopub.status.idle": "2023-04-19T04:34:52.358613Z",
     "shell.execute_reply": "2023-04-19T04:34:52.358183Z",
     "shell.execute_reply.started": "2023-04-19T04:34:52.356149Z"
    },
    "tags": []
   },
   "source": [
    "Check what (tabular) dataset types are present in the collection.  We are going to work with pre-associated DIASources, which are not always present."
   ]
  },
  {
   "cell_type": "code",
   "execution_count": 5,
   "id": "4b2522e7-35e1-4475-b503-e727bae939f3",
   "metadata": {
    "execution": {
     "iopub.execute_input": "2023-05-03T20:06:11.943542Z",
     "iopub.status.busy": "2023-05-03T20:06:11.943266Z",
     "iopub.status.idle": "2023-05-03T20:06:13.850010Z",
     "shell.execute_reply": "2023-05-03T20:06:13.849574Z",
     "shell.execute_reply.started": "2023-05-03T20:06:11.943526Z"
    },
    "tags": []
   },
   "outputs": [
    {
     "name": "stdout",
     "output_type": "stream",
     "text": [
      "DatasetType('goodSeeingDiff_assocDiaSrcTable', {skymap, tract, patch}, DataFrame)\n",
      "DatasetType('goodSeeingDiff_diaObjTable', {skymap, tract, patch}, DataFrame)\n",
      "DatasetType('goodSeeingDiff_fullDiaObjTable', {skymap, tract, patch}, DataFrame)\n",
      "DatasetType('diaSourceTable_tract', {skymap, tract}, DataFrame)\n",
      "DatasetType('diaObjectTable_tract', {skymap, tract}, DataFrame)\n",
      "DatasetType('forcedSourceOnDiaObjectTable', {skymap, tract, patch}, DataFrame)\n",
      "DatasetType('forcedSourceOnDiaObjectTable_tract', {skymap, tract}, DataFrame)\n",
      "DatasetType('forcedSourceTable_tract', {skymap, tract}, DataFrame)\n",
      "DatasetType('forcedSourceTable', {skymap, tract, patch}, DataFrame)\n",
      "DatasetType('mergedForcedSourceOnDiaObject', {band, instrument, skymap, detector, physical_filter, tract, visit}, DataFrame)\n"
     ]
    }
   ],
   "source": [
    "required_dataset_type = 'diaSourceTable_tract'\n",
    "has_required_dataset_type = False\n",
    "\n",
    "for datasetType in registry.queryDatasetTypes():\n",
    "    if registry.queryDatasets(datasetType, collections=collections).any(execute=False, exact=False):\n",
    "        if datasetType.storageClass_name == 'DataFrame':\n",
    "            print(datasetType)\n",
    "        if datasetType.name == required_dataset_type:\n",
    "            has_required_dataset_type = True"
   ]
  },
  {
   "cell_type": "code",
   "execution_count": 6,
   "id": "2f6ae6be-3910-4eab-8e27-6928f8130d26",
   "metadata": {
    "execution": {
     "iopub.execute_input": "2023-05-03T20:06:13.855314Z",
     "iopub.status.busy": "2023-05-03T20:06:13.855172Z",
     "iopub.status.idle": "2023-05-03T20:06:13.857432Z",
     "shell.execute_reply": "2023-05-03T20:06:13.857116Z",
     "shell.execute_reply.started": "2023-05-03T20:06:13.855301Z"
    },
    "tags": []
   },
   "outputs": [],
   "source": [
    "if not has_required_dataset_type:\n",
    "    raise ValueError(f'Required dataset type {required_dataset_type} not present in collections {collections} and repo {repo}!')"
   ]
  },
  {
   "cell_type": "markdown",
   "id": "f6ace586-440e-41a9-bbcd-44d88072c2ec",
   "metadata": {},
   "source": [
    "If the cell above raises an error, you will need a different dataset!"
   ]
  },
  {
   "cell_type": "markdown",
   "id": "6519bdbf-a9c7-4bb3-b9c1-c03e02177afa",
   "metadata": {
    "tags": []
   },
   "source": [
    "## Object tables"
   ]
  },
  {
   "cell_type": "code",
   "execution_count": 6,
   "id": "a86f7ad8-a6e2-4b0a-b593-eef02f9d8211",
   "metadata": {
    "execution": {
     "iopub.execute_input": "2023-05-17T18:21:18.460557Z",
     "iopub.status.busy": "2023-05-17T18:21:18.460228Z",
     "iopub.status.idle": "2023-05-17T18:21:18.472221Z",
     "shell.execute_reply": "2023-05-17T18:21:18.471783Z",
     "shell.execute_reply.started": "2023-05-17T18:21:18.460540Z"
    },
    "tags": []
   },
   "outputs": [
    {
     "name": "stdout",
     "output_type": "stream",
     "text": [
      "3\n"
     ]
    }
   ],
   "source": [
    "refs = sorted(registry.queryDatasets(\"diaObjectTable_tract\"))\n",
    "print(len(refs))"
   ]
  },
  {
   "cell_type": "code",
   "execution_count": 7,
   "id": "00b4eb4b-9f19-4af2-b0d8-1d3a0ffed060",
   "metadata": {
    "execution": {
     "iopub.execute_input": "2023-05-17T18:21:19.110498Z",
     "iopub.status.busy": "2023-05-17T18:21:19.110315Z",
     "iopub.status.idle": "2023-05-17T18:21:19.113616Z",
     "shell.execute_reply": "2023-05-17T18:21:19.113195Z",
     "shell.execute_reply.started": "2023-05-17T18:21:19.110481Z"
    },
    "tags": []
   },
   "outputs": [
    {
     "data": {
      "text/plain": [
       "{skymap: 'hsc_rings_v1', tract: 9615}"
      ]
     },
     "execution_count": 7,
     "metadata": {},
     "output_type": "execute_result"
    }
   ],
   "source": [
    "refs[0].dataId"
   ]
  },
  {
   "cell_type": "code",
   "execution_count": 8,
   "id": "7e2b7687-a351-4422-93c9-7b73c9bcbb9a",
   "metadata": {
    "execution": {
     "iopub.execute_input": "2023-05-17T18:21:19.583375Z",
     "iopub.status.busy": "2023-05-17T18:21:19.583201Z",
     "iopub.status.idle": "2023-05-17T18:21:20.416325Z",
     "shell.execute_reply": "2023-05-17T18:21:20.415792Z",
     "shell.execute_reply.started": "2023-05-17T18:21:19.583360Z"
    },
    "tags": []
   },
   "outputs": [
    {
     "data": {
      "text/html": [
       "<div>\n",
       "<style scoped>\n",
       "    .dataframe tbody tr th:only-of-type {\n",
       "        vertical-align: middle;\n",
       "    }\n",
       "\n",
       "    .dataframe tbody tr th {\n",
       "        vertical-align: top;\n",
       "    }\n",
       "\n",
       "    .dataframe thead th {\n",
       "        text-align: right;\n",
       "    }\n",
       "</style>\n",
       "<table border=\"1\" class=\"dataframe\">\n",
       "  <thead>\n",
       "    <tr style=\"text-align: right;\">\n",
       "      <th></th>\n",
       "      <th>ra</th>\n",
       "      <th>decl</th>\n",
       "      <th>nDiaSources</th>\n",
       "      <th>radecTai</th>\n",
       "      <th>gPSFluxLinearSlope</th>\n",
       "      <th>gPSFluxLinearIntercept</th>\n",
       "      <th>gPSFluxMAD</th>\n",
       "      <th>gPSFluxMaxSlope</th>\n",
       "      <th>gPSFluxErrMean</th>\n",
       "      <th>gPSFluxMean</th>\n",
       "      <th>...</th>\n",
       "      <th>yPSFluxPercentile05</th>\n",
       "      <th>yPSFluxPercentile25</th>\n",
       "      <th>yPSFluxPercentile50</th>\n",
       "      <th>yPSFluxPercentile75</th>\n",
       "      <th>yPSFluxPercentile95</th>\n",
       "      <th>yPSFluxSigma</th>\n",
       "      <th>yTOTFluxSigma</th>\n",
       "      <th>yPSFluxSkew</th>\n",
       "      <th>yPSFluxChi2</th>\n",
       "      <th>yPSFluxStetsonJ</th>\n",
       "    </tr>\n",
       "    <tr>\n",
       "      <th>diaObjectId</th>\n",
       "      <th></th>\n",
       "      <th></th>\n",
       "      <th></th>\n",
       "      <th></th>\n",
       "      <th></th>\n",
       "      <th></th>\n",
       "      <th></th>\n",
       "      <th></th>\n",
       "      <th></th>\n",
       "      <th></th>\n",
       "      <th></th>\n",
       "      <th></th>\n",
       "      <th></th>\n",
       "      <th></th>\n",
       "      <th></th>\n",
       "      <th></th>\n",
       "      <th></th>\n",
       "      <th></th>\n",
       "      <th></th>\n",
       "      <th></th>\n",
       "      <th></th>\n",
       "    </tr>\n",
       "  </thead>\n",
       "  <tbody>\n",
       "    <tr>\n",
       "      <th>3425264593545461761</th>\n",
       "      <td>217.080213</td>\n",
       "      <td>-0.064201</td>\n",
       "      <td>1</td>\n",
       "      <td>56741.506686</td>\n",
       "      <td>NaN</td>\n",
       "      <td>NaN</td>\n",
       "      <td>NaN</td>\n",
       "      <td>NaN</td>\n",
       "      <td>NaN</td>\n",
       "      <td>NaN</td>\n",
       "      <td>...</td>\n",
       "      <td>-2628.276984</td>\n",
       "      <td>-2628.276984</td>\n",
       "      <td>-2628.276984</td>\n",
       "      <td>-2628.276984</td>\n",
       "      <td>-2628.276984</td>\n",
       "      <td>NaN</td>\n",
       "      <td>NaN</td>\n",
       "      <td>NaN</td>\n",
       "      <td>1.301390e-30</td>\n",
       "      <td>NaN</td>\n",
       "    </tr>\n",
       "    <tr>\n",
       "      <th>3425264593545461762</th>\n",
       "      <td>217.080244</td>\n",
       "      <td>-0.069648</td>\n",
       "      <td>1</td>\n",
       "      <td>56741.506686</td>\n",
       "      <td>NaN</td>\n",
       "      <td>NaN</td>\n",
       "      <td>NaN</td>\n",
       "      <td>NaN</td>\n",
       "      <td>NaN</td>\n",
       "      <td>NaN</td>\n",
       "      <td>...</td>\n",
       "      <td>-2140.304091</td>\n",
       "      <td>-2140.304091</td>\n",
       "      <td>-2140.304091</td>\n",
       "      <td>-2140.304091</td>\n",
       "      <td>-2140.304091</td>\n",
       "      <td>NaN</td>\n",
       "      <td>NaN</td>\n",
       "      <td>NaN</td>\n",
       "      <td>0.000000e+00</td>\n",
       "      <td>NaN</td>\n",
       "    </tr>\n",
       "    <tr>\n",
       "      <th>3425264593545461763</th>\n",
       "      <td>217.079951</td>\n",
       "      <td>-0.068807</td>\n",
       "      <td>1</td>\n",
       "      <td>56741.506686</td>\n",
       "      <td>NaN</td>\n",
       "      <td>NaN</td>\n",
       "      <td>NaN</td>\n",
       "      <td>NaN</td>\n",
       "      <td>NaN</td>\n",
       "      <td>NaN</td>\n",
       "      <td>...</td>\n",
       "      <td>-2636.178480</td>\n",
       "      <td>-2636.178480</td>\n",
       "      <td>-2636.178480</td>\n",
       "      <td>-2636.178480</td>\n",
       "      <td>-2636.178480</td>\n",
       "      <td>NaN</td>\n",
       "      <td>NaN</td>\n",
       "      <td>NaN</td>\n",
       "      <td>0.000000e+00</td>\n",
       "      <td>NaN</td>\n",
       "    </tr>\n",
       "    <tr>\n",
       "      <th>3425264593545461764</th>\n",
       "      <td>217.079667</td>\n",
       "      <td>-0.058519</td>\n",
       "      <td>1</td>\n",
       "      <td>56741.506686</td>\n",
       "      <td>NaN</td>\n",
       "      <td>NaN</td>\n",
       "      <td>NaN</td>\n",
       "      <td>NaN</td>\n",
       "      <td>NaN</td>\n",
       "      <td>NaN</td>\n",
       "      <td>...</td>\n",
       "      <td>-2449.343813</td>\n",
       "      <td>-2449.343813</td>\n",
       "      <td>-2449.343813</td>\n",
       "      <td>-2449.343813</td>\n",
       "      <td>-2449.343813</td>\n",
       "      <td>NaN</td>\n",
       "      <td>NaN</td>\n",
       "      <td>NaN</td>\n",
       "      <td>0.000000e+00</td>\n",
       "      <td>NaN</td>\n",
       "    </tr>\n",
       "    <tr>\n",
       "      <th>3425264593545461765</th>\n",
       "      <td>217.079072</td>\n",
       "      <td>-0.049209</td>\n",
       "      <td>1</td>\n",
       "      <td>56741.506686</td>\n",
       "      <td>NaN</td>\n",
       "      <td>NaN</td>\n",
       "      <td>NaN</td>\n",
       "      <td>NaN</td>\n",
       "      <td>NaN</td>\n",
       "      <td>NaN</td>\n",
       "      <td>...</td>\n",
       "      <td>-2099.895280</td>\n",
       "      <td>-2099.895280</td>\n",
       "      <td>-2099.895280</td>\n",
       "      <td>-2099.895280</td>\n",
       "      <td>-2099.895280</td>\n",
       "      <td>NaN</td>\n",
       "      <td>NaN</td>\n",
       "      <td>NaN</td>\n",
       "      <td>0.000000e+00</td>\n",
       "      <td>NaN</td>\n",
       "    </tr>\n",
       "    <tr>\n",
       "      <th>...</th>\n",
       "      <td>...</td>\n",
       "      <td>...</td>\n",
       "      <td>...</td>\n",
       "      <td>...</td>\n",
       "      <td>...</td>\n",
       "      <td>...</td>\n",
       "      <td>...</td>\n",
       "      <td>...</td>\n",
       "      <td>...</td>\n",
       "      <td>...</td>\n",
       "      <td>...</td>\n",
       "      <td>...</td>\n",
       "      <td>...</td>\n",
       "      <td>...</td>\n",
       "      <td>...</td>\n",
       "      <td>...</td>\n",
       "      <td>...</td>\n",
       "      <td>...</td>\n",
       "      <td>...</td>\n",
       "      <td>...</td>\n",
       "      <td>...</td>\n",
       "    </tr>\n",
       "    <tr>\n",
       "      <th>3425616437266356022</th>\n",
       "      <td>215.642458</td>\n",
       "      <td>1.494351</td>\n",
       "      <td>1</td>\n",
       "      <td>57110.598862</td>\n",
       "      <td>NaN</td>\n",
       "      <td>NaN</td>\n",
       "      <td>NaN</td>\n",
       "      <td>NaN</td>\n",
       "      <td>NaN</td>\n",
       "      <td>NaN</td>\n",
       "      <td>...</td>\n",
       "      <td>NaN</td>\n",
       "      <td>NaN</td>\n",
       "      <td>NaN</td>\n",
       "      <td>NaN</td>\n",
       "      <td>NaN</td>\n",
       "      <td>NaN</td>\n",
       "      <td>NaN</td>\n",
       "      <td>NaN</td>\n",
       "      <td>NaN</td>\n",
       "      <td>NaN</td>\n",
       "    </tr>\n",
       "    <tr>\n",
       "      <th>3425616437266356023</th>\n",
       "      <td>215.642434</td>\n",
       "      <td>1.511678</td>\n",
       "      <td>1</td>\n",
       "      <td>57110.598862</td>\n",
       "      <td>NaN</td>\n",
       "      <td>NaN</td>\n",
       "      <td>NaN</td>\n",
       "      <td>NaN</td>\n",
       "      <td>NaN</td>\n",
       "      <td>NaN</td>\n",
       "      <td>...</td>\n",
       "      <td>NaN</td>\n",
       "      <td>NaN</td>\n",
       "      <td>NaN</td>\n",
       "      <td>NaN</td>\n",
       "      <td>NaN</td>\n",
       "      <td>NaN</td>\n",
       "      <td>NaN</td>\n",
       "      <td>NaN</td>\n",
       "      <td>NaN</td>\n",
       "      <td>NaN</td>\n",
       "    </tr>\n",
       "    <tr>\n",
       "      <th>3425616437266356024</th>\n",
       "      <td>215.641859</td>\n",
       "      <td>1.513705</td>\n",
       "      <td>1</td>\n",
       "      <td>57110.598862</td>\n",
       "      <td>NaN</td>\n",
       "      <td>NaN</td>\n",
       "      <td>NaN</td>\n",
       "      <td>NaN</td>\n",
       "      <td>NaN</td>\n",
       "      <td>NaN</td>\n",
       "      <td>...</td>\n",
       "      <td>NaN</td>\n",
       "      <td>NaN</td>\n",
       "      <td>NaN</td>\n",
       "      <td>NaN</td>\n",
       "      <td>NaN</td>\n",
       "      <td>NaN</td>\n",
       "      <td>NaN</td>\n",
       "      <td>NaN</td>\n",
       "      <td>NaN</td>\n",
       "      <td>NaN</td>\n",
       "    </tr>\n",
       "    <tr>\n",
       "      <th>3425616437266356025</th>\n",
       "      <td>215.641919</td>\n",
       "      <td>1.515050</td>\n",
       "      <td>1</td>\n",
       "      <td>57110.598862</td>\n",
       "      <td>NaN</td>\n",
       "      <td>NaN</td>\n",
       "      <td>NaN</td>\n",
       "      <td>NaN</td>\n",
       "      <td>NaN</td>\n",
       "      <td>NaN</td>\n",
       "      <td>...</td>\n",
       "      <td>NaN</td>\n",
       "      <td>NaN</td>\n",
       "      <td>NaN</td>\n",
       "      <td>NaN</td>\n",
       "      <td>NaN</td>\n",
       "      <td>NaN</td>\n",
       "      <td>NaN</td>\n",
       "      <td>NaN</td>\n",
       "      <td>NaN</td>\n",
       "      <td>NaN</td>\n",
       "    </tr>\n",
       "    <tr>\n",
       "      <th>3425616437266356026</th>\n",
       "      <td>215.641995</td>\n",
       "      <td>1.516844</td>\n",
       "      <td>1</td>\n",
       "      <td>57110.598862</td>\n",
       "      <td>NaN</td>\n",
       "      <td>NaN</td>\n",
       "      <td>NaN</td>\n",
       "      <td>NaN</td>\n",
       "      <td>NaN</td>\n",
       "      <td>NaN</td>\n",
       "      <td>...</td>\n",
       "      <td>NaN</td>\n",
       "      <td>NaN</td>\n",
       "      <td>NaN</td>\n",
       "      <td>NaN</td>\n",
       "      <td>NaN</td>\n",
       "      <td>NaN</td>\n",
       "      <td>NaN</td>\n",
       "      <td>NaN</td>\n",
       "      <td>NaN</td>\n",
       "      <td>NaN</td>\n",
       "    </tr>\n",
       "  </tbody>\n",
       "</table>\n",
       "<p>949028 rows × 114 columns</p>\n",
       "</div>"
      ],
      "text/plain": [
       "                             ra      decl  nDiaSources      radecTai   \n",
       "diaObjectId                                                            \n",
       "3425264593545461761  217.080213 -0.064201            1  56741.506686  \\\n",
       "3425264593545461762  217.080244 -0.069648            1  56741.506686   \n",
       "3425264593545461763  217.079951 -0.068807            1  56741.506686   \n",
       "3425264593545461764  217.079667 -0.058519            1  56741.506686   \n",
       "3425264593545461765  217.079072 -0.049209            1  56741.506686   \n",
       "...                         ...       ...          ...           ...   \n",
       "3425616437266356022  215.642458  1.494351            1  57110.598862   \n",
       "3425616437266356023  215.642434  1.511678            1  57110.598862   \n",
       "3425616437266356024  215.641859  1.513705            1  57110.598862   \n",
       "3425616437266356025  215.641919  1.515050            1  57110.598862   \n",
       "3425616437266356026  215.641995  1.516844            1  57110.598862   \n",
       "\n",
       "                     gPSFluxLinearSlope  gPSFluxLinearIntercept  gPSFluxMAD   \n",
       "diaObjectId                                                                   \n",
       "3425264593545461761                 NaN                     NaN         NaN  \\\n",
       "3425264593545461762                 NaN                     NaN         NaN   \n",
       "3425264593545461763                 NaN                     NaN         NaN   \n",
       "3425264593545461764                 NaN                     NaN         NaN   \n",
       "3425264593545461765                 NaN                     NaN         NaN   \n",
       "...                                 ...                     ...         ...   \n",
       "3425616437266356022                 NaN                     NaN         NaN   \n",
       "3425616437266356023                 NaN                     NaN         NaN   \n",
       "3425616437266356024                 NaN                     NaN         NaN   \n",
       "3425616437266356025                 NaN                     NaN         NaN   \n",
       "3425616437266356026                 NaN                     NaN         NaN   \n",
       "\n",
       "                     gPSFluxMaxSlope  gPSFluxErrMean  gPSFluxMean  ...   \n",
       "diaObjectId                                                        ...   \n",
       "3425264593545461761              NaN             NaN          NaN  ...  \\\n",
       "3425264593545461762              NaN             NaN          NaN  ...   \n",
       "3425264593545461763              NaN             NaN          NaN  ...   \n",
       "3425264593545461764              NaN             NaN          NaN  ...   \n",
       "3425264593545461765              NaN             NaN          NaN  ...   \n",
       "...                              ...             ...          ...  ...   \n",
       "3425616437266356022              NaN             NaN          NaN  ...   \n",
       "3425616437266356023              NaN             NaN          NaN  ...   \n",
       "3425616437266356024              NaN             NaN          NaN  ...   \n",
       "3425616437266356025              NaN             NaN          NaN  ...   \n",
       "3425616437266356026              NaN             NaN          NaN  ...   \n",
       "\n",
       "                     yPSFluxPercentile05  yPSFluxPercentile25   \n",
       "diaObjectId                                                     \n",
       "3425264593545461761         -2628.276984         -2628.276984  \\\n",
       "3425264593545461762         -2140.304091         -2140.304091   \n",
       "3425264593545461763         -2636.178480         -2636.178480   \n",
       "3425264593545461764         -2449.343813         -2449.343813   \n",
       "3425264593545461765         -2099.895280         -2099.895280   \n",
       "...                                  ...                  ...   \n",
       "3425616437266356022                  NaN                  NaN   \n",
       "3425616437266356023                  NaN                  NaN   \n",
       "3425616437266356024                  NaN                  NaN   \n",
       "3425616437266356025                  NaN                  NaN   \n",
       "3425616437266356026                  NaN                  NaN   \n",
       "\n",
       "                     yPSFluxPercentile50  yPSFluxPercentile75   \n",
       "diaObjectId                                                     \n",
       "3425264593545461761         -2628.276984         -2628.276984  \\\n",
       "3425264593545461762         -2140.304091         -2140.304091   \n",
       "3425264593545461763         -2636.178480         -2636.178480   \n",
       "3425264593545461764         -2449.343813         -2449.343813   \n",
       "3425264593545461765         -2099.895280         -2099.895280   \n",
       "...                                  ...                  ...   \n",
       "3425616437266356022                  NaN                  NaN   \n",
       "3425616437266356023                  NaN                  NaN   \n",
       "3425616437266356024                  NaN                  NaN   \n",
       "3425616437266356025                  NaN                  NaN   \n",
       "3425616437266356026                  NaN                  NaN   \n",
       "\n",
       "                     yPSFluxPercentile95  yPSFluxSigma  yTOTFluxSigma   \n",
       "diaObjectId                                                             \n",
       "3425264593545461761         -2628.276984           NaN            NaN  \\\n",
       "3425264593545461762         -2140.304091           NaN            NaN   \n",
       "3425264593545461763         -2636.178480           NaN            NaN   \n",
       "3425264593545461764         -2449.343813           NaN            NaN   \n",
       "3425264593545461765         -2099.895280           NaN            NaN   \n",
       "...                                  ...           ...            ...   \n",
       "3425616437266356022                  NaN           NaN            NaN   \n",
       "3425616437266356023                  NaN           NaN            NaN   \n",
       "3425616437266356024                  NaN           NaN            NaN   \n",
       "3425616437266356025                  NaN           NaN            NaN   \n",
       "3425616437266356026                  NaN           NaN            NaN   \n",
       "\n",
       "                     yPSFluxSkew   yPSFluxChi2  yPSFluxStetsonJ  \n",
       "diaObjectId                                                      \n",
       "3425264593545461761          NaN  1.301390e-30              NaN  \n",
       "3425264593545461762          NaN  0.000000e+00              NaN  \n",
       "3425264593545461763          NaN  0.000000e+00              NaN  \n",
       "3425264593545461764          NaN  0.000000e+00              NaN  \n",
       "3425264593545461765          NaN  0.000000e+00              NaN  \n",
       "...                          ...           ...              ...  \n",
       "3425616437266356022          NaN           NaN              NaN  \n",
       "3425616437266356023          NaN           NaN              NaN  \n",
       "3425616437266356024          NaN           NaN              NaN  \n",
       "3425616437266356025          NaN           NaN              NaN  \n",
       "3425616437266356026          NaN           NaN              NaN  \n",
       "\n",
       "[949028 rows x 114 columns]"
      ]
     },
     "execution_count": 8,
     "metadata": {},
     "output_type": "execute_result"
    }
   ],
   "source": [
    "objTable = butler.get(refs[0])\n",
    "# how to select subsets of columns\n",
    "#objTable = butler.get(refs[0],parameters={'columns': ['ra','decl']})\n",
    "objTable"
   ]
  },
  {
   "cell_type": "code",
   "execution_count": 9,
   "id": "ee6fe2b7-3446-4ee9-8f6a-177ea5a9bfcf",
   "metadata": {
    "execution": {
     "iopub.execute_input": "2023-05-17T18:21:21.516679Z",
     "iopub.status.busy": "2023-05-17T18:21:21.516283Z",
     "iopub.status.idle": "2023-05-17T18:21:21.519849Z",
     "shell.execute_reply": "2023-05-17T18:21:21.519452Z",
     "shell.execute_reply.started": "2023-05-17T18:21:21.516663Z"
    },
    "tags": []
   },
   "outputs": [
    {
     "data": {
      "text/plain": [
       "array(['ra', 'decl', 'nDiaSources', 'radecTai', 'gPSFluxLinearSlope',\n",
       "       'gPSFluxLinearIntercept', 'gPSFluxMAD', 'gPSFluxMaxSlope',\n",
       "       'gPSFluxErrMean', 'gPSFluxMean', 'gPSFluxMeanErr', 'gPSFluxNdata',\n",
       "       'gTOTFluxMean', 'gTOTFluxMeanErr', 'gPSFluxMin', 'gPSFluxMax',\n",
       "       'gPSFluxPercentile05', 'gPSFluxPercentile25',\n",
       "       'gPSFluxPercentile50', 'gPSFluxPercentile75',\n",
       "       'gPSFluxPercentile95', 'gPSFluxSigma', 'gTOTFluxSigma',\n",
       "       'gPSFluxSkew', 'gPSFluxChi2', 'gPSFluxStetsonJ',\n",
       "       'rPSFluxLinearSlope', 'rPSFluxLinearIntercept', 'rPSFluxMAD',\n",
       "       'rPSFluxMaxSlope', 'rPSFluxErrMean', 'rPSFluxMean',\n",
       "       'rPSFluxMeanErr', 'rPSFluxNdata', 'rTOTFluxMean',\n",
       "       'rTOTFluxMeanErr', 'rPSFluxMin', 'rPSFluxMax',\n",
       "       'rPSFluxPercentile05', 'rPSFluxPercentile25',\n",
       "       'rPSFluxPercentile50', 'rPSFluxPercentile75',\n",
       "       'rPSFluxPercentile95', 'rPSFluxSigma', 'rTOTFluxSigma',\n",
       "       'rPSFluxSkew', 'rPSFluxChi2', 'rPSFluxStetsonJ',\n",
       "       'iPSFluxLinearSlope', 'iPSFluxLinearIntercept', 'iPSFluxMAD',\n",
       "       'iPSFluxMaxSlope', 'iPSFluxErrMean', 'iPSFluxMean',\n",
       "       'iPSFluxMeanErr', 'iPSFluxNdata', 'iTOTFluxMean',\n",
       "       'iTOTFluxMeanErr', 'iPSFluxMin', 'iPSFluxMax',\n",
       "       'iPSFluxPercentile05', 'iPSFluxPercentile25',\n",
       "       'iPSFluxPercentile50', 'iPSFluxPercentile75',\n",
       "       'iPSFluxPercentile95', 'iPSFluxSigma', 'iTOTFluxSigma',\n",
       "       'iPSFluxSkew', 'iPSFluxChi2', 'iPSFluxStetsonJ',\n",
       "       'zPSFluxLinearSlope', 'zPSFluxLinearIntercept', 'zPSFluxMAD',\n",
       "       'zPSFluxMaxSlope', 'zPSFluxErrMean', 'zPSFluxMean',\n",
       "       'zPSFluxMeanErr', 'zPSFluxNdata', 'zTOTFluxMean',\n",
       "       'zTOTFluxMeanErr', 'zPSFluxMin', 'zPSFluxMax',\n",
       "       'zPSFluxPercentile05', 'zPSFluxPercentile25',\n",
       "       'zPSFluxPercentile50', 'zPSFluxPercentile75',\n",
       "       'zPSFluxPercentile95', 'zPSFluxSigma', 'zTOTFluxSigma',\n",
       "       'zPSFluxSkew', 'zPSFluxChi2', 'zPSFluxStetsonJ',\n",
       "       'yPSFluxLinearSlope', 'yPSFluxLinearIntercept', 'yPSFluxMAD',\n",
       "       'yPSFluxMaxSlope', 'yPSFluxErrMean', 'yPSFluxMean',\n",
       "       'yPSFluxMeanErr', 'yPSFluxNdata', 'yTOTFluxMean',\n",
       "       'yTOTFluxMeanErr', 'yPSFluxMin', 'yPSFluxMax',\n",
       "       'yPSFluxPercentile05', 'yPSFluxPercentile25',\n",
       "       'yPSFluxPercentile50', 'yPSFluxPercentile75',\n",
       "       'yPSFluxPercentile95', 'yPSFluxSigma', 'yTOTFluxSigma',\n",
       "       'yPSFluxSkew', 'yPSFluxChi2', 'yPSFluxStetsonJ'], dtype=object)"
      ]
     },
     "execution_count": 9,
     "metadata": {},
     "output_type": "execute_result"
    }
   ],
   "source": [
    "objTable.columns.values"
   ]
  },
  {
   "cell_type": "code",
   "execution_count": 10,
   "id": "051b3bff-453f-4625-b8b4-737ad845f0cd",
   "metadata": {
    "execution": {
     "iopub.execute_input": "2023-05-17T18:21:21.995807Z",
     "iopub.status.busy": "2023-05-17T18:21:21.995650Z",
     "iopub.status.idle": "2023-05-17T18:22:06.045566Z",
     "shell.execute_reply": "2023-05-17T18:22:06.045088Z",
     "shell.execute_reply.started": "2023-05-17T18:21:21.995794Z"
    },
    "tags": []
   },
   "outputs": [
    {
     "data": {
      "text/plain": [
       "diaObjectId\n",
       "3425299777917552444     0.0\n",
       "3425273389638496005     0.0\n",
       "3425392136894297560     0.0\n",
       "3425282185731513377     0.0\n",
       "3425502088057069082     0.0\n",
       "                       ... \n",
       "3425370146661728262    38.0\n",
       "3425352554475684013    39.0\n",
       "3425352554475684103    39.0\n",
       "3425282185731506409    39.0\n",
       "3425348156429172907    41.0\n",
       "Length: 949028, dtype: float64"
      ]
     },
     "execution_count": 10,
     "metadata": {},
     "output_type": "execute_result"
    }
   ],
   "source": [
    "# identify some diaobjects with lots of epochs\n",
    "filters = ['g','r','i','z','y']\n",
    "objTable.loc[:,[f'{filt}PSFluxNdata' for filt in filters]].apply(np.sum,axis=1).sort_values()"
   ]
  },
  {
   "cell_type": "markdown",
   "id": "cf1ea0e6-2412-4e8e-908c-57a77240e31d",
   "metadata": {
    "execution": {
     "iopub.execute_input": "2023-04-19T04:41:15.719044Z",
     "iopub.status.busy": "2023-04-19T04:41:15.718764Z",
     "iopub.status.idle": "2023-04-19T04:41:15.721677Z",
     "shell.execute_reply": "2023-04-19T04:41:15.721225Z",
     "shell.execute_reply.started": "2023-04-19T04:41:15.719027Z"
    }
   },
   "source": [
    "## Source tables"
   ]
  },
  {
   "cell_type": "code",
   "execution_count": 11,
   "id": "c7df9b9b-8985-4445-b5b3-e29190155a67",
   "metadata": {
    "execution": {
     "iopub.execute_input": "2023-05-17T18:22:06.051723Z",
     "iopub.status.busy": "2023-05-17T18:22:06.051593Z",
     "iopub.status.idle": "2023-05-17T18:22:06.057955Z",
     "shell.execute_reply": "2023-05-17T18:22:06.057552Z",
     "shell.execute_reply.started": "2023-05-17T18:22:06.051712Z"
    },
    "tags": []
   },
   "outputs": [],
   "source": [
    "refs = sorted(registry.queryDatasets(\"diaSourceTable_tract\"))"
   ]
  },
  {
   "cell_type": "code",
   "execution_count": 12,
   "id": "88711a61-bd88-4fa0-b970-c002f04f19d4",
   "metadata": {
    "execution": {
     "iopub.execute_input": "2023-05-17T18:22:07.424077Z",
     "iopub.status.busy": "2023-05-17T18:22:07.423834Z",
     "iopub.status.idle": "2023-05-17T18:22:07.427064Z",
     "shell.execute_reply": "2023-05-17T18:22:07.426623Z",
     "shell.execute_reply.started": "2023-05-17T18:22:07.424060Z"
    },
    "tags": []
   },
   "outputs": [
    {
     "name": "stdout",
     "output_type": "stream",
     "text": [
      "{skymap: 'hsc_rings_v1', tract: 9615}\n",
      "{skymap: 'hsc_rings_v1', tract: 9697}\n",
      "{skymap: 'hsc_rings_v1', tract: 9813}\n"
     ]
    }
   ],
   "source": [
    "for ref in refs: print(ref.dataId.full)"
   ]
  },
  {
   "cell_type": "code",
   "execution_count": 13,
   "id": "9a8cc15d-a550-4d0f-9e88-80934df213f5",
   "metadata": {
    "execution": {
     "iopub.execute_input": "2023-05-17T18:22:07.868784Z",
     "iopub.status.busy": "2023-05-17T18:22:07.868298Z",
     "iopub.status.idle": "2023-05-17T18:22:08.032620Z",
     "shell.execute_reply": "2023-05-17T18:22:08.032113Z",
     "shell.execute_reply.started": "2023-05-17T18:22:07.868768Z"
    },
    "tags": []
   },
   "outputs": [
    {
     "data": {
      "text/html": [
       "<div>\n",
       "<style scoped>\n",
       "    .dataframe tbody tr th:only-of-type {\n",
       "        vertical-align: middle;\n",
       "    }\n",
       "\n",
       "    .dataframe tbody tr th {\n",
       "        vertical-align: top;\n",
       "    }\n",
       "\n",
       "    .dataframe thead th {\n",
       "        text-align: right;\n",
       "    }\n",
       "</style>\n",
       "<table border=\"1\" class=\"dataframe\">\n",
       "  <thead>\n",
       "    <tr style=\"text-align: right;\">\n",
       "      <th></th>\n",
       "      <th>filterName</th>\n",
       "      <th>diaObjectId</th>\n",
       "      <th>midPointTai</th>\n",
       "      <th>ra</th>\n",
       "      <th>decl</th>\n",
       "      <th>psFlux</th>\n",
       "      <th>psFluxErr</th>\n",
       "    </tr>\n",
       "    <tr>\n",
       "      <th>diaSourceId</th>\n",
       "      <th></th>\n",
       "      <th></th>\n",
       "      <th></th>\n",
       "      <th></th>\n",
       "      <th></th>\n",
       "      <th></th>\n",
       "      <th></th>\n",
       "    </tr>\n",
       "  </thead>\n",
       "  <tbody>\n",
       "    <tr>\n",
       "      <th>201880642781390</th>\n",
       "      <td>y</td>\n",
       "      <td>3425264593545462643</td>\n",
       "      <td>56741.629032</td>\n",
       "      <td>216.960597</td>\n",
       "      <td>-0.073707</td>\n",
       "      <td>-1191.955816</td>\n",
       "      <td>243.198961</td>\n",
       "    </tr>\n",
       "    <tr>\n",
       "      <th>569529843319232</th>\n",
       "      <td>i</td>\n",
       "      <td>3425264593545462643</td>\n",
       "      <td>56744.616684</td>\n",
       "      <td>216.960631</td>\n",
       "      <td>-0.073730</td>\n",
       "      <td>119.179375</td>\n",
       "      <td>61.713948</td>\n",
       "    </tr>\n",
       "    <tr>\n",
       "      <th>10270155862966957</th>\n",
       "      <td>r</td>\n",
       "      <td>3425264593545462643</td>\n",
       "      <td>57099.633578</td>\n",
       "      <td>216.960624</td>\n",
       "      <td>-0.073768</td>\n",
       "      <td>544.873854</td>\n",
       "      <td>50.054954</td>\n",
       "    </tr>\n",
       "    <tr>\n",
       "      <th>549826680848770</th>\n",
       "      <td>i</td>\n",
       "      <td>3425264593545462643</td>\n",
       "      <td>56744.545180</td>\n",
       "      <td>216.960553</td>\n",
       "      <td>-0.073701</td>\n",
       "      <td>-349.268988</td>\n",
       "      <td>46.007548</td>\n",
       "    </tr>\n",
       "    <tr>\n",
       "      <th>10251343906210458</th>\n",
       "      <td>r</td>\n",
       "      <td>3425264593545462643</td>\n",
       "      <td>57099.589358</td>\n",
       "      <td>216.960628</td>\n",
       "      <td>-0.073753</td>\n",
       "      <td>593.962955</td>\n",
       "      <td>47.595019</td>\n",
       "    </tr>\n",
       "    <tr>\n",
       "      <th>...</th>\n",
       "      <td>...</td>\n",
       "      <td>...</td>\n",
       "      <td>...</td>\n",
       "      <td>...</td>\n",
       "      <td>...</td>\n",
       "      <td>...</td>\n",
       "      <td>...</td>\n",
       "    </tr>\n",
       "    <tr>\n",
       "      <th>11610333835690094</th>\n",
       "      <td>y</td>\n",
       "      <td>3425616437266356005</td>\n",
       "      <td>57110.428346</td>\n",
       "      <td>215.616441</td>\n",
       "      <td>1.564203</td>\n",
       "      <td>2623.135703</td>\n",
       "      <td>247.826403</td>\n",
       "    </tr>\n",
       "    <tr>\n",
       "      <th>11610333835690095</th>\n",
       "      <td>y</td>\n",
       "      <td>3425616437266356006</td>\n",
       "      <td>57110.428346</td>\n",
       "      <td>215.620109</td>\n",
       "      <td>1.579734</td>\n",
       "      <td>6057.184253</td>\n",
       "      <td>325.333169</td>\n",
       "    </tr>\n",
       "    <tr>\n",
       "      <th>11610333835690096</th>\n",
       "      <td>y</td>\n",
       "      <td>3425616437266356007</td>\n",
       "      <td>57110.428346</td>\n",
       "      <td>215.618651</td>\n",
       "      <td>1.564250</td>\n",
       "      <td>1452.406183</td>\n",
       "      <td>249.545325</td>\n",
       "    </tr>\n",
       "    <tr>\n",
       "      <th>11610333835690097</th>\n",
       "      <td>y</td>\n",
       "      <td>3425616437266356008</td>\n",
       "      <td>57110.428346</td>\n",
       "      <td>215.623972</td>\n",
       "      <td>1.575879</td>\n",
       "      <td>2269.910553</td>\n",
       "      <td>223.725357</td>\n",
       "    </tr>\n",
       "    <tr>\n",
       "      <th>11610333835690099</th>\n",
       "      <td>y</td>\n",
       "      <td>3425616437266356009</td>\n",
       "      <td>57110.428346</td>\n",
       "      <td>215.631957</td>\n",
       "      <td>1.564523</td>\n",
       "      <td>1496.917816</td>\n",
       "      <td>272.651390</td>\n",
       "    </tr>\n",
       "  </tbody>\n",
       "</table>\n",
       "<p>1558111 rows × 7 columns</p>\n",
       "</div>"
      ],
      "text/plain": [
       "                  filterName          diaObjectId   midPointTai          ra   \n",
       "diaSourceId                                                                   \n",
       "201880642781390            y  3425264593545462643  56741.629032  216.960597  \\\n",
       "569529843319232            i  3425264593545462643  56744.616684  216.960631   \n",
       "10270155862966957          r  3425264593545462643  57099.633578  216.960624   \n",
       "549826680848770            i  3425264593545462643  56744.545180  216.960553   \n",
       "10251343906210458          r  3425264593545462643  57099.589358  216.960628   \n",
       "...                      ...                  ...           ...         ...   \n",
       "11610333835690094          y  3425616437266356005  57110.428346  215.616441   \n",
       "11610333835690095          y  3425616437266356006  57110.428346  215.620109   \n",
       "11610333835690096          y  3425616437266356007  57110.428346  215.618651   \n",
       "11610333835690097          y  3425616437266356008  57110.428346  215.623972   \n",
       "11610333835690099          y  3425616437266356009  57110.428346  215.631957   \n",
       "\n",
       "                       decl       psFlux   psFluxErr  \n",
       "diaSourceId                                           \n",
       "201880642781390   -0.073707 -1191.955816  243.198961  \n",
       "569529843319232   -0.073730   119.179375   61.713948  \n",
       "10270155862966957 -0.073768   544.873854   50.054954  \n",
       "549826680848770   -0.073701  -349.268988   46.007548  \n",
       "10251343906210458 -0.073753   593.962955   47.595019  \n",
       "...                     ...          ...         ...  \n",
       "11610333835690094  1.564203  2623.135703  247.826403  \n",
       "11610333835690095  1.579734  6057.184253  325.333169  \n",
       "11610333835690096  1.564250  1452.406183  249.545325  \n",
       "11610333835690097  1.575879  2269.910553  223.725357  \n",
       "11610333835690099  1.564523  1496.917816  272.651390  \n",
       "\n",
       "[1558111 rows x 7 columns]"
      ]
     },
     "execution_count": 13,
     "metadata": {},
     "output_type": "execute_result"
    }
   ],
   "source": [
    "# this is an extremeley large table, so let's load just a handful of columns:\n",
    "lc_cols = ['filterName','diaObjectId','midPointTai','ra','decl','psFlux','psFluxErr']\n",
    "sourceTable = butler.get(refs[0],parameters={'columns':lc_cols})\n",
    "sourceTable"
   ]
  },
  {
   "cell_type": "code",
   "execution_count": 14,
   "id": "e8b0449c-be60-4e6b-9036-66325a3ff511",
   "metadata": {
    "execution": {
     "iopub.execute_input": "2023-05-17T18:22:08.837184Z",
     "iopub.status.busy": "2023-05-17T18:22:08.836814Z",
     "iopub.status.idle": "2023-05-17T18:22:08.840618Z",
     "shell.execute_reply": "2023-05-17T18:22:08.840200Z",
     "shell.execute_reply.started": "2023-05-17T18:22:08.837166Z"
    },
    "tags": []
   },
   "outputs": [
    {
     "data": {
      "text/plain": [
       "Index(['filterName', 'diaObjectId', 'midPointTai', 'ra', 'decl', 'psFlux',\n",
       "       'psFluxErr'],\n",
       "      dtype='object')"
      ]
     },
     "execution_count": 14,
     "metadata": {},
     "output_type": "execute_result"
    }
   ],
   "source": [
    "sourceTable.columns"
   ]
  },
  {
   "cell_type": "markdown",
   "id": "f5e4e6f2-c063-4873-b1e5-5fc67cfffe9f",
   "metadata": {},
   "source": [
    "Let's find a DIAObject with lots of detections"
   ]
  },
  {
   "cell_type": "code",
   "execution_count": 70,
   "id": "5952d7f9-ce77-4fd2-be0e-d665be9de528",
   "metadata": {
    "execution": {
     "iopub.execute_input": "2023-05-16T17:48:24.053881Z",
     "iopub.status.busy": "2023-05-16T17:48:24.053640Z",
     "iopub.status.idle": "2023-05-16T17:48:27.113596Z",
     "shell.execute_reply": "2023-05-16T17:48:27.113039Z",
     "shell.execute_reply.started": "2023-05-16T17:48:24.053862Z"
    },
    "tags": []
   },
   "outputs": [],
   "source": [
    "count = sourceTable.iloc[:100000].groupby('diaObjectId').agg(len)"
   ]
  },
  {
   "cell_type": "code",
   "execution_count": 79,
   "id": "6eec9b9f-ac5a-4b0f-9c7f-449ac4e33bf1",
   "metadata": {
    "execution": {
     "iopub.execute_input": "2023-05-16T17:59:14.191157Z",
     "iopub.status.busy": "2023-05-16T17:59:14.190935Z",
     "iopub.status.idle": "2023-05-16T17:59:14.195573Z",
     "shell.execute_reply": "2023-05-16T17:59:14.195141Z",
     "shell.execute_reply.started": "2023-05-16T17:59:14.191140Z"
    },
    "tags": []
   },
   "outputs": [
    {
     "data": {
      "text/plain": [
       "filterName     39\n",
       "midPointTai    39\n",
       "ra             39\n",
       "decl           39\n",
       "psFlux         39\n",
       "psFluxErr      39\n",
       "Name: 3425282185731506409, dtype: int64"
      ]
     },
     "execution_count": 79,
     "metadata": {},
     "output_type": "execute_result"
    }
   ],
   "source": [
    "count.iloc[count['filterName'].argmax()]"
   ]
  },
  {
   "cell_type": "code",
   "execution_count": 80,
   "id": "7e6b85c1-71bf-4ea3-b776-c825e52b1687",
   "metadata": {
    "execution": {
     "iopub.execute_input": "2023-05-16T17:59:17.250273Z",
     "iopub.status.busy": "2023-05-16T17:59:17.249972Z",
     "iopub.status.idle": "2023-05-16T17:59:17.261506Z",
     "shell.execute_reply": "2023-05-16T17:59:17.261023Z",
     "shell.execute_reply.started": "2023-05-16T17:59:17.250257Z"
    },
    "tags": []
   },
   "outputs": [
    {
     "data": {
      "text/html": [
       "<div>\n",
       "<style scoped>\n",
       "    .dataframe tbody tr th:only-of-type {\n",
       "        vertical-align: middle;\n",
       "    }\n",
       "\n",
       "    .dataframe tbody tr th {\n",
       "        vertical-align: top;\n",
       "    }\n",
       "\n",
       "    .dataframe thead th {\n",
       "        text-align: right;\n",
       "    }\n",
       "</style>\n",
       "<table border=\"1\" class=\"dataframe\">\n",
       "  <thead>\n",
       "    <tr style=\"text-align: right;\">\n",
       "      <th></th>\n",
       "      <th>filterName</th>\n",
       "      <th>diaObjectId</th>\n",
       "      <th>midPointTai</th>\n",
       "      <th>ra</th>\n",
       "      <th>decl</th>\n",
       "      <th>psFlux</th>\n",
       "      <th>psFluxErr</th>\n",
       "    </tr>\n",
       "    <tr>\n",
       "      <th>diaSourceId</th>\n",
       "      <th></th>\n",
       "      <th></th>\n",
       "      <th></th>\n",
       "      <th></th>\n",
       "      <th></th>\n",
       "      <th></th>\n",
       "      <th></th>\n",
       "    </tr>\n",
       "  </thead>\n",
       "  <tbody>\n",
       "    <tr>\n",
       "      <th>201880642781451</th>\n",
       "      <td>y</td>\n",
       "      <td>3425264593545461819</td>\n",
       "      <td>56741.629032</td>\n",
       "      <td>217.029675</td>\n",
       "      <td>-0.061620</td>\n",
       "      <td>2822.906780</td>\n",
       "      <td>293.853234</td>\n",
       "    </tr>\n",
       "    <tr>\n",
       "      <th>569529843319375</th>\n",
       "      <td>i</td>\n",
       "      <td>3425264593545461819</td>\n",
       "      <td>56744.616684</td>\n",
       "      <td>217.029689</td>\n",
       "      <td>-0.061624</td>\n",
       "      <td>7699.329790</td>\n",
       "      <td>114.883803</td>\n",
       "    </tr>\n",
       "    <tr>\n",
       "      <th>11663430368887032</th>\n",
       "      <td>z</td>\n",
       "      <td>3425264593545461819</td>\n",
       "      <td>57110.626265</td>\n",
       "      <td>217.029698</td>\n",
       "      <td>-0.061606</td>\n",
       "      <td>38968.855922</td>\n",
       "      <td>265.350616</td>\n",
       "    </tr>\n",
       "    <tr>\n",
       "      <th>199310104854790</th>\n",
       "      <td>y</td>\n",
       "      <td>3425264593545461819</td>\n",
       "      <td>56741.620087</td>\n",
       "      <td>217.029715</td>\n",
       "      <td>-0.061674</td>\n",
       "      <td>2957.931498</td>\n",
       "      <td>298.177432</td>\n",
       "    </tr>\n",
       "    <tr>\n",
       "      <th>565241318474295</th>\n",
       "      <td>i</td>\n",
       "      <td>3425264593545461819</td>\n",
       "      <td>56744.599638</td>\n",
       "      <td>217.029712</td>\n",
       "      <td>-0.061630</td>\n",
       "      <td>183.087372</td>\n",
       "      <td>101.779247</td>\n",
       "    </tr>\n",
       "    <tr>\n",
       "      <th>11659141844041959</th>\n",
       "      <td>z</td>\n",
       "      <td>3425264593545461819</td>\n",
       "      <td>57110.612563</td>\n",
       "      <td>217.029708</td>\n",
       "      <td>-0.061622</td>\n",
       "      <td>37656.748296</td>\n",
       "      <td>260.693140</td>\n",
       "    </tr>\n",
       "    <tr>\n",
       "      <th>10270155862967070</th>\n",
       "      <td>r</td>\n",
       "      <td>3425264593545461819</td>\n",
       "      <td>57099.633578</td>\n",
       "      <td>217.029729</td>\n",
       "      <td>-0.061607</td>\n",
       "      <td>-691.137106</td>\n",
       "      <td>132.155182</td>\n",
       "    </tr>\n",
       "    <tr>\n",
       "      <th>11197868798902916</th>\n",
       "      <td>g</td>\n",
       "      <td>3425264593545461819</td>\n",
       "      <td>57106.611946</td>\n",
       "      <td>217.029727</td>\n",
       "      <td>-0.061637</td>\n",
       "      <td>660.285803</td>\n",
       "      <td>104.062677</td>\n",
       "    </tr>\n",
       "    <tr>\n",
       "      <th>203613662085447</th>\n",
       "      <td>y</td>\n",
       "      <td>3425264593545461819</td>\n",
       "      <td>56741.635250</td>\n",
       "      <td>217.029705</td>\n",
       "      <td>-0.061637</td>\n",
       "      <td>2609.472365</td>\n",
       "      <td>301.339895</td>\n",
       "    </tr>\n",
       "    <tr>\n",
       "      <th>554082993439253</th>\n",
       "      <td>i</td>\n",
       "      <td>3425264593545461819</td>\n",
       "      <td>56744.560834</td>\n",
       "      <td>217.029729</td>\n",
       "      <td>-0.061601</td>\n",
       "      <td>-548.370381</td>\n",
       "      <td>113.314823</td>\n",
       "    </tr>\n",
       "    <tr>\n",
       "      <th>11647983519007058</th>\n",
       "      <td>z</td>\n",
       "      <td>3425264593545461819</td>\n",
       "      <td>57110.575286</td>\n",
       "      <td>217.029681</td>\n",
       "      <td>-0.061647</td>\n",
       "      <td>6357.818093</td>\n",
       "      <td>207.399192</td>\n",
       "    </tr>\n",
       "    <tr>\n",
       "      <th>10258993242964441</th>\n",
       "      <td>r</td>\n",
       "      <td>3425264593545461819</td>\n",
       "      <td>57099.604791</td>\n",
       "      <td>217.029720</td>\n",
       "      <td>-0.061609</td>\n",
       "      <td>6671.926409</td>\n",
       "      <td>134.500553</td>\n",
       "    </tr>\n",
       "    <tr>\n",
       "      <th>11186706178900348</th>\n",
       "      <td>g</td>\n",
       "      <td>3425264593545461819</td>\n",
       "      <td>57106.584032</td>\n",
       "      <td>217.029644</td>\n",
       "      <td>-0.061674</td>\n",
       "      <td>-632.710462</td>\n",
       "      <td>76.126895</td>\n",
       "    </tr>\n",
       "    <tr>\n",
       "      <th>549824533364866</th>\n",
       "      <td>i</td>\n",
       "      <td>3425264593545461819</td>\n",
       "      <td>56744.545180</td>\n",
       "      <td>217.029707</td>\n",
       "      <td>-0.061622</td>\n",
       "      <td>-597.980927</td>\n",
       "      <td>98.503913</td>\n",
       "    </tr>\n",
       "    <tr>\n",
       "      <th>11642866065473590</th>\n",
       "      <td>z</td>\n",
       "      <td>3425264593545461819</td>\n",
       "      <td>57110.558944</td>\n",
       "      <td>217.029675</td>\n",
       "      <td>-0.061604</td>\n",
       "      <td>-6505.149338</td>\n",
       "      <td>161.658224</td>\n",
       "    </tr>\n",
       "    <tr>\n",
       "      <th>202827683070159</th>\n",
       "      <td>y</td>\n",
       "      <td>3425264593545461819</td>\n",
       "      <td>56741.632377</td>\n",
       "      <td>217.029694</td>\n",
       "      <td>-0.061636</td>\n",
       "      <td>2411.718732</td>\n",
       "      <td>268.858671</td>\n",
       "    </tr>\n",
       "    <tr>\n",
       "      <th>559309968638256</th>\n",
       "      <td>i</td>\n",
       "      <td>3425264593545461819</td>\n",
       "      <td>56744.578738</td>\n",
       "      <td>217.029721</td>\n",
       "      <td>-0.061590</td>\n",
       "      <td>-2328.792819</td>\n",
       "      <td>92.450459</td>\n",
       "    </tr>\n",
       "    <tr>\n",
       "      <th>11652351500746972</th>\n",
       "      <td>z</td>\n",
       "      <td>3425264593545461819</td>\n",
       "      <td>57110.590681</td>\n",
       "      <td>217.029714</td>\n",
       "      <td>-0.061608</td>\n",
       "      <td>16618.341387</td>\n",
       "      <td>183.585398</td>\n",
       "    </tr>\n",
       "    <tr>\n",
       "      <th>165042708283620</th>\n",
       "      <td>y</td>\n",
       "      <td>3425264593545461819</td>\n",
       "      <td>56741.506686</td>\n",
       "      <td>217.029722</td>\n",
       "      <td>-0.061615</td>\n",
       "      <td>16374.887999</td>\n",
       "      <td>417.783611</td>\n",
       "    </tr>\n",
       "    <tr>\n",
       "      <th>542140836872767</th>\n",
       "      <td>i</td>\n",
       "      <td>3425264593545461819</td>\n",
       "      <td>56744.524640</td>\n",
       "      <td>217.029713</td>\n",
       "      <td>-0.061612</td>\n",
       "      <td>2139.955775</td>\n",
       "      <td>107.139461</td>\n",
       "    </tr>\n",
       "    <tr>\n",
       "      <th>10251343906210377</th>\n",
       "      <td>r</td>\n",
       "      <td>3425264593545461819</td>\n",
       "      <td>57099.589358</td>\n",
       "      <td>217.029710</td>\n",
       "      <td>-0.061578</td>\n",
       "      <td>6303.333921</td>\n",
       "      <td>139.480078</td>\n",
       "    </tr>\n",
       "    <tr>\n",
       "      <th>11179056842146132</th>\n",
       "      <td>g</td>\n",
       "      <td>3425264593545461819</td>\n",
       "      <td>57106.568952</td>\n",
       "      <td>217.029695</td>\n",
       "      <td>-0.061619</td>\n",
       "      <td>-672.191111</td>\n",
       "      <td>110.431203</td>\n",
       "    </tr>\n",
       "    <tr>\n",
       "      <th>11635182368981376</th>\n",
       "      <td>z</td>\n",
       "      <td>3425264593545461819</td>\n",
       "      <td>57110.542273</td>\n",
       "      <td>217.029728</td>\n",
       "      <td>-0.061580</td>\n",
       "      <td>-10516.490044</td>\n",
       "      <td>185.378016</td>\n",
       "    </tr>\n",
       "    <tr>\n",
       "      <th>10275402165518446</th>\n",
       "      <td>r</td>\n",
       "      <td>3425264593545461819</td>\n",
       "      <td>57099.645146</td>\n",
       "      <td>217.029697</td>\n",
       "      <td>-0.061625</td>\n",
       "      <td>-4456.394017</td>\n",
       "      <td>121.592269</td>\n",
       "    </tr>\n",
       "    <tr>\n",
       "      <th>11203115101454429</th>\n",
       "      <td>g</td>\n",
       "      <td>3425264593545461819</td>\n",
       "      <td>57106.623424</td>\n",
       "      <td>217.029707</td>\n",
       "      <td>-0.061615</td>\n",
       "      <td>2906.784139</td>\n",
       "      <td>100.462558</td>\n",
       "    </tr>\n",
       "    <tr>\n",
       "      <th>166773580103779</th>\n",
       "      <td>y</td>\n",
       "      <td>3425264593545461819</td>\n",
       "      <td>56741.510958</td>\n",
       "      <td>217.029724</td>\n",
       "      <td>-0.061632</td>\n",
       "      <td>16130.840061</td>\n",
       "      <td>362.387281</td>\n",
       "    </tr>\n",
       "    <tr>\n",
       "      <th>571359499387182</th>\n",
       "      <td>i</td>\n",
       "      <td>3425264593545461819</td>\n",
       "      <td>56744.620495</td>\n",
       "      <td>217.029738</td>\n",
       "      <td>-0.061594</td>\n",
       "      <td>10700.044033</td>\n",
       "      <td>113.092202</td>\n",
       "    </tr>\n",
       "    <tr>\n",
       "      <th>10273690621051093</th>\n",
       "      <td>r</td>\n",
       "      <td>3425264593545461819</td>\n",
       "      <td>57099.640883</td>\n",
       "      <td>217.029730</td>\n",
       "      <td>-0.061616</td>\n",
       "      <td>-3775.905146</td>\n",
       "      <td>136.103610</td>\n",
       "    </tr>\n",
       "    <tr>\n",
       "      <th>11201403556987056</th>\n",
       "      <td>g</td>\n",
       "      <td>3425264593545461819</td>\n",
       "      <td>57106.619100</td>\n",
       "      <td>217.029720</td>\n",
       "      <td>-0.061589</td>\n",
       "      <td>3007.911856</td>\n",
       "      <td>108.123741</td>\n",
       "    </tr>\n",
       "    <tr>\n",
       "      <th>11636913240801508</th>\n",
       "      <td>z</td>\n",
       "      <td>3425264593545461819</td>\n",
       "      <td>57110.545741</td>\n",
       "      <td>217.029717</td>\n",
       "      <td>-0.061606</td>\n",
       "      <td>-9959.592323</td>\n",
       "      <td>177.394235</td>\n",
       "    </tr>\n",
       "    <tr>\n",
       "      <th>10539186171937319</th>\n",
       "      <td>i</td>\n",
       "      <td>3425264593545461819</td>\n",
       "      <td>57101.622524</td>\n",
       "      <td>217.029708</td>\n",
       "      <td>-0.061592</td>\n",
       "      <td>-66101.435677</td>\n",
       "      <td>119.092925</td>\n",
       "    </tr>\n",
       "    <tr>\n",
       "      <th>11625812897825131</th>\n",
       "      <td>y</td>\n",
       "      <td>3425264593545461819</td>\n",
       "      <td>57110.477642</td>\n",
       "      <td>217.029726</td>\n",
       "      <td>-0.061534</td>\n",
       "      <td>-5070.739387</td>\n",
       "      <td>225.741511</td>\n",
       "    </tr>\n",
       "    <tr>\n",
       "      <th>11660172636193016</th>\n",
       "      <td>z</td>\n",
       "      <td>3425264593545461819</td>\n",
       "      <td>57110.615273</td>\n",
       "      <td>217.029702</td>\n",
       "      <td>-0.061624</td>\n",
       "      <td>-76429.656833</td>\n",
       "      <td>350.331119</td>\n",
       "    </tr>\n",
       "  </tbody>\n",
       "</table>\n",
       "</div>"
      ],
      "text/plain": [
       "                  filterName          diaObjectId   midPointTai          ra   \n",
       "diaSourceId                                                                   \n",
       "201880642781451            y  3425264593545461819  56741.629032  217.029675  \\\n",
       "569529843319375            i  3425264593545461819  56744.616684  217.029689   \n",
       "11663430368887032          z  3425264593545461819  57110.626265  217.029698   \n",
       "199310104854790            y  3425264593545461819  56741.620087  217.029715   \n",
       "565241318474295            i  3425264593545461819  56744.599638  217.029712   \n",
       "11659141844041959          z  3425264593545461819  57110.612563  217.029708   \n",
       "10270155862967070          r  3425264593545461819  57099.633578  217.029729   \n",
       "11197868798902916          g  3425264593545461819  57106.611946  217.029727   \n",
       "203613662085447            y  3425264593545461819  56741.635250  217.029705   \n",
       "554082993439253            i  3425264593545461819  56744.560834  217.029729   \n",
       "11647983519007058          z  3425264593545461819  57110.575286  217.029681   \n",
       "10258993242964441          r  3425264593545461819  57099.604791  217.029720   \n",
       "11186706178900348          g  3425264593545461819  57106.584032  217.029644   \n",
       "549824533364866            i  3425264593545461819  56744.545180  217.029707   \n",
       "11642866065473590          z  3425264593545461819  57110.558944  217.029675   \n",
       "202827683070159            y  3425264593545461819  56741.632377  217.029694   \n",
       "559309968638256            i  3425264593545461819  56744.578738  217.029721   \n",
       "11652351500746972          z  3425264593545461819  57110.590681  217.029714   \n",
       "165042708283620            y  3425264593545461819  56741.506686  217.029722   \n",
       "542140836872767            i  3425264593545461819  56744.524640  217.029713   \n",
       "10251343906210377          r  3425264593545461819  57099.589358  217.029710   \n",
       "11179056842146132          g  3425264593545461819  57106.568952  217.029695   \n",
       "11635182368981376          z  3425264593545461819  57110.542273  217.029728   \n",
       "10275402165518446          r  3425264593545461819  57099.645146  217.029697   \n",
       "11203115101454429          g  3425264593545461819  57106.623424  217.029707   \n",
       "166773580103779            y  3425264593545461819  56741.510958  217.029724   \n",
       "571359499387182            i  3425264593545461819  56744.620495  217.029738   \n",
       "10273690621051093          r  3425264593545461819  57099.640883  217.029730   \n",
       "11201403556987056          g  3425264593545461819  57106.619100  217.029720   \n",
       "11636913240801508          z  3425264593545461819  57110.545741  217.029717   \n",
       "10539186171937319          i  3425264593545461819  57101.622524  217.029708   \n",
       "11625812897825131          y  3425264593545461819  57110.477642  217.029726   \n",
       "11660172636193016          z  3425264593545461819  57110.615273  217.029702   \n",
       "\n",
       "                       decl        psFlux   psFluxErr  \n",
       "diaSourceId                                            \n",
       "201880642781451   -0.061620   2822.906780  293.853234  \n",
       "569529843319375   -0.061624   7699.329790  114.883803  \n",
       "11663430368887032 -0.061606  38968.855922  265.350616  \n",
       "199310104854790   -0.061674   2957.931498  298.177432  \n",
       "565241318474295   -0.061630    183.087372  101.779247  \n",
       "11659141844041959 -0.061622  37656.748296  260.693140  \n",
       "10270155862967070 -0.061607   -691.137106  132.155182  \n",
       "11197868798902916 -0.061637    660.285803  104.062677  \n",
       "203613662085447   -0.061637   2609.472365  301.339895  \n",
       "554082993439253   -0.061601   -548.370381  113.314823  \n",
       "11647983519007058 -0.061647   6357.818093  207.399192  \n",
       "10258993242964441 -0.061609   6671.926409  134.500553  \n",
       "11186706178900348 -0.061674   -632.710462   76.126895  \n",
       "549824533364866   -0.061622   -597.980927   98.503913  \n",
       "11642866065473590 -0.061604  -6505.149338  161.658224  \n",
       "202827683070159   -0.061636   2411.718732  268.858671  \n",
       "559309968638256   -0.061590  -2328.792819   92.450459  \n",
       "11652351500746972 -0.061608  16618.341387  183.585398  \n",
       "165042708283620   -0.061615  16374.887999  417.783611  \n",
       "542140836872767   -0.061612   2139.955775  107.139461  \n",
       "10251343906210377 -0.061578   6303.333921  139.480078  \n",
       "11179056842146132 -0.061619   -672.191111  110.431203  \n",
       "11635182368981376 -0.061580 -10516.490044  185.378016  \n",
       "10275402165518446 -0.061625  -4456.394017  121.592269  \n",
       "11203115101454429 -0.061615   2906.784139  100.462558  \n",
       "166773580103779   -0.061632  16130.840061  362.387281  \n",
       "571359499387182   -0.061594  10700.044033  113.092202  \n",
       "10273690621051093 -0.061616  -3775.905146  136.103610  \n",
       "11201403556987056 -0.061589   3007.911856  108.123741  \n",
       "11636913240801508 -0.061606  -9959.592323  177.394235  \n",
       "10539186171937319 -0.061592 -66101.435677  119.092925  \n",
       "11625812897825131 -0.061534  -5070.739387  225.741511  \n",
       "11660172636193016 -0.061624 -76429.656833  350.331119  "
      ]
     },
     "execution_count": 80,
     "metadata": {},
     "output_type": "execute_result"
    }
   ],
   "source": [
    "test_DiaObjectId = 3425264593545461819\n",
    "wt = sourceTable.diaObjectId == test_DiaObjectId\n",
    "sourceTable[wt]"
   ]
  },
  {
   "cell_type": "code",
   "execution_count": null,
   "id": "22e3554e-1af6-4c38-84d7-c063a016fbf7",
   "metadata": {},
   "outputs": [],
   "source": [
    "# a nontrivial example would be: compute max dm/dt per (diaObjectId, band)"
   ]
  },
  {
   "cell_type": "code",
   "execution_count": 54,
   "id": "481a1612-0af0-4c98-b63f-15783814e282",
   "metadata": {
    "execution": {
     "iopub.execute_input": "2023-05-17T18:38:30.256205Z",
     "iopub.status.busy": "2023-05-17T18:38:30.255531Z",
     "iopub.status.idle": "2023-05-17T18:38:30.261797Z",
     "shell.execute_reply": "2023-05-17T18:38:30.261354Z",
     "shell.execute_reply.started": "2023-05-17T18:38:30.256188Z"
    },
    "tags": []
   },
   "outputs": [],
   "source": [
    "from lsst.analysis.tools.interfaces import AnalysisTool\n",
    "from lsst.pex.config import Field\n",
    "\n",
    "from lsst.analysis.tools.actions.scalar.scalarActions import CountAction, FracThreshold, MedianAction\n",
    "from lsst.analysis.tools.actions.vector import (\n",
    "    BandSelector,\n",
    "    LoadVector,\n",
    "    MultiCriteriaDownselectVector,\n",
    "    PerGroupStatistic,\n",
    "    ThresholdSelector,\n",
    ")\n",
    "\n",
    "class DiaSourceRange(AnalysisTool):\n",
    "    \"\"\"Example AnalysisTool which computes the max-min DiaSource flux.\n",
    "    \n",
    "    adapted in part from StellarPhotometricRepeatability\n",
    "       \n",
    "    \"\"\"\n",
    "#    Compute photometric repeatability from multiple measurements of a set of\n",
    "#    stars. First, a set of per-source quality criteria are applied. Second,\n",
    "#    the individual source measurements are grouped together by object index\n",
    "#    and per-group quantities are computed (e.g., a representative S/N for the\n",
    "#    group based on the median of associated per-source measurements). Third,\n",
    "#    additional per-group criteria are applied. Fourth, summary statistics are\n",
    "#    computed for the filtered groups\n",
    "\n",
    "    fluxType = Field[str](doc=\"Flux type to calculate range with\", default=\"psFlux\")\n",
    "\n",
    "    def setDefaults(self):\n",
    "        super().setDefaults()\n",
    "\n",
    "        # Apply per-source selection criteria\n",
    "        self.prep.selectors.bandSelector = BandSelector()\n",
    "        self.prep.selectors.bandSelector.vectorKey  = 'band'\n",
    "        self.prep.selectors.bandSelector.bands = ['y']\n",
    "        print(self.prep)\n",
    "\n",
    "        # Compute per-group quantities\n",
    "        self.process.buildActions.perGroupRange = PerGroupStatistic()\n",
    "        self.process.buildActions.perGroupRange.buildAction.vectorKey = f\"{self.fluxType}\"\n",
    "        self.process.buildActions.perGroupRange.func = \"median\"\n",
    "        self.process.buildActions.perGroupRange.groupKey = \"diaObjectId\"\n",
    "\n",
    "        self.process.buildActions.perGroupCount = PerGroupStatistic()\n",
    "        self.process.buildActions.perGroupCount.buildAction.vectorKey = f\"{self.fluxType}\"\n",
    "        self.process.buildActions.perGroupCount.func = \"count\"\n",
    "        self.process.buildActions.perGroupCount.groupKey = \"diaObjectId\"\n",
    "\n",
    "\n",
    " #       # Filter on per-group quantities\n",
    " #       self.process.filterActions.perGroupRangeFiltered = MultiCriteriaDownselectVector(\n",
    " #           vectorKey=\"perGroupRange\"\n",
    " #       )\n",
    " #       # require at least two detections\n",
    " ##       self.process.filterActions.perGroupRangeFiltered.selectors.count = ThresholdSelector(\n",
    "  #          vectorKey=\"perGroupCount\",\n",
    "  #          op=\"ge\",\n",
    "  #          threshold=2,\n",
    "  #      )\n",
    "\n",
    "        # Compute summary statistics on filtered groups\n",
    "        self.process.calculateActions.diaSourceRange = MedianAction(vectorKey=\"perGroupRange\")\n",
    "        self.process.calculateActions.diaSourceRangeNsources = CountAction(vectorKey=\"perGroupRange\")\n",
    "\n",
    "        self.produce.metric.units = {  # type: ignore\n",
    "            \"diaSourceRange\": \"nJy\",\n",
    "            \"diaSourceRangeNsources\": \"ct\",\n",
    "        }\n",
    "        self.produce.metric.newNames = {\n",
    "            \"diaSourceRange\": \"{band}_diaSourceRange\",\n",
    "            \"diaSourceRangeNsources\": \"{band}_ct\",\n",
    "        }"
   ]
  },
  {
   "cell_type": "code",
   "execution_count": 36,
   "id": "ad5c6d86-0376-4fce-95c1-af192211a847",
   "metadata": {
    "execution": {
     "iopub.execute_input": "2023-05-17T18:32:26.837146Z",
     "iopub.status.busy": "2023-05-17T18:32:26.836883Z",
     "iopub.status.idle": "2023-05-17T18:32:26.840948Z",
     "shell.execute_reply": "2023-05-17T18:32:26.840448Z",
     "shell.execute_reply.started": "2023-05-17T18:32:26.837131Z"
    },
    "tags": []
   },
   "outputs": [
    {
     "name": "stdout",
     "output_type": "stream",
     "text": [
      "1000\n"
     ]
    }
   ],
   "source": [
    "bs = BandSelector()\n",
    "bs.vectorKey  = 'filterName'\n",
    "mask = bs(sourceTable.iloc[:1000])\n",
    "print(np.sum(mask))"
   ]
  },
  {
   "cell_type": "code",
   "execution_count": 16,
   "id": "fcd49cfc-ebce-42f6-8a0a-3931d051d2bd",
   "metadata": {
    "execution": {
     "iopub.execute_input": "2023-05-17T18:22:18.341027Z",
     "iopub.status.busy": "2023-05-17T18:22:18.340774Z",
     "iopub.status.idle": "2023-05-17T18:22:18.343499Z",
     "shell.execute_reply": "2023-05-17T18:22:18.343101Z",
     "shell.execute_reply.started": "2023-05-17T18:22:18.341012Z"
    },
    "tags": []
   },
   "outputs": [],
   "source": [
    "testSourceTable = sourceTable.iloc[:1000]"
   ]
  },
  {
   "cell_type": "code",
   "execution_count": 17,
   "id": "fe945235-7413-4079-9dfb-ac28f1704cc0",
   "metadata": {
    "execution": {
     "iopub.execute_input": "2023-05-17T18:22:19.491482Z",
     "iopub.status.busy": "2023-05-17T18:22:19.491148Z",
     "iopub.status.idle": "2023-05-17T18:22:19.499145Z",
     "shell.execute_reply": "2023-05-17T18:22:19.498743Z",
     "shell.execute_reply.started": "2023-05-17T18:22:19.491468Z"
    },
    "tags": []
   },
   "outputs": [],
   "source": [
    "wct_gt_2 = testSourceTable.loc[:,['diaObjectId','filterName','midPointTai']].groupby(\n",
    "    ['diaObjectId','filterName']).agg(len).apply(lambda x: x >=2)"
   ]
  },
  {
   "cell_type": "code",
   "execution_count": 18,
   "id": "c1c8aad8-f993-4f14-838d-f0c02c24ee3f",
   "metadata": {
    "execution": {
     "iopub.execute_input": "2023-05-17T18:22:20.043260Z",
     "iopub.status.busy": "2023-05-17T18:22:20.042967Z",
     "iopub.status.idle": "2023-05-17T18:22:20.049657Z",
     "shell.execute_reply": "2023-05-17T18:22:20.049335Z",
     "shell.execute_reply.started": "2023-05-17T18:22:20.043240Z"
    },
    "tags": []
   },
   "outputs": [
    {
     "data": {
      "text/html": [
       "<div>\n",
       "<style scoped>\n",
       "    .dataframe tbody tr th:only-of-type {\n",
       "        vertical-align: middle;\n",
       "    }\n",
       "\n",
       "    .dataframe tbody tr th {\n",
       "        vertical-align: top;\n",
       "    }\n",
       "\n",
       "    .dataframe thead th {\n",
       "        text-align: right;\n",
       "    }\n",
       "</style>\n",
       "<table border=\"1\" class=\"dataframe\">\n",
       "  <thead>\n",
       "    <tr style=\"text-align: right;\">\n",
       "      <th></th>\n",
       "      <th></th>\n",
       "      <th>midPointTai</th>\n",
       "    </tr>\n",
       "    <tr>\n",
       "      <th>diaObjectId</th>\n",
       "      <th>filterName</th>\n",
       "      <th></th>\n",
       "    </tr>\n",
       "  </thead>\n",
       "  <tbody>\n",
       "    <tr>\n",
       "      <th>3425264593545461784</th>\n",
       "      <th>y</th>\n",
       "      <td>True</td>\n",
       "    </tr>\n",
       "    <tr>\n",
       "      <th rowspan=\"3\" valign=\"top\">3425264593545461789</th>\n",
       "      <th>i</th>\n",
       "      <td>True</td>\n",
       "    </tr>\n",
       "    <tr>\n",
       "      <th>r</th>\n",
       "      <td>False</td>\n",
       "    </tr>\n",
       "    <tr>\n",
       "      <th>y</th>\n",
       "      <td>True</td>\n",
       "    </tr>\n",
       "    <tr>\n",
       "      <th>3425264593545461790</th>\n",
       "      <th>g</th>\n",
       "      <td>True</td>\n",
       "    </tr>\n",
       "    <tr>\n",
       "      <th>...</th>\n",
       "      <th>...</th>\n",
       "      <td>...</td>\n",
       "    </tr>\n",
       "    <tr>\n",
       "      <th>3425264593545462724</th>\n",
       "      <th>y</th>\n",
       "      <td>False</td>\n",
       "    </tr>\n",
       "    <tr>\n",
       "      <th>3425264593545462725</th>\n",
       "      <th>y</th>\n",
       "      <td>False</td>\n",
       "    </tr>\n",
       "    <tr>\n",
       "      <th>3425264593545462726</th>\n",
       "      <th>y</th>\n",
       "      <td>False</td>\n",
       "    </tr>\n",
       "    <tr>\n",
       "      <th>3425264593545462727</th>\n",
       "      <th>y</th>\n",
       "      <td>False</td>\n",
       "    </tr>\n",
       "    <tr>\n",
       "      <th>3425264593545462728</th>\n",
       "      <th>y</th>\n",
       "      <td>False</td>\n",
       "    </tr>\n",
       "  </tbody>\n",
       "</table>\n",
       "<p>302 rows × 1 columns</p>\n",
       "</div>"
      ],
      "text/plain": [
       "                                midPointTai\n",
       "diaObjectId         filterName             \n",
       "3425264593545461784 y                  True\n",
       "3425264593545461789 i                  True\n",
       "                    r                 False\n",
       "                    y                  True\n",
       "3425264593545461790 g                  True\n",
       "...                                     ...\n",
       "3425264593545462724 y                 False\n",
       "3425264593545462725 y                 False\n",
       "3425264593545462726 y                 False\n",
       "3425264593545462727 y                 False\n",
       "3425264593545462728 y                 False\n",
       "\n",
       "[302 rows x 1 columns]"
      ]
     },
     "execution_count": 18,
     "metadata": {},
     "output_type": "execute_result"
    }
   ],
   "source": [
    "wct_gt_2"
   ]
  },
  {
   "cell_type": "code",
   "execution_count": 21,
   "id": "1932d9aa-146a-46ab-884f-5815f0adb8ba",
   "metadata": {
    "execution": {
     "iopub.execute_input": "2023-05-17T18:22:41.739244Z",
     "iopub.status.busy": "2023-05-17T18:22:41.738816Z",
     "iopub.status.idle": "2023-05-17T18:22:41.742293Z",
     "shell.execute_reply": "2023-05-17T18:22:41.741944Z",
     "shell.execute_reply.started": "2023-05-17T18:22:41.739228Z"
    },
    "tags": []
   },
   "outputs": [],
   "source": [
    "miniTest = testSourceTable.loc[(testSourceTable.diaObjectId == 3425264593545461784) & (testSourceTable.filterName=='y'),:] "
   ]
  },
  {
   "cell_type": "code",
   "execution_count": 23,
   "id": "82a9822a-597b-4408-857d-7714d4b899f0",
   "metadata": {
    "execution": {
     "iopub.execute_input": "2023-05-17T18:22:50.932449Z",
     "iopub.status.busy": "2023-05-17T18:22:50.931976Z",
     "iopub.status.idle": "2023-05-17T18:22:50.939040Z",
     "shell.execute_reply": "2023-05-17T18:22:50.938638Z",
     "shell.execute_reply.started": "2023-05-17T18:22:50.932433Z"
    },
    "tags": []
   },
   "outputs": [
    {
     "data": {
      "text/html": [
       "<div>\n",
       "<style scoped>\n",
       "    .dataframe tbody tr th:only-of-type {\n",
       "        vertical-align: middle;\n",
       "    }\n",
       "\n",
       "    .dataframe tbody tr th {\n",
       "        vertical-align: top;\n",
       "    }\n",
       "\n",
       "    .dataframe thead th {\n",
       "        text-align: right;\n",
       "    }\n",
       "</style>\n",
       "<table border=\"1\" class=\"dataframe\">\n",
       "  <thead>\n",
       "    <tr style=\"text-align: right;\">\n",
       "      <th></th>\n",
       "      <th>filterName</th>\n",
       "      <th>diaObjectId</th>\n",
       "      <th>midPointTai</th>\n",
       "      <th>ra</th>\n",
       "      <th>decl</th>\n",
       "      <th>psFlux</th>\n",
       "      <th>psFluxErr</th>\n",
       "    </tr>\n",
       "    <tr>\n",
       "      <th>diaSourceId</th>\n",
       "      <th></th>\n",
       "      <th></th>\n",
       "      <th></th>\n",
       "      <th></th>\n",
       "      <th></th>\n",
       "      <th></th>\n",
       "      <th></th>\n",
       "    </tr>\n",
       "  </thead>\n",
       "  <tbody>\n",
       "    <tr>\n",
       "      <th>201880642781497</th>\n",
       "      <td>y</td>\n",
       "      <td>3425264593545461784</td>\n",
       "      <td>56741.629032</td>\n",
       "      <td>217.074033</td>\n",
       "      <td>-0.063161</td>\n",
       "      <td>-2387.114386</td>\n",
       "      <td>275.227595</td>\n",
       "    </tr>\n",
       "    <tr>\n",
       "      <th>183034326286375</th>\n",
       "      <td>y</td>\n",
       "      <td>3425264593545461784</td>\n",
       "      <td>56741.557356</td>\n",
       "      <td>217.074031</td>\n",
       "      <td>-0.063203</td>\n",
       "      <td>-2174.459202</td>\n",
       "      <td>281.279721</td>\n",
       "    </tr>\n",
       "    <tr>\n",
       "      <th>202827683070132</th>\n",
       "      <td>y</td>\n",
       "      <td>3425264593545461784</td>\n",
       "      <td>56741.632377</td>\n",
       "      <td>217.074029</td>\n",
       "      <td>-0.063171</td>\n",
       "      <td>3986.462926</td>\n",
       "      <td>516.121906</td>\n",
       "    </tr>\n",
       "    <tr>\n",
       "      <th>165042708283585</th>\n",
       "      <td>y</td>\n",
       "      <td>3425264593545461784</td>\n",
       "      <td>56741.506686</td>\n",
       "      <td>217.074041</td>\n",
       "      <td>-0.063182</td>\n",
       "      <td>-2550.321189</td>\n",
       "      <td>390.453978</td>\n",
       "    </tr>\n",
       "    <tr>\n",
       "      <th>166773580103795</th>\n",
       "      <td>y</td>\n",
       "      <td>3425264593545461784</td>\n",
       "      <td>56741.510958</td>\n",
       "      <td>217.074082</td>\n",
       "      <td>-0.063183</td>\n",
       "      <td>-2579.586333</td>\n",
       "      <td>298.919255</td>\n",
       "    </tr>\n",
       "    <tr>\n",
       "      <th>11625812897825095</th>\n",
       "      <td>y</td>\n",
       "      <td>3425264593545461784</td>\n",
       "      <td>57110.477642</td>\n",
       "      <td>217.074037</td>\n",
       "      <td>-0.063175</td>\n",
       "      <td>-2345.908411</td>\n",
       "      <td>224.049678</td>\n",
       "    </tr>\n",
       "  </tbody>\n",
       "</table>\n",
       "</div>"
      ],
      "text/plain": [
       "                  filterName          diaObjectId   midPointTai          ra   \n",
       "diaSourceId                                                                   \n",
       "201880642781497            y  3425264593545461784  56741.629032  217.074033  \\\n",
       "183034326286375            y  3425264593545461784  56741.557356  217.074031   \n",
       "202827683070132            y  3425264593545461784  56741.632377  217.074029   \n",
       "165042708283585            y  3425264593545461784  56741.506686  217.074041   \n",
       "166773580103795            y  3425264593545461784  56741.510958  217.074082   \n",
       "11625812897825095          y  3425264593545461784  57110.477642  217.074037   \n",
       "\n",
       "                       decl       psFlux   psFluxErr  \n",
       "diaSourceId                                           \n",
       "201880642781497   -0.063161 -2387.114386  275.227595  \n",
       "183034326286375   -0.063203 -2174.459202  281.279721  \n",
       "202827683070132   -0.063171  3986.462926  516.121906  \n",
       "165042708283585   -0.063182 -2550.321189  390.453978  \n",
       "166773580103795   -0.063183 -2579.586333  298.919255  \n",
       "11625812897825095 -0.063175 -2345.908411  224.049678  "
      ]
     },
     "execution_count": 23,
     "metadata": {},
     "output_type": "execute_result"
    }
   ],
   "source": [
    "miniTest"
   ]
  },
  {
   "cell_type": "code",
   "execution_count": 32,
   "id": "3e8abb99-e269-404e-ac18-39447d830f38",
   "metadata": {
    "execution": {
     "iopub.execute_input": "2023-05-17T18:31:36.142169Z",
     "iopub.status.busy": "2023-05-17T18:31:36.141593Z",
     "iopub.status.idle": "2023-05-17T18:31:36.145069Z",
     "shell.execute_reply": "2023-05-17T18:31:36.144606Z",
     "shell.execute_reply.started": "2023-05-17T18:31:36.142148Z"
    },
    "tags": []
   },
   "outputs": [
    {
     "name": "stdout",
     "output_type": "stream",
     "text": [
      "Automatic pdb calling has been turned OFF\n"
     ]
    }
   ],
   "source": [
    "%pdb"
   ]
  },
  {
   "cell_type": "code",
   "execution_count": 58,
   "id": "b3ce0c44-5da1-48d5-884b-35d8b5a00138",
   "metadata": {
    "execution": {
     "iopub.execute_input": "2023-05-17T18:40:48.923131Z",
     "iopub.status.busy": "2023-05-17T18:40:48.922878Z",
     "iopub.status.idle": "2023-05-17T18:40:48.928602Z",
     "shell.execute_reply": "2023-05-17T18:40:48.928111Z",
     "shell.execute_reply.started": "2023-05-17T18:40:48.923113Z"
    },
    "tags": []
   },
   "outputs": [
    {
     "name": "stdout",
     "output_type": "stream",
     "text": [
      "{'vectorKeys': [], 'selectors': {'bandSelector': {'vectorKey': 'band', 'bands': ['y']}}}\n"
     ]
    }
   ],
   "source": [
    "atool = DiaSourceRange()\n",
    "atool.finalize()"
   ]
  },
  {
   "cell_type": "code",
   "execution_count": 59,
   "id": "48456a6a-cd0f-4bb9-98da-27ccd88ef1d5",
   "metadata": {
    "execution": {
     "iopub.execute_input": "2023-05-17T18:40:51.122866Z",
     "iopub.status.busy": "2023-05-17T18:40:51.122594Z",
     "iopub.status.idle": "2023-05-17T18:40:51.126448Z",
     "shell.execute_reply": "2023-05-17T18:40:51.126017Z",
     "shell.execute_reply.started": "2023-05-17T18:40:51.122848Z"
    },
    "tags": []
   },
   "outputs": [
    {
     "data": {
      "text/plain": [
       "lsst.analysis.tools.interfaces._stages.BasePrep(vectorKeys=['psFlux', 'diaObjectId'], selectors={'bandSelector': {'vectorKey': 'band', 'bands': ['y']}})"
      ]
     },
     "execution_count": 59,
     "metadata": {},
     "output_type": "execute_result"
    }
   ],
   "source": [
    "atool.prep"
   ]
  },
  {
   "cell_type": "code",
   "execution_count": 60,
   "id": "ea8cbd18-2c44-499b-b591-dda3c9a90b67",
   "metadata": {
    "execution": {
     "iopub.execute_input": "2023-05-17T18:40:52.463835Z",
     "iopub.status.busy": "2023-05-17T18:40:52.463583Z",
     "iopub.status.idle": "2023-05-17T18:40:52.468822Z",
     "shell.execute_reply": "2023-05-17T18:40:52.468370Z",
     "shell.execute_reply.started": "2023-05-17T18:40:52.463817Z"
    },
    "tags": []
   },
   "outputs": [
    {
     "data": {
      "text/plain": [
       "{'psFlux': diaSourceId\n",
       " 201880642781497     -2387.114386\n",
       " 183034326286375     -2174.459202\n",
       " 202827683070132      3986.462926\n",
       " 165042708283585     -2550.321189\n",
       " 166773580103795     -2579.586333\n",
       " 11625812897825095   -2345.908411\n",
       " Name: psFlux, dtype: float64,\n",
       " 'diaObjectId': diaSourceId\n",
       " 201880642781497      3425264593545461784\n",
       " 183034326286375      3425264593545461784\n",
       " 202827683070132      3425264593545461784\n",
       " 165042708283585      3425264593545461784\n",
       " 166773580103795      3425264593545461784\n",
       " 11625812897825095    3425264593545461784\n",
       " Name: diaObjectId, dtype: int64}"
      ]
     },
     "execution_count": 60,
     "metadata": {},
     "output_type": "execute_result"
    }
   ],
   "source": [
    "atool.prep(miniTest.rename(columns={'filterName':'band'}))"
   ]
  },
  {
   "cell_type": "code",
   "execution_count": 63,
   "id": "09a0d3bc-9b15-4f74-a3fc-8c82ead58163",
   "metadata": {
    "execution": {
     "iopub.execute_input": "2023-05-17T18:41:57.202173Z",
     "iopub.status.busy": "2023-05-17T18:41:57.201533Z",
     "iopub.status.idle": "2023-05-17T18:41:57.211153Z",
     "shell.execute_reply": "2023-05-17T18:41:57.210727Z",
     "shell.execute_reply.started": "2023-05-17T18:41:57.202156Z"
    },
    "tags": []
   },
   "outputs": [
    {
     "name": "stdout",
     "output_type": "stream",
     "text": [
      "{'vectorKeys': [], 'selectors': {'bandSelector': {'vectorKey': 'band', 'bands': ['y']}}}\n"
     ]
    },
    {
     "data": {
      "text/plain": [
       "{'analysisTools_diaSourceRange': Measurement('analysisTools_diaSourceRange', <Quantity -2366.51139849 nJy>, notes={'analysisTools_diaSourceRange.metric_tags': []}),\n",
       " 'analysisTools_ct': Measurement('analysisTools_ct', <Quantity 1. ct>, notes={'analysisTools_ct.metric_tags': []})}"
      ]
     },
     "execution_count": 63,
     "metadata": {},
     "output_type": "execute_result"
    }
   ],
   "source": [
    "atool = DiaSourceRange()\n",
    "atool.finalize()\n",
    "metric = atool(miniTest.rename(columns={'filterName':'band'}))\n",
    "\n",
    "\n",
    "metric"
   ]
  },
  {
   "cell_type": "code",
   "execution_count": null,
   "id": "d6812b0e-a1ed-443f-b184-b9f8f4a924df",
   "metadata": {},
   "outputs": [],
   "source": []
  },
  {
   "cell_type": "code",
   "execution_count": null,
   "id": "c8b192c2-c4f4-48fd-a406-a42bee2ad178",
   "metadata": {},
   "outputs": [],
   "source": []
  },
  {
   "cell_type": "code",
   "execution_count": null,
   "id": "9a49033a-97cd-4d16-8872-87a4da5e9889",
   "metadata": {},
   "outputs": [],
   "source": []
  },
  {
   "cell_type": "code",
   "execution_count": null,
   "id": "003a4457-08ef-427b-b4e0-2146291b798b",
   "metadata": {},
   "outputs": [],
   "source": []
  },
  {
   "cell_type": "code",
   "execution_count": null,
   "id": "f5d200d4-aea8-4ec9-8728-2fad1ee32290",
   "metadata": {},
   "outputs": [],
   "source": []
  },
  {
   "cell_type": "code",
   "execution_count": null,
   "id": "f4a46068-940e-4c43-bcdf-71f0c6795292",
   "metadata": {},
   "outputs": [],
   "source": []
  },
  {
   "cell_type": "code",
   "execution_count": 113,
   "id": "bb2e1b8d-2f10-4974-99d7-ec9bd980c2f0",
   "metadata": {
    "execution": {
     "iopub.execute_input": "2023-05-17T16:55:10.485075Z",
     "iopub.status.busy": "2023-05-17T16:55:10.484850Z",
     "iopub.status.idle": "2023-05-17T16:55:10.488497Z",
     "shell.execute_reply": "2023-05-17T16:55:10.488038Z",
     "shell.execute_reply.started": "2023-05-17T16:55:10.485058Z"
    },
    "tags": []
   },
   "outputs": [],
   "source": [
    "data  = {}\n",
    "for col in sourceTable.iloc[:1000].columns:\n",
    "    data[col] = sourceTable.iloc[:1000][col].values"
   ]
  },
  {
   "cell_type": "code",
   "execution_count": null,
   "id": "5af44adc-f701-4450-8c31-ecc3226ee53f",
   "metadata": {},
   "outputs": [],
   "source": []
  }
 ],
 "metadata": {
  "kernelspec": {
   "display_name": "LSST",
   "language": "python",
   "name": "lsst"
  },
  "language_info": {
   "codemirror_mode": {
    "name": "ipython",
    "version": 3
   },
   "file_extension": ".py",
   "mimetype": "text/x-python",
   "name": "python",
   "nbconvert_exporter": "python",
   "pygments_lexer": "ipython3",
   "version": "3.10.10"
  }
 },
 "nbformat": 4,
 "nbformat_minor": 5
}
