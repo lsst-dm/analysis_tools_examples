{
 "cells": [
  {
   "cell_type": "markdown",
   "id": "d18163db-31ab-44ad-ad28-59cb97adb3ce",
   "metadata": {
    "execution": {
     "iopub.execute_input": "2023-05-11T15:59:39.475041Z",
     "iopub.status.busy": "2023-05-11T15:59:39.474818Z",
     "iopub.status.idle": "2023-05-11T15:59:39.477333Z",
     "shell.execute_reply": "2023-05-11T15:59:39.476994Z",
     "shell.execute_reply.started": "2023-05-11T15:59:39.475025Z"
    },
    "tags": []
   },
   "source": [
    "# Pre-bootcamp exercises: developing analysis_tools package in a notebook\n",
    "\n",
    "**Description:** developing LSST Science Pipelines packages in the Notebook Aspect (based on this [guide](https://nb.lsst.io/science-pipelines/development-tutorial.html)).\n",
    "\n",
    "**Contact authors:** Keith Bechtol\n",
    "\n",
    "**Last verified to run:** 2023-05-11\n",
    "\n",
    "**LSST Science Piplines version:** w_2023_19\n",
    "\n",
    "**Container Size:** Small (or larger)\n",
    "\n",
    "**Location:** This notebook points to files on the S3DF cluster at the USDF. Update paths accordingly if you are running elsewhere.\n",
    "\n",
    "**Skills:** \n",
    "- Science Pipelines package development and test in a notebook"
   ]
  },
  {
   "cell_type": "markdown",
   "id": "d2279679-4d9b-498e-a252-b89e8ecb90b6",
   "metadata": {
    "execution": {
     "iopub.execute_input": "2023-05-11T16:01:19.511555Z",
     "iopub.status.busy": "2023-05-11T16:01:19.511297Z",
     "iopub.status.idle": "2023-05-11T16:01:19.514131Z",
     "shell.execute_reply": "2023-05-11T16:01:19.513770Z",
     "shell.execute_reply.started": "2023-05-11T16:01:19.511537Z"
    },
    "tags": []
   },
   "source": [
    "## Setting up and building a local version of analysis_tools package"
   ]
  },
  {
   "cell_type": "markdown",
   "id": "01ed2a31-0bc7-4ff5-8039-f2227cd1336b",
   "metadata": {
    "execution": {
     "iopub.execute_input": "2023-05-11T16:07:25.753392Z",
     "iopub.status.busy": "2023-05-11T16:07:25.753210Z",
     "iopub.status.idle": "2023-05-11T16:07:25.756333Z",
     "shell.execute_reply": "2023-05-11T16:07:25.755899Z",
     "shell.execute_reply.started": "2023-05-11T16:07:25.753378Z"
    },
    "tags": []
   },
   "source": [
    "Check the version of the stack you are using"
   ]
  },
  {
   "cell_type": "code",
   "execution_count": null,
   "id": "287994fa-ed8e-4db5-9eba-7417b9e630f8",
   "metadata": {
    "tags": []
   },
   "outputs": [],
   "source": [
    "!eups list -s | grep lsst_distrib"
   ]
  },
  {
   "cell_type": "markdown",
   "id": "fe73b12b-8aa0-4231-bf6f-3e673dccd481",
   "metadata": {},
   "source": [
    "If you are doing development on the `analysis_tools` package and want to test in a notebook, follow the guidance [here](https://nb.lsst.io/science-pipelines/development-tutorial.html). Brief version below (for work on the RSP at USDF):\n",
    "\n",
    "1. In the termal, clone the [analysis_tools](https://github.com/lsst/analysis_tools) repo and set up the package\n",
    "\n",
    "```\n",
    "source /opt/lsst/software/stack/loadLSST.bash\n",
    "setup lsst_distrib\n",
    "\n",
    "# Choose file location for your repo\n",
    "cd ~/repos/\n",
    "git clone https://github.com/lsst/analysis_tools.git\n",
    "cd analysis_tools\n",
    "setup -k -r .\n",
    "scons\n",
    "```\n",
    "\n",
    "2. Add the following line to `~/notebooks/.user_setups`\n",
    "\n",
    "```\n",
    "setup -k -r ~/repos/analysis_tools\n",
    "```\n",
    "\n",
    "Your local version of `analysis_tools` should now be accessible in a notebook."
   ]
  },
  {
   "cell_type": "code",
   "execution_count": null,
   "id": "60459959-8ff9-42cb-9239-a3a42c61a59f",
   "metadata": {
    "tags": []
   },
   "outputs": [],
   "source": [
    "import numpy as np"
   ]
  },
  {
   "cell_type": "code",
   "execution_count": null,
   "id": "c5c4d9a5-4a1d-4125-b68a-72a641711325",
   "metadata": {
    "tags": []
   },
   "outputs": [],
   "source": [
    "import lsst.analysis.tools\n",
    "print(lsst.analysis.tools.__file__)"
   ]
  },
  {
   "cell_type": "markdown",
   "id": "5969fb20-c64a-4a09-8a55-b9b7e903550e",
   "metadata": {},
   "source": [
    "## Add a new action to your local analysis_tools version"
   ]
  },
  {
   "cell_type": "markdown",
   "id": "4efe9fc5-1f1b-45c9-97a8-97f3d8461eba",
   "metadata": {
    "execution": {
     "iopub.execute_input": "2023-05-11T15:57:08.020755Z",
     "iopub.status.busy": "2023-05-11T15:57:08.020393Z",
     "iopub.status.idle": "2023-05-11T15:57:08.025375Z",
     "shell.execute_reply": "2023-05-11T15:57:08.024915Z",
     "shell.execute_reply.started": "2023-05-11T15:57:08.020738Z"
    },
    "tags": []
   },
   "source": [
    "Add the following example `MultiplyByScalar` class definition to the file `python/lsst/analysis/tools/actions/vector/vectorActions.py` in your local `analysis_tools` repo:\n",
    "\n",
    "```\n",
    "class MultiplyByScalar(VectorAction):\n",
    "    \"\"\"Multiply vector by a scalar value\"\"\"\n",
    "\n",
    "    vectorKey = Field[str](doc=\"Key of vector which should be loaded\")\n",
    "    factor = Field[float](doc=\"Multiplicative factor\", default=1.)\n",
    "\n",
    "    def getInputSchema(self) -> KeyedDataSchema:\n",
    "        return ((self.vectorKey, Vector),)\n",
    "\n",
    "    def __call__(self, data: KeyedData, **kwargs) -> Vector:\n",
    "        return np.array(self.factor * data[self.vectorKey.format(**kwargs)])\n",
    "```\n",
    "\n",
    "Also need to add one line to the `__all__` definition for the newly defined class:\n",
    "\n",
    "```\n",
    "__all__ = (\n",
    "    \"DownselectVector\",\n",
    "    \"MultiCriteriaDownselectVector\",\n",
    "    \"MagColumnNanoJansky\",\n",
    "    \"FractionalDifference\",\n",
    "    \"Sn\",\n",
    "    \"ConstantValue\",\n",
    "    \"SubtractVector\",\n",
    "    \"DivideVector\",\n",
    "    \"LoadVector\",\n",
    "    \"MagDiff\",\n",
    "    \"SNCalculator\",\n",
    "    \"ExtinctionCorrectedMagDiff\",\n",
    "    \"PerGroupStatistic\",\n",
    "    \"ResidualWithPerGroupStatistic\",\n",
    "    \"RAcosDec\",\n",
    "    \"ConvertUnits\",\n",
    "    \"MultiplyByScalar\", # This is the new line to add\n",
    ")\n",
    "```"
   ]
  },
  {
   "cell_type": "markdown",
   "id": "a16fbb4a-5f63-4eb2-8c2b-7bcf90bad4e3",
   "metadata": {},
   "source": [
    "Import your new action"
   ]
  },
  {
   "cell_type": "code",
   "execution_count": null,
   "id": "0e75b7f4-bb23-4073-818c-b6e422dc3fa2",
   "metadata": {
    "tags": []
   },
   "outputs": [],
   "source": [
    "from lsst.analysis.tools.actions.vector import MultiplyByScalar"
   ]
  },
  {
   "cell_type": "markdown",
   "id": "b91ba9b8-d81d-4667-8225-d3831e3c9307",
   "metadata": {},
   "source": [
    "Create some synthetic data to use for testing"
   ]
  },
  {
   "cell_type": "code",
   "execution_count": null,
   "id": "a4fd2bbe-f8fc-458d-851f-2fee70f9e6c9",
   "metadata": {
    "tags": []
   },
   "outputs": [],
   "source": [
    "# create some KeyedData\n",
    "data = {\"randomData\": np.random.normal(0, 3, 10000)}"
   ]
  },
  {
   "cell_type": "markdown",
   "id": "61bf4ffd-e6a9-48eb-9c07-b1484063ad21",
   "metadata": {},
   "source": [
    "Run your newly defined action"
   ]
  },
  {
   "cell_type": "code",
   "execution_count": null,
   "id": "4118dfa5-2790-4c7a-b78b-cbcb3cdf45f7",
   "metadata": {
    "tags": []
   },
   "outputs": [],
   "source": [
    "action = MultiplyByScalar(vectorKey=\"randomData\", factor=2.)\n",
    "results = action(data)\n",
    "assert np.allclose(results, 2. * data['randomData'])"
   ]
  },
  {
   "cell_type": "code",
   "execution_count": null,
   "id": "3029867a-873f-4184-a238-db508852b20c",
   "metadata": {},
   "outputs": [],
   "source": []
  }
 ],
 "metadata": {
  "kernelspec": {
   "display_name": "LSST",
   "language": "python",
   "name": "lsst"
  },
  "language_info": {
   "codemirror_mode": {
    "name": "ipython",
    "version": 3
   },
   "file_extension": ".py",
   "mimetype": "text/x-python",
   "name": "python",
   "nbconvert_exporter": "python",
   "pygments_lexer": "ipython3",
   "version": "3.10.10"
  }
 },
 "nbformat": 4,
 "nbformat_minor": 5
}
