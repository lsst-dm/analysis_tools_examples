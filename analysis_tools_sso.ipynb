{
 "cells": [
  {
   "cell_type": "markdown",
   "id": "1ea952a0-7d6b-4665-860f-941f23b98a90",
   "metadata": {},
   "source": [
    "# Analysis Tools with AP\n",
    "\n",
    "**Description:** Introduction to generating science performance diagnostic plots and metrics with the [analysis_tools](https://github.com/lsst/analysis_tools) package using an AP dataset\n",
    "\n",
    "**Contact authors:** Eric Bellm\n",
    "\n",
    "**Last verified to run:** \n",
    "\n",
    "**LSST Science Piplines version:** \n",
    "\n",
    "**Container size:** medium\n",
    "\n",
    "**Targeted learning level:** intermediate\n",
    "\n",
    "**Skills:** \n"
   ]
  },
  {
   "cell_type": "markdown",
   "id": "be12865f-39a5-4865-8bb2-7ab5de9a4217",
   "metadata": {
    "tags": []
   },
   "source": [
    "## Preliminaries"
   ]
  },
  {
   "cell_type": "code",
   "execution_count": 1,
   "id": "da54d3a9-860d-4216-bf7e-8149eeea939a",
   "metadata": {},
   "outputs": [],
   "source": [
    "# Basic imports\n",
    "import numpy as np\n",
    "import pandas as pd\n",
    "\n",
    "import matplotlib as mpl\n",
    "import matplotlib.pyplot as plt\n",
    "\n",
    "from pprint import pprint"
   ]
  },
  {
   "cell_type": "markdown",
   "id": "f9a2d20d-145d-4f6c-a2ef-163939882a6a",
   "metadata": {},
   "source": [
    "### Getting set up at USDF\n",
    "\n",
    "See documentation at\n",
    "* https://developer.lsst.io/usdf/lsst-login.html\n",
    "* https://developer.lsst.io/usdf/onboarding.html"
   ]
  },
  {
   "cell_type": "markdown",
   "id": "99d2cbc4-c192-4ac3-a839-34c6b1ee8783",
   "metadata": {},
   "source": [
    "### dataset\n",
    "\n",
    "We'll use an ap_verify repo while we await /repo/main"
   ]
  },
  {
   "cell_type": "markdown",
   "id": "28cd1179-5ab4-493e-9eea-fea5182de600",
   "metadata": {},
   "source": [
    "### Setting up the analysis_tools package"
   ]
  },
  {
   "cell_type": "markdown",
   "id": "049eb86c-8d4b-4526-9fa6-2160a3228fd9",
   "metadata": {},
   "source": [
    "Check the version of the stack you are using"
   ]
  },
  {
   "cell_type": "markdown",
   "id": "abe860cd-cbf6-4548-aed0-1cc3a7af3f5d",
   "metadata": {},
   "source": [
    "If you are doing development on the `analysis_tools` package and want to test in a notebook, follow the guidance [here](https://nb.lsst.io/science-pipelines/development-tutorial.html). Brief version below (for work on the RSP at USDF):\n",
    "\n",
    "1. In the termal, clone the [analysis_tools](https://github.com/lsst/analysis_tools) repo and set up the package\n",
    "\n",
    "```\n",
    "source /opt/lsst/software/stack/loadLSST.bash\n",
    "setup lsst_distrib\n",
    "\n",
    "# Choose file location for your repo\n",
    "cd ~/repos/\n",
    "git clone https://github.com/lsst/analysis_tools.git\n",
    "cd analysis_tools\n",
    "setup -k -r .\n",
    "scons\n",
    "```\n",
    "\n",
    "2. Add the following line to `~/notebooks/.user_setups`\n",
    "\n",
    "```\n",
    "setup -k -r ~/repos/analysis_tools\n",
    "```\n",
    "\n",
    "Your local version of `analysis_tools` should now be accessible in a notebook."
   ]
  },
  {
   "cell_type": "code",
   "execution_count": 2,
   "id": "71b868fc-f869-45fb-a01f-0ccf43b59dfa",
   "metadata": {},
   "outputs": [
    {
     "name": "stdout",
     "output_type": "stream",
     "text": [
      "lsst_distrib          g0b29ad24fb+bdc8955c18 \tcurrent w_2022_37 setup\n"
     ]
    }
   ],
   "source": [
    "!eups list -s | grep lsst_distrib"
   ]
  },
  {
   "cell_type": "code",
   "execution_count": 3,
   "id": "2b7b45be-221c-46e5-b071-93c52b5502f9",
   "metadata": {},
   "outputs": [
    {
     "name": "stdout",
     "output_type": "stream",
     "text": [
      "analysis_tools        LOCAL:/sdf/group/rubin/u/ebellm/stack/analysis_tools \tsetup\n"
     ]
    }
   ],
   "source": [
    "!eups list -s | grep analysis_tools"
   ]
  },
  {
   "cell_type": "markdown",
   "id": "f442c0f3-5702-4afd-85cd-3e2cdb70394e",
   "metadata": {},
   "source": [
    "The `analysis_tools` package was added to `lsst_distrib` in August 2022, and accordingly, if you have set up the LSST Stack version `w_2022_32` or later, then you should be able to import `analysis_tools` directly in the notebook."
   ]
  },
  {
   "cell_type": "code",
   "execution_count": 4,
   "id": "1af82237-10d0-4693-9fd4-05ed8da480ae",
   "metadata": {},
   "outputs": [
    {
     "name": "stdout",
     "output_type": "stream",
     "text": [
      "/sdf/group/rubin/u/ebellm/stack/analysis_tools/python/lsst/analysis/tools/__init__.py\n"
     ]
    }
   ],
   "source": [
    "import lsst.analysis.tools\n",
    "print(lsst.analysis.tools.__file__)"
   ]
  },
  {
   "cell_type": "markdown",
   "id": "3d0e0410-c282-4ea3-93d1-8f5f4d717530",
   "metadata": {},
   "source": [
    "## Generating consistent metric values and visualizations"
   ]
  },
  {
   "cell_type": "markdown",
   "id": "914442b8-d6e3-4ae4-84a6-e60c089bdde6",
   "metadata": {},
   "source": [
    "### Load data for testing"
   ]
  },
  {
   "cell_type": "code",
   "execution_count": 5,
   "id": "1830eb9c-ca76-4d1f-b8a7-f59e97cd8167",
   "metadata": {},
   "outputs": [],
   "source": [
    "from lsst.daf.butler import Butler\n",
    "\n",
    "repo = \"/sdf/group/rubin/u/ebellm/workspace/cosmos/repo\"\n",
    "collection = \"ap_verify-output\"\n",
    "\n",
    "butler = Butler(repo, collections=[collection])\n",
    "registry = butler.registry"
   ]
  },
  {
   "cell_type": "code",
   "execution_count": 6,
   "id": "bc5a6b82-0dc0-4bcd-92c7-a71fe306ca66",
   "metadata": {
    "tags": []
   },
   "outputs": [
    {
     "name": "stdout",
     "output_type": "stream",
     "text": [
      "apFakesCompletenessMag20t22_config\n",
      "apFakesCompletenessMag20t22_log\n",
      "apFakesCompletenessMag20t22_metadata\n",
      "apFakesCompletenessMag22t24_config\n",
      "apFakesCompletenessMag22t24_log\n",
      "apFakesCompletenessMag22t24_metadata\n",
      "apFakesCompletenessMag24t26_config\n",
      "apFakesCompletenessMag24t26_log\n",
      "apFakesCompletenessMag24t26_metadata\n",
      "apFakesCountMag20t22_config\n",
      "apFakesCountMag20t22_log\n",
      "apFakesCountMag20t22_metadata\n",
      "apFakesCountMag22t24_config\n",
      "apFakesCountMag22t24_log\n",
      "apFakesCountMag22t24_metadata\n",
      "apFakesCountMag24t26_config\n",
      "apFakesCountMag24t26_log\n",
      "apFakesCountMag24t26_metadata\n",
      "apFakesCount_config\n",
      "apFakesCount_log\n",
      "apFakesCount_metadata\n",
      "apdb_marker\n",
      "bfKernel\n",
      "bias\n",
      "calexp\n",
      "calexpBackground\n",
      "calibrate_config\n",
      "calibrate_log\n",
      "calibrate_metadata\n",
      "camera\n",
      "characterizeImage_config\n",
      "characterizeImage_log\n",
      "characterizeImage_metadata\n",
      "coaddFakes_config\n",
      "coaddFakes_log\n",
      "coaddFakes_metadata\n",
      "createFakes_config\n",
      "createFakes_log\n",
      "createFakes_metadata\n",
      "dark\n",
      "deepCoadd\n",
      "deepDiff_diaSrc\n",
      "deepDiff_diaSrc_schema\n",
      "deepDiff_differenceExp\n",
      "deepDiff_differenceTempExp\n",
      "deepDiff_matchedExp\n",
      "deepDiff_templateExp\n",
      "defects\n",
      "detectAndMeasureWithFakes_config\n",
      "detectAndMeasureWithFakes_log\n",
      "detectAndMeasureWithFakes_metadata\n",
      "detectAndMeasure_config\n",
      "detectAndMeasure_log\n",
      "detectAndMeasure_metadata\n",
      "diaPipe_config\n",
      "diaPipe_log\n",
      "diaPipe_metadata\n",
      "fakesMatch_config\n",
      "fakesMatch_log\n",
      "fakesMatch_metadata\n",
      "fakes_calexp\n",
      "fakes_ccdVisitFakeMagnitudes\n",
      "fakes_deepCoadd\n",
      "fakes_deepDiff_assocDiaSrc\n",
      "fakes_deepDiff_diaSrc\n",
      "fakes_deepDiff_diaSrcTable\n",
      "fakes_deepDiff_diaSrc_schema\n",
      "fakes_deepDiff_differenceExp\n",
      "fakes_deepDiff_differenceTempExp\n",
      "fakes_deepDiff_matchDiaSrc\n",
      "fakes_deepDiff_matchedExp\n",
      "fakes_deepDiff_templateExp\n",
      "fakes_fakeSourceCat\n",
      "fakes_src\n",
      "flat\n",
      "fracDiaSourcesToSciSources_config\n",
      "fracDiaSourcesToSciSources_log\n",
      "fracDiaSourcesToSciSources_metadata\n",
      "fracUpdatedDiaObjects_config\n",
      "fracUpdatedDiaObjects_log\n",
      "fracUpdatedDiaObjects_metadata\n",
      "gaia\n",
      "icExp\n",
      "icExpBackground\n",
      "icSrc\n",
      "icSrc_schema\n",
      "isr_config\n",
      "isr_log\n",
      "isr_metadata\n",
      "memory_alertPackager_config\n",
      "memory_alertPackager_log\n",
      "memory_alertPackager_metadata\n",
      "memory_apPipe_config\n",
      "memory_apPipe_log\n",
      "memory_apPipe_metadata\n",
      "memory_diaForcedSource_config\n",
      "memory_diaForcedSource_log\n",
      "memory_diaForcedSource_metadata\n",
      "metricvalue_ap_association_AssociationTime\n",
      "metricvalue_ap_association_DiaForcedSourceMemory\n",
      "metricvalue_ap_association_DiaForcedSourceTime\n",
      "metricvalue_ap_association_DiaPipelineTime\n",
      "metricvalue_ap_association_LoadDiaCatalogsTime\n",
      "metricvalue_ap_association_MapDiaSourceTime\n",
      "metricvalue_ap_association_PackageAlertsMemory\n",
      "metricvalue_ap_association_PackageAlertsTime\n",
      "metricvalue_ap_association_fracUpdatedDiaObjects\n",
      "metricvalue_ap_association_numAssociatedSsObjects\n",
      "metricvalue_ap_association_numNewDiaObjects\n",
      "metricvalue_ap_association_numTotalSolarSystemObjects\n",
      "metricvalue_ap_association_numUnassociatedDiaObjects\n",
      "metricvalue_ap_association_totalUnassociatedDiaObjects\n",
      "metricvalue_ap_pipe_ApFakesCompletenessMag20t22\n",
      "metricvalue_ap_pipe_ApFakesCompletenessMag22t24\n",
      "metricvalue_ap_pipe_ApFakesCompletenessMag24t26\n",
      "metricvalue_ap_pipe_ApFakesCount\n",
      "metricvalue_ap_pipe_ApFakesCountMag20t22\n",
      "metricvalue_ap_pipe_ApFakesCountMag22t24\n",
      "metricvalue_ap_pipe_ApFakesCountMag24t26\n",
      "metricvalue_ap_pipe_ApPipeMemory\n",
      "metricvalue_ip_diffim_DetectAndMeasureTime\n",
      "metricvalue_ip_diffim_DipoleFitTime\n",
      "metricvalue_ip_diffim_SubtractImagesALTime\n",
      "metricvalue_ip_diffim_fracDiaSourcesToSciSources\n",
      "metricvalue_ip_diffim_numSciSources\n",
      "metricvalue_ip_isr_IsrTime\n",
      "metricvalue_meas_algorithms_SourceDetectionTime\n",
      "metricvalue_pipe_tasks_CalibrateTime\n",
      "metricvalue_pipe_tasks_CharacterizeImageTime\n",
      "metricvalue_pipe_tasks_numDeblendChildSciSources\n",
      "metricvalue_pipe_tasks_numDeblendedSciSources\n",
      "numAssociatedSsObjects_config\n",
      "numAssociatedSsObjects_log\n",
      "numAssociatedSsObjects_metadata\n",
      "numDeblendChildSciSources_config\n",
      "numDeblendChildSciSources_log\n",
      "numDeblendChildSciSources_metadata\n",
      "numDeblendedSciSources_config\n",
      "numDeblendedSciSources_log\n",
      "numDeblendedSciSources_metadata\n",
      "numNewDiaObjects_config\n",
      "numNewDiaObjects_log\n",
      "numNewDiaObjects_metadata\n",
      "numSciSources_config\n",
      "numSciSources_log\n",
      "numSciSources_metadata\n",
      "numTotalSolarSystemObjects_config\n",
      "numTotalSolarSystemObjects_log\n",
      "numTotalSolarSystemObjects_metadata\n",
      "numUnassociatedDiaObjects_config\n",
      "numUnassociatedDiaObjects_log\n",
      "numUnassociatedDiaObjects_metadata\n",
      "packages\n",
      "panstarrs\n",
      "postISRCCD\n",
      "processVisitFakes_config\n",
      "processVisitFakes_log\n",
      "processVisitFakes_metadata\n",
      "raw\n",
      "retrieveTemplateWithFakes_config\n",
      "retrieveTemplateWithFakes_log\n",
      "retrieveTemplateWithFakes_metadata\n",
      "retrieveTemplate_config\n",
      "retrieveTemplate_log\n",
      "retrieveTemplate_metadata\n",
      "sky\n",
      "skyMap\n",
      "src\n",
      "srcMatch\n",
      "srcMatchFull\n",
      "src_schema\n",
      "subtractImagesWithFakes_config\n",
      "subtractImagesWithFakes_log\n",
      "subtractImagesWithFakes_metadata\n",
      "subtractImages_config\n",
      "subtractImages_log\n",
      "subtractImages_metadata\n",
      "timing_calibrate_config\n",
      "timing_calibrate_log\n",
      "timing_calibrate_metadata\n",
      "timing_characterizeImage_config\n",
      "timing_characterizeImage_log\n",
      "timing_characterizeImage_metadata\n",
      "timing_detectAndMeasure_config\n",
      "timing_detectAndMeasure_detection_config\n",
      "timing_detectAndMeasure_detection_log\n",
      "timing_detectAndMeasure_detection_metadata\n",
      "timing_detectAndMeasure_log\n",
      "timing_detectAndMeasure_measurement_config\n",
      "timing_detectAndMeasure_measurement_log\n",
      "timing_detectAndMeasure_measurement_metadata\n",
      "timing_detectAndMeasure_metadata\n",
      "timing_diaPipe_alertPackager_config\n",
      "timing_diaPipe_alertPackager_log\n",
      "timing_diaPipe_alertPackager_metadata\n",
      "timing_diaPipe_associator_config\n",
      "timing_diaPipe_associator_log\n",
      "timing_diaPipe_associator_metadata\n",
      "timing_diaPipe_config\n",
      "timing_diaPipe_diaCatalogLoader_config\n",
      "timing_diaPipe_diaCatalogLoader_log\n",
      "timing_diaPipe_diaCatalogLoader_metadata\n",
      "timing_diaPipe_diaForcedSource_config\n",
      "timing_diaPipe_diaForcedSource_log\n",
      "timing_diaPipe_diaForcedSource_metadata\n",
      "timing_diaPipe_log\n",
      "timing_diaPipe_metadata\n",
      "timing_isr_config\n",
      "timing_isr_log\n",
      "timing_isr_metadata\n",
      "timing_subtractImages_config\n",
      "timing_subtractImages_log\n",
      "timing_subtractImages_metadata\n",
      "timing_transformDiaSrcCat_config\n",
      "timing_transformDiaSrcCat_log\n",
      "timing_transformDiaSrcCat_metadata\n",
      "totalUnassociatedDiaObjects_config\n",
      "totalUnassociatedDiaObjects_log\n",
      "totalUnassociatedDiaObjects_metadata\n",
      "transformDiaSrcCatWithFakes_config\n",
      "transformDiaSrcCatWithFakes_log\n",
      "transformDiaSrcCatWithFakes_metadata\n",
      "transmission_atmosphere\n",
      "transmission_filter\n",
      "transmission_optics\n",
      "transmission_sensor\n",
      "visitSsObjects\n"
     ]
    }
   ],
   "source": [
    "# Display the available dataset types\n",
    "for d in sorted(registry.queryDatasetTypes()): print(d.name)"
   ]
  },
  {
   "cell_type": "code",
   "execution_count": 7,
   "id": "d774e3b3-3ef8-4e75-9018-75f664f6c46a",
   "metadata": {},
   "outputs": [
    {
     "data": {
      "text/plain": [
       "[DatasetRef(DatasetType('fakes_deepDiff_assocDiaSrc', {band, instrument, detector, physical_filter, visit}, DataFrame), {instrument: 'HSC', detector: 50, visit: 59150, ...}, id=d1ecf491-2fad-4cb6-80a7-2a677c33446c, run='ap_verify-output/20220831T200238Z'),\n",
       " DatasetRef(DatasetType('fakes_deepDiff_assocDiaSrc', {band, instrument, detector, physical_filter, visit}, DataFrame), {instrument: 'HSC', detector: 51, visit: 59160, ...}, id=6aa78ba7-fd51-4469-b150-37b87cc42787, run='ap_verify-output/20220831T200238Z')]"
      ]
     },
     "execution_count": 7,
     "metadata": {},
     "output_type": "execute_result"
    }
   ],
   "source": [
    "sorted(registry.queryDatasets(\"fakes_deepDiff_assocDiaSrc\"))"
   ]
  },
  {
   "cell_type": "code",
   "execution_count": 8,
   "id": "4b776a6a-e815-4b71-a35e-cb46433faeaf",
   "metadata": {},
   "outputs": [
    {
     "data": {
      "text/plain": [
       "[DatasetRef(DatasetType('visitSsObjects', {band, instrument, physical_filter, visit}, DataFrame), {instrument: 'HSC', visit: 59150, ...}, id=3bcbc645-6ae2-4c0d-be68-ad8ad8c3803f, run='sso/cached'),\n",
       " DatasetRef(DatasetType('visitSsObjects', {band, instrument, physical_filter, visit}, DataFrame), {instrument: 'HSC', visit: 59160, ...}, id=87297025-294e-459b-9feb-4ef2a60ff873, run='sso/cached')]"
      ]
     },
     "execution_count": 8,
     "metadata": {},
     "output_type": "execute_result"
    }
   ],
   "source": [
    "sorted(registry.queryDatasets(\"visitSsObjects\"))"
   ]
  },
  {
   "cell_type": "code",
   "execution_count": 9,
   "id": "dffc0083-4d9f-4669-ae76-09213b5ab45f",
   "metadata": {},
   "outputs": [],
   "source": [
    "dataset_refs = registry.queryDatasets(\"fakes_deepDiff_assocDiaSrc\")"
   ]
  },
  {
   "cell_type": "code",
   "execution_count": 10,
   "id": "a3e89ab7-6d21-415b-b52f-93d2d2794dde",
   "metadata": {},
   "outputs": [],
   "source": [
    "assocDiaSources = []\n",
    "for ref in dataset_refs:\n",
    "    assocDiaSource = butler.getDirect(ref)\n",
    "    assocDiaSources.append(assocDiaSource)\n",
    "\n",
    "df = pd.concat(assocDiaSources)"
   ]
  },
  {
   "cell_type": "code",
   "execution_count": 11,
   "id": "a9cb16ef-027d-4ed4-ae9f-f9ce7c7de0e1",
   "metadata": {},
   "outputs": [],
   "source": [
    "assocDiaSources = []\n",
    "for ref in dataset_refs:\n",
    "    assocDiaSource = butler.getDirect(ref)\n",
    "    assocDiaSources.append(assocDiaSource)\n",
    "\n",
    "df = pd.concat(assocDiaSources)"
   ]
  },
  {
   "cell_type": "code",
   "execution_count": 12,
   "id": "cf6a7801-f919-4077-842d-b2b074579a2e",
   "metadata": {},
   "outputs": [
    {
     "data": {
      "text/html": [
       "<div>\n",
       "<style scoped>\n",
       "    .dataframe tbody tr th:only-of-type {\n",
       "        vertical-align: middle;\n",
       "    }\n",
       "\n",
       "    .dataframe tbody tr th {\n",
       "        vertical-align: top;\n",
       "    }\n",
       "\n",
       "    .dataframe thead th {\n",
       "        text-align: right;\n",
       "    }\n",
       "</style>\n",
       "<table border=\"1\" class=\"dataframe\">\n",
       "  <thead>\n",
       "    <tr style=\"text-align: right;\">\n",
       "      <th></th>\n",
       "      <th></th>\n",
       "      <th></th>\n",
       "      <th>diaSourceId</th>\n",
       "      <th>ccdVisitId</th>\n",
       "      <th>filterName</th>\n",
       "      <th>diaObjectId</th>\n",
       "      <th>ssObjectId</th>\n",
       "      <th>parentDiaSourceId</th>\n",
       "      <th>midPointTai</th>\n",
       "      <th>bboxSize</th>\n",
       "      <th>flags</th>\n",
       "      <th>ra</th>\n",
       "      <th>...</th>\n",
       "      <th>isDipole</th>\n",
       "      <th>totFlux</th>\n",
       "      <th>totFluxErr</th>\n",
       "      <th>ixx</th>\n",
       "      <th>iyy</th>\n",
       "      <th>ixy</th>\n",
       "      <th>ixxPSF</th>\n",
       "      <th>iyyPSF</th>\n",
       "      <th>ixyPSF</th>\n",
       "      <th>programId</th>\n",
       "    </tr>\n",
       "    <tr>\n",
       "      <th>diaObjectId</th>\n",
       "      <th>filterName</th>\n",
       "      <th>diaSourceId</th>\n",
       "      <th></th>\n",
       "      <th></th>\n",
       "      <th></th>\n",
       "      <th></th>\n",
       "      <th></th>\n",
       "      <th></th>\n",
       "      <th></th>\n",
       "      <th></th>\n",
       "      <th></th>\n",
       "      <th></th>\n",
       "      <th></th>\n",
       "      <th></th>\n",
       "      <th></th>\n",
       "      <th></th>\n",
       "      <th></th>\n",
       "      <th></th>\n",
       "      <th></th>\n",
       "      <th></th>\n",
       "      <th></th>\n",
       "      <th></th>\n",
       "      <th></th>\n",
       "    </tr>\n",
       "  </thead>\n",
       "  <tbody>\n",
       "    <tr>\n",
       "      <th>25404838930022778</th>\n",
       "      <th>g</th>\n",
       "      <th>25404838930022778</th>\n",
       "      <td>25404838930022778</td>\n",
       "      <td>11830050</td>\n",
       "      <td>g</td>\n",
       "      <td>25404838930022778</td>\n",
       "      <td>0</td>\n",
       "      <td>0</td>\n",
       "      <td>57454.309943</td>\n",
       "      <td>33</td>\n",
       "      <td>31162412.0</td>\n",
       "      <td>149.763291</td>\n",
       "      <td>...</td>\n",
       "      <td>False</td>\n",
       "      <td>27997.194310</td>\n",
       "      <td>44.926085</td>\n",
       "      <td>NaN</td>\n",
       "      <td>NaN</td>\n",
       "      <td>NaN</td>\n",
       "      <td>0.106419</td>\n",
       "      <td>0.006454</td>\n",
       "      <td>0.006454</td>\n",
       "      <td>0</td>\n",
       "    </tr>\n",
       "    <tr>\n",
       "      <th>25404838930022779</th>\n",
       "      <th>g</th>\n",
       "      <th>25404838930022779</th>\n",
       "      <td>25404838930022779</td>\n",
       "      <td>11830050</td>\n",
       "      <td>g</td>\n",
       "      <td>25404838930022779</td>\n",
       "      <td>0</td>\n",
       "      <td>0</td>\n",
       "      <td>57454.309943</td>\n",
       "      <td>31</td>\n",
       "      <td>31064396.0</td>\n",
       "      <td>149.763497</td>\n",
       "      <td>...</td>\n",
       "      <td>False</td>\n",
       "      <td>19.508084</td>\n",
       "      <td>21.007758</td>\n",
       "      <td>NaN</td>\n",
       "      <td>NaN</td>\n",
       "      <td>NaN</td>\n",
       "      <td>0.106480</td>\n",
       "      <td>0.006458</td>\n",
       "      <td>0.006458</td>\n",
       "      <td>0</td>\n",
       "    </tr>\n",
       "    <tr>\n",
       "      <th>25404838930022780</th>\n",
       "      <th>g</th>\n",
       "      <th>25404838930022780</th>\n",
       "      <td>25404838930022780</td>\n",
       "      <td>11830050</td>\n",
       "      <td>g</td>\n",
       "      <td>25404838930022780</td>\n",
       "      <td>0</td>\n",
       "      <td>0</td>\n",
       "      <td>57454.309943</td>\n",
       "      <td>19</td>\n",
       "      <td>25166156.0</td>\n",
       "      <td>149.764042</td>\n",
       "      <td>...</td>\n",
       "      <td>False</td>\n",
       "      <td>-111.842737</td>\n",
       "      <td>20.839950</td>\n",
       "      <td>NaN</td>\n",
       "      <td>NaN</td>\n",
       "      <td>NaN</td>\n",
       "      <td>0.106483</td>\n",
       "      <td>0.006458</td>\n",
       "      <td>0.006458</td>\n",
       "      <td>0</td>\n",
       "    </tr>\n",
       "    <tr>\n",
       "      <th>25404838930022781</th>\n",
       "      <th>g</th>\n",
       "      <th>25404838930022781</th>\n",
       "      <td>25404838930022781</td>\n",
       "      <td>11830050</td>\n",
       "      <td>g</td>\n",
       "      <td>25404838930022781</td>\n",
       "      <td>0</td>\n",
       "      <td>0</td>\n",
       "      <td>57454.309943</td>\n",
       "      <td>25</td>\n",
       "      <td>25166156.0</td>\n",
       "      <td>149.764071</td>\n",
       "      <td>...</td>\n",
       "      <td>False</td>\n",
       "      <td>-84.233869</td>\n",
       "      <td>20.830093</td>\n",
       "      <td>NaN</td>\n",
       "      <td>NaN</td>\n",
       "      <td>NaN</td>\n",
       "      <td>0.106484</td>\n",
       "      <td>0.006458</td>\n",
       "      <td>0.006458</td>\n",
       "      <td>0</td>\n",
       "    </tr>\n",
       "    <tr>\n",
       "      <th>25404838930022782</th>\n",
       "      <th>g</th>\n",
       "      <th>25404838930022782</th>\n",
       "      <td>25404838930022782</td>\n",
       "      <td>11830050</td>\n",
       "      <td>g</td>\n",
       "      <td>25404838930022782</td>\n",
       "      <td>0</td>\n",
       "      <td>0</td>\n",
       "      <td>57454.309943</td>\n",
       "      <td>46</td>\n",
       "      <td>332.0</td>\n",
       "      <td>149.764753</td>\n",
       "      <td>...</td>\n",
       "      <td>False</td>\n",
       "      <td>2106.014527</td>\n",
       "      <td>23.239308</td>\n",
       "      <td>0.061968</td>\n",
       "      <td>0.274033</td>\n",
       "      <td>-0.012331</td>\n",
       "      <td>0.106488</td>\n",
       "      <td>0.006458</td>\n",
       "      <td>0.006458</td>\n",
       "      <td>0</td>\n",
       "    </tr>\n",
       "    <tr>\n",
       "      <th>...</th>\n",
       "      <th>...</th>\n",
       "      <th>...</th>\n",
       "      <td>...</td>\n",
       "      <td>...</td>\n",
       "      <td>...</td>\n",
       "      <td>...</td>\n",
       "      <td>...</td>\n",
       "      <td>...</td>\n",
       "      <td>...</td>\n",
       "      <td>...</td>\n",
       "      <td>...</td>\n",
       "      <td>...</td>\n",
       "      <td>...</td>\n",
       "      <td>...</td>\n",
       "      <td>...</td>\n",
       "      <td>...</td>\n",
       "      <td>...</td>\n",
       "      <td>...</td>\n",
       "      <td>...</td>\n",
       "      <td>...</td>\n",
       "      <td>...</td>\n",
       "      <td>...</td>\n",
       "      <td>...</td>\n",
       "    </tr>\n",
       "    <tr>\n",
       "      <th>25409136044802572</th>\n",
       "      <th>g</th>\n",
       "      <th>25409136044802572</th>\n",
       "      <td>25409136044802572</td>\n",
       "      <td>11832051</td>\n",
       "      <td>g</td>\n",
       "      <td>25409136044802572</td>\n",
       "      <td>0</td>\n",
       "      <td>0</td>\n",
       "      <td>57454.329282</td>\n",
       "      <td>19</td>\n",
       "      <td>31162732.0</td>\n",
       "      <td>149.963679</td>\n",
       "      <td>...</td>\n",
       "      <td>False</td>\n",
       "      <td>40.359542</td>\n",
       "      <td>41.123614</td>\n",
       "      <td>NaN</td>\n",
       "      <td>NaN</td>\n",
       "      <td>NaN</td>\n",
       "      <td>0.106425</td>\n",
       "      <td>0.018253</td>\n",
       "      <td>0.018253</td>\n",
       "      <td>0</td>\n",
       "    </tr>\n",
       "    <tr>\n",
       "      <th>25409136044802573</th>\n",
       "      <th>g</th>\n",
       "      <th>25409136044802573</th>\n",
       "      <td>25409136044802573</td>\n",
       "      <td>11832051</td>\n",
       "      <td>g</td>\n",
       "      <td>25409136044802573</td>\n",
       "      <td>0</td>\n",
       "      <td>0</td>\n",
       "      <td>57454.329282</td>\n",
       "      <td>17</td>\n",
       "      <td>31163756.0</td>\n",
       "      <td>149.963675</td>\n",
       "      <td>...</td>\n",
       "      <td>False</td>\n",
       "      <td>66.989946</td>\n",
       "      <td>41.675299</td>\n",
       "      <td>NaN</td>\n",
       "      <td>NaN</td>\n",
       "      <td>NaN</td>\n",
       "      <td>0.106416</td>\n",
       "      <td>0.018251</td>\n",
       "      <td>0.018251</td>\n",
       "      <td>0</td>\n",
       "    </tr>\n",
       "    <tr>\n",
       "      <th>25409136044802574</th>\n",
       "      <th>g</th>\n",
       "      <th>25409136044802574</th>\n",
       "      <td>25409136044802574</td>\n",
       "      <td>11832051</td>\n",
       "      <td>g</td>\n",
       "      <td>25409136044802574</td>\n",
       "      <td>0</td>\n",
       "      <td>0</td>\n",
       "      <td>57454.329282</td>\n",
       "      <td>18</td>\n",
       "      <td>31162700.0</td>\n",
       "      <td>149.963780</td>\n",
       "      <td>...</td>\n",
       "      <td>False</td>\n",
       "      <td>71.910864</td>\n",
       "      <td>41.623322</td>\n",
       "      <td>NaN</td>\n",
       "      <td>NaN</td>\n",
       "      <td>NaN</td>\n",
       "      <td>0.106400</td>\n",
       "      <td>0.018248</td>\n",
       "      <td>0.018248</td>\n",
       "      <td>0</td>\n",
       "    </tr>\n",
       "    <tr>\n",
       "      <th>25409136044802575</th>\n",
       "      <th>g</th>\n",
       "      <th>25409136044802575</th>\n",
       "      <td>25409136044802575</td>\n",
       "      <td>11832051</td>\n",
       "      <td>g</td>\n",
       "      <td>25409136044802575</td>\n",
       "      <td>0</td>\n",
       "      <td>0</td>\n",
       "      <td>57454.329282</td>\n",
       "      <td>31</td>\n",
       "      <td>31162844.0</td>\n",
       "      <td>149.963873</td>\n",
       "      <td>...</td>\n",
       "      <td>False</td>\n",
       "      <td>92.134672</td>\n",
       "      <td>40.750230</td>\n",
       "      <td>NaN</td>\n",
       "      <td>NaN</td>\n",
       "      <td>NaN</td>\n",
       "      <td>0.106355</td>\n",
       "      <td>0.018241</td>\n",
       "      <td>0.018241</td>\n",
       "      <td>0</td>\n",
       "    </tr>\n",
       "    <tr>\n",
       "      <th>25409136044802576</th>\n",
       "      <th>g</th>\n",
       "      <th>25409136044802576</th>\n",
       "      <td>25409136044802576</td>\n",
       "      <td>11832051</td>\n",
       "      <td>g</td>\n",
       "      <td>25409136044802576</td>\n",
       "      <td>0</td>\n",
       "      <td>0</td>\n",
       "      <td>57454.329282</td>\n",
       "      <td>25</td>\n",
       "      <td>31162700.0</td>\n",
       "      <td>149.963818</td>\n",
       "      <td>...</td>\n",
       "      <td>False</td>\n",
       "      <td>57.401106</td>\n",
       "      <td>41.536399</td>\n",
       "      <td>NaN</td>\n",
       "      <td>NaN</td>\n",
       "      <td>NaN</td>\n",
       "      <td>0.106423</td>\n",
       "      <td>0.018252</td>\n",
       "      <td>0.018252</td>\n",
       "      <td>0</td>\n",
       "    </tr>\n",
       "  </tbody>\n",
       "</table>\n",
       "<p>511 rows × 44 columns</p>\n",
       "</div>"
      ],
      "text/plain": [
       "                                                      diaSourceId  ccdVisitId  \\\n",
       "diaObjectId       filterName diaSourceId                                        \n",
       "25404838930022778 g          25404838930022778  25404838930022778    11830050   \n",
       "25404838930022779 g          25404838930022779  25404838930022779    11830050   \n",
       "25404838930022780 g          25404838930022780  25404838930022780    11830050   \n",
       "25404838930022781 g          25404838930022781  25404838930022781    11830050   \n",
       "25404838930022782 g          25404838930022782  25404838930022782    11830050   \n",
       "...                                                           ...         ...   \n",
       "25409136044802572 g          25409136044802572  25409136044802572    11832051   \n",
       "25409136044802573 g          25409136044802573  25409136044802573    11832051   \n",
       "25409136044802574 g          25409136044802574  25409136044802574    11832051   \n",
       "25409136044802575 g          25409136044802575  25409136044802575    11832051   \n",
       "25409136044802576 g          25409136044802576  25409136044802576    11832051   \n",
       "\n",
       "                                               filterName        diaObjectId  \\\n",
       "diaObjectId       filterName diaSourceId                                       \n",
       "25404838930022778 g          25404838930022778          g  25404838930022778   \n",
       "25404838930022779 g          25404838930022779          g  25404838930022779   \n",
       "25404838930022780 g          25404838930022780          g  25404838930022780   \n",
       "25404838930022781 g          25404838930022781          g  25404838930022781   \n",
       "25404838930022782 g          25404838930022782          g  25404838930022782   \n",
       "...                                                   ...                ...   \n",
       "25409136044802572 g          25409136044802572          g  25409136044802572   \n",
       "25409136044802573 g          25409136044802573          g  25409136044802573   \n",
       "25409136044802574 g          25409136044802574          g  25409136044802574   \n",
       "25409136044802575 g          25409136044802575          g  25409136044802575   \n",
       "25409136044802576 g          25409136044802576          g  25409136044802576   \n",
       "\n",
       "                                                ssObjectId  parentDiaSourceId  \\\n",
       "diaObjectId       filterName diaSourceId                                        \n",
       "25404838930022778 g          25404838930022778           0                  0   \n",
       "25404838930022779 g          25404838930022779           0                  0   \n",
       "25404838930022780 g          25404838930022780           0                  0   \n",
       "25404838930022781 g          25404838930022781           0                  0   \n",
       "25404838930022782 g          25404838930022782           0                  0   \n",
       "...                                                    ...                ...   \n",
       "25409136044802572 g          25409136044802572           0                  0   \n",
       "25409136044802573 g          25409136044802573           0                  0   \n",
       "25409136044802574 g          25409136044802574           0                  0   \n",
       "25409136044802575 g          25409136044802575           0                  0   \n",
       "25409136044802576 g          25409136044802576           0                  0   \n",
       "\n",
       "                                                 midPointTai  bboxSize  \\\n",
       "diaObjectId       filterName diaSourceId                                 \n",
       "25404838930022778 g          25404838930022778  57454.309943        33   \n",
       "25404838930022779 g          25404838930022779  57454.309943        31   \n",
       "25404838930022780 g          25404838930022780  57454.309943        19   \n",
       "25404838930022781 g          25404838930022781  57454.309943        25   \n",
       "25404838930022782 g          25404838930022782  57454.309943        46   \n",
       "...                                                      ...       ...   \n",
       "25409136044802572 g          25409136044802572  57454.329282        19   \n",
       "25409136044802573 g          25409136044802573  57454.329282        17   \n",
       "25409136044802574 g          25409136044802574  57454.329282        18   \n",
       "25409136044802575 g          25409136044802575  57454.329282        31   \n",
       "25409136044802576 g          25409136044802576  57454.329282        25   \n",
       "\n",
       "                                                     flags          ra  ...  \\\n",
       "diaObjectId       filterName diaSourceId                                ...   \n",
       "25404838930022778 g          25404838930022778  31162412.0  149.763291  ...   \n",
       "25404838930022779 g          25404838930022779  31064396.0  149.763497  ...   \n",
       "25404838930022780 g          25404838930022780  25166156.0  149.764042  ...   \n",
       "25404838930022781 g          25404838930022781  25166156.0  149.764071  ...   \n",
       "25404838930022782 g          25404838930022782       332.0  149.764753  ...   \n",
       "...                                                    ...         ...  ...   \n",
       "25409136044802572 g          25409136044802572  31162732.0  149.963679  ...   \n",
       "25409136044802573 g          25409136044802573  31163756.0  149.963675  ...   \n",
       "25409136044802574 g          25409136044802574  31162700.0  149.963780  ...   \n",
       "25409136044802575 g          25409136044802575  31162844.0  149.963873  ...   \n",
       "25409136044802576 g          25409136044802576  31162700.0  149.963818  ...   \n",
       "\n",
       "                                                isDipole       totFlux  \\\n",
       "diaObjectId       filterName diaSourceId                                 \n",
       "25404838930022778 g          25404838930022778     False  27997.194310   \n",
       "25404838930022779 g          25404838930022779     False     19.508084   \n",
       "25404838930022780 g          25404838930022780     False   -111.842737   \n",
       "25404838930022781 g          25404838930022781     False    -84.233869   \n",
       "25404838930022782 g          25404838930022782     False   2106.014527   \n",
       "...                                                  ...           ...   \n",
       "25409136044802572 g          25409136044802572     False     40.359542   \n",
       "25409136044802573 g          25409136044802573     False     66.989946   \n",
       "25409136044802574 g          25409136044802574     False     71.910864   \n",
       "25409136044802575 g          25409136044802575     False     92.134672   \n",
       "25409136044802576 g          25409136044802576     False     57.401106   \n",
       "\n",
       "                                                totFluxErr       ixx  \\\n",
       "diaObjectId       filterName diaSourceId                               \n",
       "25404838930022778 g          25404838930022778   44.926085       NaN   \n",
       "25404838930022779 g          25404838930022779   21.007758       NaN   \n",
       "25404838930022780 g          25404838930022780   20.839950       NaN   \n",
       "25404838930022781 g          25404838930022781   20.830093       NaN   \n",
       "25404838930022782 g          25404838930022782   23.239308  0.061968   \n",
       "...                                                    ...       ...   \n",
       "25409136044802572 g          25409136044802572   41.123614       NaN   \n",
       "25409136044802573 g          25409136044802573   41.675299       NaN   \n",
       "25409136044802574 g          25409136044802574   41.623322       NaN   \n",
       "25409136044802575 g          25409136044802575   40.750230       NaN   \n",
       "25409136044802576 g          25409136044802576   41.536399       NaN   \n",
       "\n",
       "                                                     iyy       ixy    ixxPSF  \\\n",
       "diaObjectId       filterName diaSourceId                                       \n",
       "25404838930022778 g          25404838930022778       NaN       NaN  0.106419   \n",
       "25404838930022779 g          25404838930022779       NaN       NaN  0.106480   \n",
       "25404838930022780 g          25404838930022780       NaN       NaN  0.106483   \n",
       "25404838930022781 g          25404838930022781       NaN       NaN  0.106484   \n",
       "25404838930022782 g          25404838930022782  0.274033 -0.012331  0.106488   \n",
       "...                                                  ...       ...       ...   \n",
       "25409136044802572 g          25409136044802572       NaN       NaN  0.106425   \n",
       "25409136044802573 g          25409136044802573       NaN       NaN  0.106416   \n",
       "25409136044802574 g          25409136044802574       NaN       NaN  0.106400   \n",
       "25409136044802575 g          25409136044802575       NaN       NaN  0.106355   \n",
       "25409136044802576 g          25409136044802576       NaN       NaN  0.106423   \n",
       "\n",
       "                                                  iyyPSF    ixyPSF  programId  \n",
       "diaObjectId       filterName diaSourceId                                       \n",
       "25404838930022778 g          25404838930022778  0.006454  0.006454          0  \n",
       "25404838930022779 g          25404838930022779  0.006458  0.006458          0  \n",
       "25404838930022780 g          25404838930022780  0.006458  0.006458          0  \n",
       "25404838930022781 g          25404838930022781  0.006458  0.006458          0  \n",
       "25404838930022782 g          25404838930022782  0.006458  0.006458          0  \n",
       "...                                                  ...       ...        ...  \n",
       "25409136044802572 g          25409136044802572  0.018253  0.018253          0  \n",
       "25409136044802573 g          25409136044802573  0.018251  0.018251          0  \n",
       "25409136044802574 g          25409136044802574  0.018248  0.018248          0  \n",
       "25409136044802575 g          25409136044802575  0.018241  0.018241          0  \n",
       "25409136044802576 g          25409136044802576  0.018252  0.018252          0  \n",
       "\n",
       "[511 rows x 44 columns]"
      ]
     },
     "execution_count": 12,
     "metadata": {},
     "output_type": "execute_result"
    }
   ],
   "source": [
    "df"
   ]
  },
  {
   "cell_type": "code",
   "execution_count": 13,
   "id": "3b1b2bb2-440d-4497-9460-5013b6f004ea",
   "metadata": {},
   "outputs": [
    {
     "data": {
      "text/plain": [
       "1"
      ]
     },
     "execution_count": 13,
     "metadata": {},
     "output_type": "execute_result"
    }
   ],
   "source": [
    "np.sum(df['ssObjectId'] > 0)"
   ]
  },
  {
   "cell_type": "code",
   "execution_count": 15,
   "id": "80a7fa8e-a511-4053-a3d3-e1c9a4b8997a",
   "metadata": {},
   "outputs": [],
   "source": [
    "# so we can simply count > ssObjectId for the number of assocated diaSources"
   ]
  },
  {
   "cell_type": "markdown",
   "id": "748991dd",
   "metadata": {},
   "source": [
    "### Terminology\n",
    "\n",
    "Data Types\n",
    "* Scalar - Something that is number like (int, float, numpy.float32 etc.)\n",
    "* Vector - Something that is ndarray like\n",
    "* KeyedData - Anything that is indexed by a string that can return a Vector, or Scalar\n",
    "\n",
    "Analysis Structures\n",
    "* ConfigurableAction - generic interface for function like objects (actions) that have state which can be set during configuration\n",
    "* AnalysisAction - A ConfigurableAction subclass that is specialized for actions that function in analysis contexts\n",
    "* AnalysisTool - A top level \"container\" of multiple AnalysisActions which performs one type of analysis\n",
    "\n",
    "Below we dive into the later two in more detail"
   ]
  },
  {
   "cell_type": "markdown",
   "id": "5b669978-bb2f-4564-98a5-73bb88a658a7",
   "metadata": {},
   "source": [
    "### Using AnalysisActions\n",
    "\n",
    "* These are the atomic bits of analysis_tools; They can be combined together to make more complex actions, or used as part of an AnalysisTool\n",
    "* Show some examples of using configurable actions like standalone functions. This is intended to provide users with more intution about how configurable actions work.\n",
    "* Examples with KeyedDataActions, VectorActions (including selectors), and ScalarActions\n",
    "* Show examples of configuration"
   ]
  },
  {
   "cell_type": "code",
   "execution_count": 14,
   "id": "4d995033-8aca-47f2-9dc4-d2a0c23c440e",
   "metadata": {},
   "outputs": [],
   "source": [
    "from lsst.analysis.tools.actions.vector import DownselectVector, ThresholdSelector\n",
    "from lsst.analysis.tools.actions.scalar import CountAction\n",
    "#from lsst.analysis.tools.actions.vector import DownselectVector"
   ]
  },
  {
   "cell_type": "markdown",
   "id": "3f486b93-0a8a-43af-b232-ebd4d83bc150",
   "metadata": {},
   "source": [
    "Let's create an action to determine the number of nonzero `ssObjectId`s"
   ]
  },
  {
   "cell_type": "code",
   "execution_count": 15,
   "id": "68fa6d3c-f3c6-49ab-aac3-e236086b7dfc",
   "metadata": {},
   "outputs": [],
   "source": [
    "downselector = DownselectVector(vectorKey='ssObjectId',selector=ThresholdSelector(op='gt',threshold=1,vectorKey='ssObjectId'))"
   ]
  },
  {
   "cell_type": "code",
   "execution_count": 16,
   "id": "0d5ca9ca-4b41-4d3a-9227-12493db36eaa",
   "metadata": {},
   "outputs": [
    {
     "name": "stdout",
     "output_type": "stream",
     "text": [
      "{'selector': {'op': 'gt', 'threshold': 1.0, 'vectorKey': 'ssObjectId'},\n",
      " 'vectorKey': 'ssObjectId'}\n"
     ]
    }
   ],
   "source": [
    "# Inspect the configuration of this object.\n",
    "pprint(downselector.toDict())"
   ]
  },
  {
   "cell_type": "code",
   "execution_count": 17,
   "id": "ff4af1d1-6cfd-4709-80c5-9b7d057f1667",
   "metadata": {},
   "outputs": [
    {
     "data": {
      "text/plain": [
       "[('ssObjectId', numpy.ndarray[typing.Any, numpy.dtype[+ScalarType]]),\n",
       " ('ssObjectId', numpy.ndarray[typing.Any, numpy.dtype[+ScalarType]])]"
      ]
     },
     "execution_count": 17,
     "metadata": {},
     "output_type": "execute_result"
    }
   ],
   "source": [
    "# Inspect the required input schema, notice that we will need to provide the band information\n",
    "list(downselector.getInputSchema())"
   ]
  },
  {
   "cell_type": "code",
   "execution_count": 18,
   "id": "70d5f028-6ee5-4188-a82d-9e00dfb12ae7",
   "metadata": {},
   "outputs": [
    {
     "name": "stdout",
     "output_type": "stream",
     "text": [
      "diaObjectId  filterName  diaSourceId      \n",
      "0            g           25409136044802436    4362913742843557\n",
      "Name: ssObjectId, dtype: int64\n"
     ]
    }
   ],
   "source": [
    "ssdf = downselector(df)\n",
    "print(ssdf)"
   ]
  },
  {
   "cell_type": "code",
   "execution_count": 19,
   "id": "5d3ff067-5e87-4e48-9676-527795d75fbe",
   "metadata": {},
   "outputs": [],
   "source": [
    "ct = CountAction(vectorKey='ssObjectId')"
   ]
  },
  {
   "cell_type": "code",
   "execution_count": 20,
   "id": "5b78ddac-200f-4a86-9089-10e5e22f224a",
   "metadata": {},
   "outputs": [
    {
     "name": "stdout",
     "output_type": "stream",
     "text": [
      "{'vectorKey': 'ssObjectId'}\n"
     ]
    }
   ],
   "source": [
    "pprint(ct.toDict())"
   ]
  },
  {
   "cell_type": "code",
   "execution_count": 21,
   "id": "ceae14fa-d262-44a8-b9e6-b176677f7199",
   "metadata": {},
   "outputs": [
    {
     "data": {
      "text/plain": [
       "[('ssObjectId', numpy.ndarray[typing.Any, numpy.dtype[+ScalarType]])]"
      ]
     },
     "execution_count": 21,
     "metadata": {},
     "output_type": "execute_result"
    }
   ],
   "source": [
    "list(ct.getInputSchema())"
   ]
  },
  {
   "cell_type": "code",
   "execution_count": 22,
   "id": "f175dbb1-282c-4911-b90e-6aacc1faf8c3",
   "metadata": {},
   "outputs": [
    {
     "data": {
      "text/plain": [
       "1"
      ]
     },
     "execution_count": 22,
     "metadata": {},
     "output_type": "execute_result"
    }
   ],
   "source": [
    "# selector created a series but the action wanted a dataframe\n",
    "ct(pd.DataFrame(ssdf))"
   ]
  },
  {
   "cell_type": "markdown",
   "id": "cf56cde4-0c53-42ad-9e7f-374f58a0b27d",
   "metadata": {},
   "source": [
    "## Make a custom analysis tool\n",
    "\n",
    "Let's take a look at what at how a metric is implemented before creating a new AnalysisTool"
   ]
  },
  {
   "cell_type": "markdown",
   "id": "7ba839c5",
   "metadata": {},
   "source": [
    "As discussed above, AnalysisTools (AnalysisMetric is a specialized subclass) are container classes for AnalysisActions.\n",
    "\n",
    "To make deploying metrics and plots as easy as possible Analysis(Metric/Plots) contain default AnalysisActions that enable new AnalysisTools to be created by simply setting configuration.\n",
    "\n",
    "The default prep action allow specifiying keys to load from input data, and applying selectors. If calling an AnalysisTool directly, the required keys can be set automatically.\n",
    "\n",
    "The default process action itself has 3 stages to it,\n",
    "* buildActions - actions which build derived data\n",
    "* filterActions - If derived data needs to be filtered it can go here\n",
    "* calculateActions - Any final calculations that may need done can be put here\n",
    "\n",
    "These stages run sequentually, and any stage are allowed to have no actions set to run in them.\n",
    "\n",
    "AnalysisMetrics have a default action which allow values produced in process to be mapped to lsst.verify.Measurements\n",
    "\n",
    "The produce stage of AnalysisPlots do not have a default, as this is where the plot to produce is to be set."
   ]
  },
  {
   "cell_type": "code",
   "execution_count": 23,
   "id": "4f74a355",
   "metadata": {},
   "outputs": [
    {
     "name": "stdout",
     "output_type": "stream",
     "text": [
      "{'NumSsObjectsMetric': Measurement('NumSsObjectsMetric', <Quantity 1. ct>)}\n"
     ]
    }
   ],
   "source": [
    "from lsst.analysis.tools.interfaces import AnalysisMetric\n",
    "\n",
    "from lsst.analysis.tools.actions.vector import DownselectVector, ThresholdSelector\n",
    "from lsst.analysis.tools.actions.scalar import CountAction\n",
    "\n",
    "import astropy.units as u\n",
    "\n",
    "class NumSsObjectsMetric(AnalysisMetric):\n",
    "    def setDefaults(self):\n",
    "        super().setDefaults()\n",
    "        \n",
    "        self.process.buildActions.thresholdSelector = ThresholdSelector()\n",
    "        \n",
    "        # select nonzero ssObjectId\n",
    "        self.process.buildActions.thresholdSelector.vectorKey = \"ssObjectId\"\n",
    "        self.process.buildActions.thresholdSelector.op = \"ge\"\n",
    "        self.process.buildActions.thresholdSelector.threshold = 1\n",
    "       \n",
    "        # the final name in the qualification is used as a key to insert\n",
    "        # the calculation into KeyedData\n",
    "        self.process.filterActions.allSSOs = DownselectVector(vectorKey=\"ssObjectId\",\n",
    "                                                              selector=self.process.buildActions.thresholdSelector)\n",
    "        \n",
    "        self.process.calculateActions.NumSsObjectsMetric = CountAction(vectorKey=\"allSSOs\")\n",
    "\n",
    "        \n",
    "        # tell the metric what the units are for the quantity (count, an astropy quantity); needs to be a string\n",
    "        self.produce.units = {\"NumSsObjectsMetric\": \"ct\"}\n",
    "        \n",
    "        # Rename the quantity prior to producing the Metric\n",
    "        # (useful for resuable workflows that set a name toward the end of computation)\n",
    "        #self.produce.newNames = {\"medianValueName\": \"NumSsObjectsMetric\"}\n",
    "\n",
    "# make some fake data\n",
    "metric = NumSsObjectsMetric()(df)\n",
    "print(metric)"
   ]
  },
  {
   "cell_type": "markdown",
   "id": "8ee2cb51-b412-4a13-9829-cfd267f8ef7e",
   "metadata": {},
   "source": [
    "## Workflow examples"
   ]
  },
  {
   "cell_type": "markdown",
   "id": "b0c55816-f242-4c8e-81f4-8bdafedcd29e",
   "metadata": {
    "jp-MarkdownHeadingCollapsed": true,
    "tags": []
   },
   "source": [
    "### Running analysis_tools as part of a pipeline\n",
    "\n",
    "* **All examples in this notebook should use the simple pipeline executor** (here is how you do it in a notebook)\n",
    "* We have a PipelineTask for each data product. A task can run multiple AnalysisTools that each produce a set of plots or set of metrics and are subclasses of AnalysisPipelineTask.\n",
    "* Discuss an example yaml pipeline file (load the yaml)\n",
    "* Provide the command to run the pipeline\n",
    "* Show how to configure the pipeline, e.g., turning on or off different metrics and plots or changing other parameters"
   ]
  },
  {
   "cell_type": "markdown",
   "id": "5f41f426",
   "metadata": {},
   "source": [
    "## Pipeline\n",
    "This is a copy of the coaddQualityCore pipeline in analysis_tools, reproduced here for reference\n",
    "```\n",
    "description: |\n",
    "  Tier1 plots and metrics to assess coadd quality\n",
    "tasks:\n",
    "  analyzeObjectTableCore:\n",
    "    class: lsst.analysis.tools.tasks.ObjectTableTractAnalysisTask\n",
    "    config:\n",
    "      connections.outputName: objectTableCore\n",
    "      plots.shapeSizeFractionalDiffScatter: ShapeSizeFractionalDiffScatterPlot\n",
    "      metrics.shapeSizeFractionalMetric: ShapeSizeFractionalMetric\n",
    "      plots.e1DiffScatter: E1DiffScatterPlot\n",
    "      metrics.e1DiffScatterMetric: E1DiffMetric\n",
    "      plots.e2DiffScatter: E2DiffScatterPlot\n",
    "      metrics.e2DiffScatterMetric: E2DiffMetric\n",
    "      metrics.skyFluxStatisticMetric: SkyFluxStatisticMetric\n",
    "      metrics.skyFluxStatisticMetric.applyContext: CoaddContext\n",
    "      python: |\n",
    "        from lsst.analysis.tools.analysisPlots import *\n",
    "        from lsst.analysis.tools.analysisMetrics import *\n",
    "        from lsst.analysis.tools.contexts import *\n",
    "  catalogMatchTract:\n",
    "    class: lsst.analysis.tools.tasks.catalogMatch.CatalogMatchTask\n",
    "    config:\n",
    "      bands: ['u', 'g', 'r', 'i', 'z', 'y']\n",
    "  refCatObjectTract:\n",
    "    class: lsst.analysis.tools.tasks.refCatObjectAnalysis.RefCatObjectAnalysisTask\n",
    "    config:\n",
    "      bands: ['u', 'g', 'r', 'i', 'z', 'y']\n",
    "      ```"
   ]
  },
  {
   "cell_type": "code",
   "execution_count": 6,
   "id": "e3b465db",
   "metadata": {
    "tags": []
   },
   "outputs": [],
   "source": [
    "from lsst.ctrl.mpexec import SimplePipelineExecutor\n",
    "from lsst.pipe.base import Pipeline\n",
    "\n",
    "# set up an output collection with your username\n",
    "outputCollection = \"u/ebellm/analysisToolsExample\"\n",
    "\n",
    "# this can be skipped if you already have a read writable butler setup (above is read only)\n",
    "butlerRW = SimplePipelineExecutor.prep_butler(repo, inputs=[collection], output=outputCollection)\n",
    "\n",
    "# load in the pipeline to run\n",
    "pipeline = Pipeline.from_uri(\"$ANALYSIS_TOOLS_DIR/pipelines/apCcdVisitQualityCore.yaml\")\n",
    "\n",
    "# override a configuration within a certain AnalysisTool\n",
    "#configKey = \"plots.shapeSizeFractionalDiffScatter.prep.selectors.snSelector.threshold\"\n",
    "#pipeline.addConfigOverride(\"analyzeObjectTableCore\", configKey, 400)\n",
    "\n",
    "#bands = ['g', 'r', 'i', 'z']\n",
    "#pipeline.addConfigOverride(\"analyzeObjectTableCore\", \"bands\", bands)\n",
    "#pipeline.addConfigOverride(\"catalogMatchTract\", \"bands\", bands)\n",
    "#pipeline.addConfigOverride(\"refCatObjectTract\", \"bands\", bands)\n",
    "\n",
    "# restrict processing to the same dataId used above\n",
    "#whereString = \"tract = 9813 AND skymap = 'hsc_rings_v1'\"\n",
    "whereString = \"\"\n",
    "\n",
    "# Prevent the executor from dumping plots into the notebook\n",
    "backend_ =  mpl.get_backend() \n",
    "mpl.use(\"Agg\")\n",
    "\n",
    "executor = SimplePipelineExecutor.from_pipeline(pipeline, where=whereString, butler=butlerRW)\n",
    "quanta = executor.run(True)\n",
    "\n",
    "# Restore the ability for plots to be put into the notebook\n",
    "mpl.use(backend_)\n",
    "\n",
    "# If you only want to run one plot in a task in the pipeline do the following prior to execution\n",
    "# pipeline.addConfigOverride(\"analyzeObjectTableCore\", \"plots\", None)\n",
    "# pipeline.addConfigOverride(\"analyzeObjectTableCore\", \"plots\", ShapeSizeFractionalDiffScatterPlot)"
   ]
  },
  {
   "cell_type": "markdown",
   "id": "d7c9a863-4bac-49d4-bd1b-e29529cabafc",
   "metadata": {},
   "source": [
    "### Inspect the results"
   ]
  },
  {
   "cell_type": "code",
   "execution_count": 7,
   "id": "2c705181",
   "metadata": {
    "tags": []
   },
   "outputs": [
    {
     "name": "stdout",
     "output_type": "stream",
     "text": [
      "{'numSsObjects': [Measurement('NumSsObjectsMetric', <Quantity 1. ct>)]}\n"
     ]
    }
   ],
   "source": [
    "# refresh our read-only butler to see the changes made. (it's generally a\n",
    "# good idea to work on read-only things)\n",
    "butler.registry.refresh()\n",
    "\n",
    "# see what datasets exist; there should now be diaSourceTableCore_metrics\n",
    "#for d in sorted(butler.registry.queryDatasetTypes()): print(d.name)\n",
    "\n",
    "# get the metric that was written\n",
    "refs = sorted(butler.registry.queryDatasets(\"diaSourceTableCore_metrics\", collections=outputCollection))\n",
    "refs[1].dataId\n",
    "diaSourceTable_metrics = butler.get(\"diaSourceTableCore_metrics\", dataId=refs[1].dataId, collections=outputCollection)\n",
    "pprint(diaSourceTable_metrics)"
   ]
  },
  {
   "cell_type": "markdown",
   "id": "e5721b9f-42e5-4be2-bd8d-9452681faa0c",
   "metadata": {},
   "source": [
    "### Reconstruct the inputs to an analysis_tool\n",
    "\n",
    "Analysis(Tools/Actions) allow the exact state of and AnalysisTools to be saved into the butler when a pipeline is run. This allows a user to 'reconstruct' things as they were when the tools were executed. This aids in debugging and deep diving into the data.\n",
    "\n",
    "Below is an example of reconstructing one of the tasks that was run in the Pipeline above."
   ]
  },
  {
   "cell_type": "code",
   "execution_count": 35,
   "id": "9a60b9b7",
   "metadata": {
    "tags": []
   },
   "outputs": [
    {
     "ename": "LookupError",
     "evalue": "Dataset analyzeObjectTableCore_config with data ID {} could not be found in collections ('u/bechtol/analysisToolsExample',).",
     "output_type": "error",
     "traceback": [
      "\u001b[0;31m---------------------------------------------------------------------------\u001b[0m",
      "\u001b[0;31mLookupError\u001b[0m                               Traceback (most recent call last)",
      "Input \u001b[0;32mIn [35]\u001b[0m, in \u001b[0;36m<cell line: 5>\u001b[0;34m()\u001b[0m\n\u001b[1;32m      3\u001b[0m \u001b[38;5;66;03m# Read in just one task\u001b[39;00m\n\u001b[1;32m      4\u001b[0m label \u001b[38;5;241m=\u001b[39m \u001b[38;5;124m\"\u001b[39m\u001b[38;5;124manalyzeObjectTableCore\u001b[39m\u001b[38;5;124m\"\u001b[39m\n\u001b[0;32m----> 5\u001b[0m taskState, inputData \u001b[38;5;241m=\u001b[39m \u001b[43mreconstructAnalysisTools\u001b[49m\u001b[43m(\u001b[49m\u001b[43mbutler\u001b[49m\u001b[43m,\u001b[49m\u001b[43m \u001b[49m\u001b[43mcollection\u001b[49m\u001b[38;5;241;43m=\u001b[39;49m\u001b[43moutputCollection\u001b[49m\u001b[43m,\u001b[49m\u001b[43m \u001b[49m\u001b[43mlabel\u001b[49m\u001b[38;5;241;43m=\u001b[39;49m\u001b[43mlabel\u001b[49m\u001b[43m,\u001b[49m\u001b[43m \u001b[49m\u001b[43mdataId\u001b[49m\u001b[38;5;241;43m=\u001b[39;49m\u001b[43mdataId\u001b[49m\u001b[43m,\u001b[49m\u001b[43m \u001b[49m\u001b[43mcallback\u001b[49m\u001b[38;5;241;43m=\u001b[39;49m\u001b[38;5;28;43;01mNone\u001b[39;49;00m\u001b[43m)\u001b[49m\n\u001b[1;32m      6\u001b[0m pprint(taskState)\n\u001b[1;32m      7\u001b[0m pprint(inputData)\n",
      "File \u001b[0;32m/opt/lsst/software/stack/stack/miniconda3-py38_4.9.2-4.1.0/Linux64/analysis_tools/g794f078e44+7d9f6e5a16/python/lsst/analysis/tools/tasks/reconstructor.py:72\u001b[0m, in \u001b[0;36mreconstructAnalysisTools\u001b[0;34m(butler, collection, label, dataId, callback)\u001b[0m\n\u001b[1;32m     41\u001b[0m \u001b[38;5;124;03m\"\"\"Reconstructs the analysis tools used to produce metrics and plots in a\u001b[39;00m\n\u001b[1;32m     42\u001b[0m \u001b[38;5;124;03mtask and all input data required.\u001b[39;00m\n\u001b[1;32m     43\u001b[0m \n\u001b[0;32m   (...)\u001b[0m\n\u001b[1;32m     69\u001b[0m \u001b[38;5;124;03m    The data that went into producing metrics and plots.\u001b[39;00m\n\u001b[1;32m     70\u001b[0m \u001b[38;5;124;03m\"\"\"\u001b[39;00m\n\u001b[1;32m     71\u001b[0m configDSType \u001b[38;5;241m=\u001b[39m \u001b[38;5;124mf\u001b[39m\u001b[38;5;124m\"\u001b[39m\u001b[38;5;132;01m{\u001b[39;00mlabel\u001b[38;5;132;01m}\u001b[39;00m\u001b[38;5;124m_config\u001b[39m\u001b[38;5;124m\"\u001b[39m\n\u001b[0;32m---> 72\u001b[0m config \u001b[38;5;241m=\u001b[39m \u001b[43mbutler\u001b[49m\u001b[38;5;241;43m.\u001b[39;49m\u001b[43mget\u001b[49m\u001b[43m(\u001b[49m\u001b[43mconfigDSType\u001b[49m\u001b[43m,\u001b[49m\u001b[43m \u001b[49m\u001b[43mcollections\u001b[49m\u001b[38;5;241;43m=\u001b[39;49m\u001b[43m(\u001b[49m\u001b[43mcollection\u001b[49m\u001b[43m,\u001b[49m\u001b[43m)\u001b[49m\u001b[43m)\u001b[49m\n\u001b[1;32m     74\u001b[0m connections: PipelineTaskConnections \u001b[38;5;241m=\u001b[39m config\u001b[38;5;241m.\u001b[39mconnections\u001b[38;5;241m.\u001b[39mConnectionsClass(config\u001b[38;5;241m=\u001b[39mconfig)\n\u001b[1;32m     75\u001b[0m inputs: \u001b[38;5;28mdict\u001b[39m[\u001b[38;5;28mstr\u001b[39m, Any] \u001b[38;5;241m=\u001b[39m {}\n",
      "File \u001b[0;32m/opt/lsst/software/stack/stack/miniconda3-py38_4.9.2-4.1.0/Linux64/daf_butler/gb0940af9fa+693c79d524/python/lsst/daf/butler/_butler.py:1387\u001b[0m, in \u001b[0;36mButler.get\u001b[0;34m(self, datasetRefOrType, dataId, parameters, collections, **kwargs)\u001b[0m\n\u001b[1;32m   1338\u001b[0m \u001b[38;5;124;03m\"\"\"Retrieve a stored dataset.\u001b[39;00m\n\u001b[1;32m   1339\u001b[0m \n\u001b[1;32m   1340\u001b[0m \u001b[38;5;124;03mParameters\u001b[39;00m\n\u001b[0;32m   (...)\u001b[0m\n\u001b[1;32m   1384\u001b[0m \u001b[38;5;124;03m``exposure`` is a temporal dimension.\u001b[39;00m\n\u001b[1;32m   1385\u001b[0m \u001b[38;5;124;03m\"\"\"\u001b[39;00m\n\u001b[1;32m   1386\u001b[0m log\u001b[38;5;241m.\u001b[39mdebug(\u001b[38;5;124m\"\u001b[39m\u001b[38;5;124mButler get: \u001b[39m\u001b[38;5;132;01m%s\u001b[39;00m\u001b[38;5;124m, dataId=\u001b[39m\u001b[38;5;132;01m%s\u001b[39;00m\u001b[38;5;124m, parameters=\u001b[39m\u001b[38;5;132;01m%s\u001b[39;00m\u001b[38;5;124m\"\u001b[39m, datasetRefOrType, dataId, parameters)\n\u001b[0;32m-> 1387\u001b[0m ref \u001b[38;5;241m=\u001b[39m \u001b[38;5;28;43mself\u001b[39;49m\u001b[38;5;241;43m.\u001b[39;49m\u001b[43m_findDatasetRef\u001b[49m\u001b[43m(\u001b[49m\u001b[43mdatasetRefOrType\u001b[49m\u001b[43m,\u001b[49m\u001b[43m \u001b[49m\u001b[43mdataId\u001b[49m\u001b[43m,\u001b[49m\u001b[43m \u001b[49m\u001b[43mcollections\u001b[49m\u001b[38;5;241;43m=\u001b[39;49m\u001b[43mcollections\u001b[49m\u001b[43m,\u001b[49m\u001b[43m \u001b[49m\u001b[38;5;241;43m*\u001b[39;49m\u001b[38;5;241;43m*\u001b[39;49m\u001b[43mkwargs\u001b[49m\u001b[43m)\u001b[49m\n\u001b[1;32m   1388\u001b[0m \u001b[38;5;28;01mreturn\u001b[39;00m \u001b[38;5;28mself\u001b[39m\u001b[38;5;241m.\u001b[39mgetDirect(ref, parameters\u001b[38;5;241m=\u001b[39mparameters)\n",
      "File \u001b[0;32m/opt/lsst/software/stack/stack/miniconda3-py38_4.9.2-4.1.0/Linux64/daf_butler/gb0940af9fa+693c79d524/python/lsst/daf/butler/_butler.py:1103\u001b[0m, in \u001b[0;36mButler._findDatasetRef\u001b[0;34m(self, datasetRefOrType, dataId, collections, allowUnresolved, **kwargs)\u001b[0m\n\u001b[1;32m   1101\u001b[0m         \u001b[38;5;28;01mif\u001b[39;00m collections \u001b[38;5;129;01mis\u001b[39;00m \u001b[38;5;28;01mNone\u001b[39;00m:\n\u001b[1;32m   1102\u001b[0m             collections \u001b[38;5;241m=\u001b[39m \u001b[38;5;28mself\u001b[39m\u001b[38;5;241m.\u001b[39mregistry\u001b[38;5;241m.\u001b[39mdefaults\u001b[38;5;241m.\u001b[39mcollections\n\u001b[0;32m-> 1103\u001b[0m         \u001b[38;5;28;01mraise\u001b[39;00m \u001b[38;5;167;01mLookupError\u001b[39;00m(\n\u001b[1;32m   1104\u001b[0m             \u001b[38;5;124mf\u001b[39m\u001b[38;5;124m\"\u001b[39m\u001b[38;5;124mDataset \u001b[39m\u001b[38;5;132;01m{\u001b[39;00mdatasetType\u001b[38;5;241m.\u001b[39mname\u001b[38;5;132;01m}\u001b[39;00m\u001b[38;5;124m with data ID \u001b[39m\u001b[38;5;132;01m{\u001b[39;00mdataId\u001b[38;5;132;01m}\u001b[39;00m\u001b[38;5;124m \u001b[39m\u001b[38;5;124m\"\u001b[39m\n\u001b[1;32m   1105\u001b[0m             \u001b[38;5;124mf\u001b[39m\u001b[38;5;124m\"\u001b[39m\u001b[38;5;124mcould not be found in collections \u001b[39m\u001b[38;5;132;01m{\u001b[39;00mcollections\u001b[38;5;132;01m}\u001b[39;00m\u001b[38;5;124m.\u001b[39m\u001b[38;5;124m\"\u001b[39m\n\u001b[1;32m   1106\u001b[0m         )\n\u001b[1;32m   1107\u001b[0m \u001b[38;5;28;01mif\u001b[39;00m idNumber \u001b[38;5;129;01mis\u001b[39;00m \u001b[38;5;129;01mnot\u001b[39;00m \u001b[38;5;28;01mNone\u001b[39;00m \u001b[38;5;129;01mand\u001b[39;00m idNumber \u001b[38;5;241m!=\u001b[39m ref\u001b[38;5;241m.\u001b[39mid:\n\u001b[1;32m   1108\u001b[0m     \u001b[38;5;28;01mif\u001b[39;00m collections \u001b[38;5;129;01mis\u001b[39;00m \u001b[38;5;28;01mNone\u001b[39;00m:\n",
      "\u001b[0;31mLookupError\u001b[0m: Dataset analyzeObjectTableCore_config with data ID {} could not be found in collections ('u/bechtol/analysisToolsExample',)."
     ]
    }
   ],
   "source": [
    "from lsst.analysis.tools.tasks.reconstructor import reconstructAnalysisTools\n",
    "\n",
    "# Read in just one task\n",
    "label = \"analyzeObjectTableCore\"\n",
    "taskState, inputData = reconstructAnalysisTools(butler, collection=outputCollection, label=label, dataId=dataId, callback=None)\n",
    "pprint(taskState)\n",
    "pprint(inputData)"
   ]
  },
  {
   "cell_type": "markdown",
   "id": "6ecfe9f3-9cc7-4066-9c93-3a149685ba22",
   "metadata": {},
   "source": [
    "Notice that we have access to the object table used to produce the diagnostics."
   ]
  },
  {
   "cell_type": "code",
   "execution_count": null,
   "id": "06b66588-7aef-40e4-a658-9c826d0dae33",
   "metadata": {},
   "outputs": [],
   "source": [
    "inputData[\"data\"]"
   ]
  },
  {
   "cell_type": "markdown",
   "id": "4f9cb025-ee6e-4d55-a0fd-fdd1c6153c54",
   "metadata": {},
   "source": [
    "We can now reproduce diagnostic plots."
   ]
  },
  {
   "cell_type": "code",
   "execution_count": null,
   "id": "ebf26785-9373-4448-a81d-4f21e934734c",
   "metadata": {},
   "outputs": [],
   "source": [
    "# Rerun one of the plots\n",
    "taskState.plots.shapeSizeFractionalDiffScatter(\n",
    "    inputData['data'],\n",
    "    band='i',\n",
    "    skymap=None,\n",
    "    plotInfo=_StandinPlotInfo()\n",
    ")\n",
    "\n",
    "# change some configuration to see the differences\n",
    "taskState.plots.shapeSizeFractionalDiffScatter.prep.selectors.snSelector.threshold = 50\n",
    "taskState.plots.shapeSizeFractionalDiffScatter(\n",
    "    inputData['data'],\n",
    "    band='i',\n",
    "    skymap=None,\n",
    "    plotInfo=_StandinPlotInfo()\n",
    ")\n",
    "\n",
    "# This could be run in stages like the above example to investigate issues"
   ]
  }
 ],
 "metadata": {
  "kernelspec": {
   "display_name": "LSST",
   "language": "python",
   "name": "lsst"
  },
  "language_info": {
   "codemirror_mode": {
    "name": "ipython",
    "version": 3
   },
   "file_extension": ".py",
   "mimetype": "text/x-python",
   "name": "python",
   "nbconvert_exporter": "python",
   "pygments_lexer": "ipython3",
   "version": "3.10.5"
  }
 },
 "nbformat": 4,
 "nbformat_minor": 5
}
