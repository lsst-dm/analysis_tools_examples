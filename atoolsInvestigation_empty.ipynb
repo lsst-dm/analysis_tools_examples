{
 "cells": [
  {
   "cell_type": "code",
   "execution_count": 1,
   "id": "1903eb5b-3046-42ab-ad10-2ea8b44432b2",
   "metadata": {
    "execution": {
     "iopub.execute_input": "2023-05-23T16:13:57.730449Z",
     "iopub.status.busy": "2023-05-23T16:13:57.730315Z",
     "iopub.status.idle": "2023-05-23T16:13:57.733900Z",
     "shell.execute_reply": "2023-05-23T16:13:57.733322Z",
     "shell.execute_reply.started": "2023-05-23T16:13:57.730435Z"
    }
   },
   "outputs": [
    {
     "ename": "SyntaxError",
     "evalue": "leading zeros in decimal integer literals are not permitted; use an 0o prefix for octal integers (1830697800.py, line 5)",
     "output_type": "error",
     "traceback": [
      "\u001b[0;36m  Input \u001b[0;32mIn [1]\u001b[0;36m\u001b[0m\n\u001b[0;31m    **Last verified to run:** 2023-05-23\u001b[0m\n\u001b[0m                                   ^\u001b[0m\n\u001b[0;31mSyntaxError\u001b[0m\u001b[0;31m:\u001b[0m leading zeros in decimal integer literals are not permitted; use an 0o prefix for octal integers\n"
     ]
    }
   ],
   "source": [
    "**Description:** Demonstrate how to make a new analysis tool, a plot/metric\n",
    "\n",
    "**Contact authors:** Sophie Reed\n",
    "\n",
    "**Last verified to run:** 2023-05-23\n",
    "\n",
    "**LSST Science Piplines version:** w_2023_20\n",
    "\n",
    "**Container Size:** Medium (or larger)\n",
    "\n",
    "**Location:** This notebook points to files on the S3DF cluster at the USDF. Update paths accordingly if you are running elsewhere.\n",
    "\n",
    "**Skills:** Make a new analysis tool and have a play with some data"
   ]
  },
  {
   "cell_type": "markdown",
   "id": "351e0468-d4f5-4c9e-b3db-1263499470cc",
   "metadata": {},
   "source": [
    "Import statements that we will need later"
   ]
  },
  {
   "cell_type": "code",
   "execution_count": null,
   "id": "01f4a7f9-d12d-4bf3-85d6-fe8c6bb30ca9",
   "metadata": {
    "execution": {
     "iopub.status.busy": "2023-05-23T16:13:57.734227Z",
     "iopub.status.idle": "2023-05-23T16:13:57.734404Z",
     "shell.execute_reply": "2023-05-23T16:13:57.734321Z",
     "shell.execute_reply.started": "2023-05-23T16:13:57.734313Z"
    },
    "tags": []
   },
   "outputs": [],
   "source": [
    "import numpy as np\n",
    "import matplotlib.pyplot as plt\n",
    "\n",
    "import lsst.analysis.tools\n",
    "from lsst.analysis.tools.interfaces import AnalysisTool\n",
    "from lsst.analysis.tools.actions.vector import CoaddPlotFlagSelector, SnSelector, StarSelector, LoadVector, ExtinctionCorrectedMagDiff\n",
    "from lsst.analysis.tools.actions.scalar import MedianAction, MeanAction, SigmaMadAction\n",
    "from lsst.analysis.tools.actions.plot import SkyPlot\n",
    "from lsst.analysis.tools.atools import ShapeSizeFractionalDiff\n",
    "\n",
    "import lsst.daf.butler as dafButler\n",
    "from lsst.analysis.tools.interfaces._task import _StandinPlotInfo"
   ]
  },
  {
   "cell_type": "markdown",
   "id": "5db4beba-3082-4754-8e70-26472f1c226c",
   "metadata": {},
   "source": [
    "Let's make a new plot and metric tool, we'll base it on the example in the getting started guide."
   ]
  },
  {
   "cell_type": "code",
   "execution_count": null,
   "id": "3223c307-919a-4700-8dbc-c0ec618ea123",
   "metadata": {
    "tags": []
   },
   "outputs": [],
   "source": []
  },
  {
   "cell_type": "markdown",
   "id": "e14c64f5-45b8-45f4-b412-8522074a52d4",
   "metadata": {},
   "source": [
    "Now we have a tool we need some data to run it on. We're going to run it on the object table tract."
   ]
  },
  {
   "cell_type": "code",
   "execution_count": null,
   "id": "fac7fa0b-91af-46c8-860f-d94674bd0b2a",
   "metadata": {
    "execution": {
     "iopub.status.busy": "2023-05-23T16:13:57.735009Z",
     "iopub.status.idle": "2023-05-23T16:13:57.735179Z",
     "shell.execute_reply": "2023-05-23T16:13:57.735101Z",
     "shell.execute_reply.started": "2023-05-23T16:13:57.735093Z"
    },
    "tags": []
   },
   "outputs": [],
   "source": [
    "dataId = {\"skymap\": \"hsc_rings_v1\", \"tract\": 9813, \"instrument\": \"HSC\"}\n",
    "collections = ['u/bechtol']\n",
    "repo = '/sdf/group/rubin/user/bechtol/bootcamp_2023_backup/rc2_subset/SMALL_HSC/'\n",
    "Butler = dafButler.Butler(repo)\n",
    "t = Butler.get(\"objectTable_tract\", dataId=dataId, collections=collections)"
   ]
  },
  {
   "cell_type": "markdown",
   "id": "36e91163-2ff9-425d-9d08-d58a45fffc99",
   "metadata": {},
   "source": [
    "We want to include some information on the plot for future reference, as much information as possible should be included here so that future you is less annoyed with past you when they can't recreate the plot.\n",
    "\n",
    "If you can't be bothered to make a dict of the information to include then you can use ```_StandInPlotInfo``` from ```lsst.analysis.tools.interfaces._task```."
   ]
  },
  {
   "cell_type": "code",
   "execution_count": null,
   "id": "4b4a54c4-ac3d-4d6e-ba3d-eb7fe41cb78e",
   "metadata": {
    "execution": {
     "iopub.status.busy": "2023-05-23T16:13:57.735776Z",
     "iopub.status.idle": "2023-05-23T16:13:57.735947Z",
     "shell.execute_reply": "2023-05-23T16:13:57.735862Z",
     "shell.execute_reply.started": "2023-05-23T16:13:57.735854Z"
    },
    "tags": []
   },
   "outputs": [],
   "source": [
    "plotInfoDict = {\"bands\": \"i\", \"tract\": 9813, \"tableName\": \"objectTable_tract\", \"run\": collections[0]}"
   ]
  },
  {
   "cell_type": "markdown",
   "id": "e804f72e-a28a-4c3a-b9e4-d1863b0bcc6b",
   "metadata": {},
   "source": [
    "Now we have all of the pieces let's run the tool! You need to remember to call finalize before trying to get results back."
   ]
  },
  {
   "cell_type": "code",
   "execution_count": null,
   "id": "27b6146a-a809-4fbb-b0ae-d0908c9fdfb2",
   "metadata": {
    "tags": []
   },
   "outputs": [],
   "source": []
  },
  {
   "cell_type": "markdown",
   "id": "dbbdaa48-f01f-4b1e-9304-985845003af3",
   "metadata": {},
   "source": [
    "A plot has been made, but it looks a bit sparse, only 333 objects that made it to the plot. Let's look into why, first step, let us look at each selector individually and see what they are doing to the input data."
   ]
  },
  {
   "cell_type": "code",
   "execution_count": null,
   "id": "1d40d644-263f-4764-a6bb-468589815168",
   "metadata": {
    "tags": []
   },
   "outputs": [],
   "source": []
  },
  {
   "cell_type": "markdown",
   "id": "b60d1e0d-61c2-413e-bcce-4ced5fdcac32",
   "metadata": {},
   "source": [
    "It seems that the S/N selector is removing a lot of objects, typically we expect a threshold of 300 to be appropriate for HSC data. Let's investigate the S/N across the whole catalogue."
   ]
  },
  {
   "cell_type": "code",
   "execution_count": null,
   "id": "b9761c46-a991-4176-97a6-d0d66f354066",
   "metadata": {
    "tags": []
   },
   "outputs": [],
   "source": []
  },
  {
   "cell_type": "markdown",
   "id": "3e9f1255-ae3c-4fa9-ac74-355c9d27bbe7",
   "metadata": {},
   "source": [
    "Let's check that the S/N issues aren't limited to just a couple of patches"
   ]
  },
  {
   "cell_type": "code",
   "execution_count": null,
   "id": "cbce3c7a-c2d3-4a90-85bf-8cf1424208a7",
   "metadata": {
    "tags": []
   },
   "outputs": [],
   "source": []
  },
  {
   "cell_type": "markdown",
   "id": "56380187-bef3-4457-8a45-8c67a37ce58c",
   "metadata": {},
   "source": [
    "So all the patches have some high S/N points on them let's look at an image and see if it looks like junk."
   ]
  },
  {
   "cell_type": "code",
   "execution_count": null,
   "id": "e7296d68-d8cd-4569-a7af-d7a5cdb37222",
   "metadata": {
    "tags": []
   },
   "outputs": [],
   "source": []
  },
  {
   "cell_type": "code",
   "execution_count": null,
   "id": "5f5f74b3-a822-467b-8b5a-e803d2eceb97",
   "metadata": {
    "tags": []
   },
   "outputs": [],
   "source": []
  },
  {
   "cell_type": "markdown",
   "id": "d0b3f4db-4446-4be1-b974-56328f539b2f",
   "metadata": {},
   "source": [
    "The image looks fine, next lets look at how many visits went into each point. ```i_inputCount``` tells you how many visits covered the object."
   ]
  },
  {
   "cell_type": "code",
   "execution_count": null,
   "id": "9adcf255-dd2e-4e3a-8242-9cf59e1aeee1",
   "metadata": {
    "execution": {
     "iopub.status.busy": "2023-05-23T16:13:57.736448Z",
     "iopub.status.idle": "2023-05-23T16:13:57.736613Z",
     "shell.execute_reply": "2023-05-23T16:13:57.736536Z",
     "shell.execute_reply.started": "2023-05-23T16:13:57.736529Z"
    },
    "tags": []
   },
   "outputs": [],
   "source": [
    "def catOutline(ras, decs):\n",
    "    \"\"\"A utility function to help draw outlines of points of ra and dec\n",
    "    \n",
    "    Parameters\n",
    "    ----------\n",
    "    ras : iterable\n",
    "        The R.A. of the points\n",
    "    decs : iterable\n",
    "        The declination of the points\n",
    "        \n",
    "    Returns\n",
    "    -------\n",
    "    xMids : np.array\n",
    "        The midpoints of the bins on the x axis\n",
    "    yMids : np.array\n",
    "        The midpoints of the bins on the y axis\n",
    "    im : np.array\n",
    "        A 2D array of the number of points in each bin\n",
    "    \"\"\"\n",
    "    \n",
    "    xWalls = np.linspace(np.min(ras) - 0.1, np.max(ras) + 0.1, 101)\n",
    "    yWalls = np.linspace(np.min(decs) - 0.1, np.max(decs) + 0.1, 101)\n",
    "    \n",
    "    im, xBins, yBins = np.histogram2d(ras, decs, bins=(xWalls, yWalls))\n",
    "    xMids = 0.5*(xBins[:-1] + xBins[1:])\n",
    "    yMids = 0.5*(yBins[:-1] + yBins[1:])\n",
    "    im[im > 0] = 1\n",
    "    \n",
    "    return xMids, yMids, im\n",
    "    "
   ]
  },
  {
   "cell_type": "markdown",
   "id": "2f5b364b-cefa-4cf1-97ab-e9edb2ea067c",
   "metadata": {},
   "source": [
    "To look at the visits that went into our object table we need to first find the data that went into it. The coadds are made from the visit level calexps so we will have a look at the calexps that are available in the butler. This gives us a list of visits. Once we have the visits we can read in the tables for each visit and then use those to plot the overlaps.\n"
   ]
  },
  {
   "cell_type": "code",
   "execution_count": null,
   "id": "b2e1c731-90bc-4feb-ae5c-e42284a4c7e3",
   "metadata": {
    "tags": []
   },
   "outputs": [],
   "source": []
  },
  {
   "cell_type": "markdown",
   "id": "bd21772b-04ce-450b-aed4-fef2ab33ec80",
   "metadata": {},
   "source": [
    "There are only 8 visits and they don't all overlap everywhere, the data isn't going to have very high S/N.\n",
    "\n",
    "Now we know that the data isn't very deep we can adjust the signal to noise threshold so that we have more points on the plot"
   ]
  },
  {
   "cell_type": "code",
   "execution_count": null,
   "id": "c1e9213f-bcc9-4729-8f50-697671349de2",
   "metadata": {
    "tags": []
   },
   "outputs": [],
   "source": []
  },
  {
   "cell_type": "markdown",
   "id": "eb5b880d-520a-4671-92b1-abfb3b29adf5",
   "metadata": {},
   "source": [
    "The data still doesn't cover all the area that the visits covered, let's look at why.\n",
    "We'll plot the patch outlines over the input visits, we know that only four patches are in the final catalogue."
   ]
  },
  {
   "cell_type": "code",
   "execution_count": null,
   "id": "a191a7f6-71f2-41de-9909-3b009a36afee",
   "metadata": {
    "tags": []
   },
   "outputs": [],
   "source": []
  },
  {
   "cell_type": "code",
   "execution_count": null,
   "id": "b8abaaab-2ce0-41c9-b123-102e829177e4",
   "metadata": {
    "tags": []
   },
   "outputs": [],
   "source": []
  },
  {
   "cell_type": "markdown",
   "id": "dd44c85e-805d-4e76-bec3-2ace90720348",
   "metadata": {
    "execution": {
     "iopub.status.busy": "2023-05-17T19:56:36.889820Z",
     "iopub.status.idle": "2023-05-17T19:56:36.890001Z",
     "shell.execute_reply": "2023-05-17T19:56:36.889914Z",
     "shell.execute_reply.started": "2023-05-17T19:56:36.889906Z"
    },
    "tags": []
   },
   "source": [
    "\n"
   ]
  },
  {
   "cell_type": "code",
   "execution_count": null,
   "id": "e98d9925-59d4-4920-8415-c94f1c893c4b",
   "metadata": {},
   "outputs": [],
   "source": []
  }
 ],
 "metadata": {
  "kernelspec": {
   "display_name": "LSST",
   "language": "python",
   "name": "lsst"
  },
  "language_info": {
   "codemirror_mode": {
    "name": "ipython",
    "version": 3
   },
   "file_extension": ".py",
   "mimetype": "text/x-python",
   "name": "python",
   "nbconvert_exporter": "python",
   "pygments_lexer": "ipython3",
   "version": "3.10.10"
  }
 },
 "nbformat": 4,
 "nbformat_minor": 5
}
