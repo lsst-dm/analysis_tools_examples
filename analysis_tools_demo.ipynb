{
 "cells": [
  {
   "cell_type": "markdown",
   "id": "1ea952a0-7d6b-4665-860f-941f23b98a90",
   "metadata": {},
   "source": [
    "# Analysis Tools Examples\n",
    "\n",
    "Introduction to generating science performance diagnostic plots and metrics with the `analysis_tools` package using a small test dataset from HSC.\n",
    "\n",
    "Contact author: TBD\n",
    "\n",
    "Last verified to run: 2022-07-28\n",
    "\n",
    "LSST Science Piplines version: Weekly 2022_31\n",
    "\n",
    "Container size: medium\n",
    "\n",
    "**Targeted learning level:** intermediate\n",
    "\n",
    "**Description:** An introduction to generating science performance diagnostic plots and metrics using the `analysis_tools` package.\n",
    "\n",
    "**Skills:** \n",
    "* Generate a science performance diagnostic plot and corresponding metric values interactively in a notebook and as part of a pipeline (simple pipeline executor). \n",
    "* Adjust the configuration used to produce these diagnostics. \n",
    "* Retrieve persisted plots and metrics with the Bulter. \n",
    "* Reconstitute input data products that were used to create plots and metrics for further investigation."
   ]
  },
  {
   "cell_type": "markdown",
   "id": "be12865f-39a5-4865-8bb2-7ab5de9a4217",
   "metadata": {
    "tags": []
   },
   "source": [
    "## Preliminaries"
   ]
  },
  {
   "cell_type": "code",
   "execution_count": null,
   "id": "da54d3a9-860d-4216-bf7e-8149eeea939a",
   "metadata": {},
   "outputs": [],
   "source": [
    "# Basic imports\n",
    "import numpy as np\n",
    "\n",
    "import matplotlib\n",
    "import matplotlib.pyplot as plt\n",
    "\n",
    "# Interactive plots in notebook\n",
    "%matplotlib widget"
   ]
  },
  {
   "cell_type": "markdown",
   "id": "f9a2d20d-145d-4f6c-a2ef-163939882a6a",
   "metadata": {},
   "source": [
    "### Getting set up at USDF\n",
    "\n",
    "* Point to documentation"
   ]
  },
  {
   "cell_type": "markdown",
   "id": "99d2cbc4-c192-4ac3-a839-34c6b1ee8783",
   "metadata": {},
   "source": [
    "### Processing rc2_subset\n",
    "\n",
    "* Point to documentation about the rc2_dataset and processing instructions\n",
    "* Might need to point to a shell script"
   ]
  },
  {
   "cell_type": "markdown",
   "id": "28cd1179-5ab4-493e-9eea-fea5182de600",
   "metadata": {},
   "source": [
    "### Setting up the analysis_tools package"
   ]
  },
  {
   "cell_type": "markdown",
   "id": "049eb86c-8d4b-4526-9fa6-2160a3228fd9",
   "metadata": {},
   "source": [
    "Check the version of the stack you are using"
   ]
  },
  {
   "cell_type": "code",
   "execution_count": null,
   "id": "71b868fc-f869-45fb-a01f-0ccf43b59dfa",
   "metadata": {},
   "outputs": [],
   "source": [
    "!eups list -s | grep lsst_distrib"
   ]
  },
  {
   "cell_type": "markdown",
   "id": "f442c0f3-5702-4afd-85cd-3e2cdb70394e",
   "metadata": {},
   "source": [
    "The `analysis_tools` package was added to `lsst_distrib` in August 2022, and accordingly, if you have set up the LSST Stack version `w_2022_32` or later, then you should be able to import `analysis_tools` directly in the notebook."
   ]
  },
  {
   "cell_type": "code",
   "execution_count": null,
   "id": "1af82237-10d0-4693-9fd4-05ed8da480ae",
   "metadata": {},
   "outputs": [],
   "source": [
    "import lsst.analysis.tools\n",
    "print(lsst.analysis.tools.__file__)"
   ]
  },
  {
   "cell_type": "markdown",
   "id": "abe860cd-cbf6-4548-aed0-1cc3a7af3f5d",
   "metadata": {},
   "source": [
    "If you are doing development on the `analysis_tools` package and want to test in a notebook, follow the guidance [here](https://nb.lsst.io/science-pipelines/development-tutorial.html). Brief version below (for work on the RSP at USDF):\n",
    "\n",
    "1. In the termal, clone the [analysis_tools](https://github.com/lsst/analysis_tools) repo and set up the package\n",
    "\n",
    "```\n",
    "source /opt/lsst/software/stack/loadLSST.bash\n",
    "setup lsst_distrib\n",
    "\n",
    "# Choose file location for your repo\n",
    "cd ~/repos/\n",
    "git clone https://github.com/lsst/analysis_tools.git\n",
    "cd analysis_tools\n",
    "setup -k -r .\n",
    "scons\n",
    "```\n",
    "\n",
    "2. Add the following line to `~/notebooks/.user_setups`\n",
    "\n",
    "```\n",
    "setup -k -r ~/repos/analysis_tools\n",
    "```\n",
    "\n",
    "Your local version of `analysis_tools` should now be accessible in a notebook."
   ]
  },
  {
   "cell_type": "markdown",
   "id": "3d0e0410-c282-4ea3-93d1-8f5f4d717530",
   "metadata": {},
   "source": [
    "## Generating consistent metric values and visualizations"
   ]
  },
  {
   "cell_type": "markdown",
   "id": "914442b8-d6e3-4ae4-84a6-e60c089bdde6",
   "metadata": {},
   "source": [
    "### Load data for testing"
   ]
  },
  {
   "cell_type": "code",
   "execution_count": null,
   "id": "1830eb9c-ca76-4d1f-b8a7-f59e97cd8167",
   "metadata": {},
   "outputs": [],
   "source": [
    "from lsst.daf.butler import Butler\n",
    "\n",
    "repo = \"/project/sandbox/bechtol/rc2_subset/SMALL_HSC\"\n",
    "collection = \"u/bechtol/step3\"\n",
    "#repo = \"/project/sandbox/jcarlin/repos/rc2_subset/SMALL_HSC\"\n",
    "#collection = \"u/jcarlin/step4\"\n",
    "butler = Butler(repo, collections=[collection])\n",
    "registry = butler.registry"
   ]
  },
  {
   "cell_type": "code",
   "execution_count": null,
   "id": "bc5a6b82-0dc0-4bcd-92c7-a71fe306ca66",
   "metadata": {
    "tags": []
   },
   "outputs": [],
   "source": [
    "for d in sorted(registry.queryDatasetTypes()): print(d.name)"
   ]
  },
  {
   "cell_type": "code",
   "execution_count": null,
   "id": "d774e3b3-3ef8-4e75-9018-75f664f6c46a",
   "metadata": {},
   "outputs": [],
   "source": [
    "#sorted(registry.queryDatasets(\"objectTable\"))\n",
    "sorted(registry.queryDatasets(\"objectTable_tract\"))"
   ]
  },
  {
   "cell_type": "code",
   "execution_count": null,
   "id": "281f1318-8fb9-45a3-9ed4-9bfeae294f7e",
   "metadata": {},
   "outputs": [],
   "source": [
    "dataId = {\"tract\": 9813, \"instrument\": \"hsc\"}\n",
    "objectTable = butler.get(\"objectTable_tract\", dataId=dataId)\n",
    "objectTable"
   ]
  },
  {
   "cell_type": "code",
   "execution_count": null,
   "id": "cfe3f274-5ca8-44ca-96d5-0c910a8e028a",
   "metadata": {
    "tags": []
   },
   "outputs": [],
   "source": [
    "objectTable.columns.values"
   ]
  },
  {
   "cell_type": "markdown",
   "id": "0c0ac9ee-f2c4-43d0-bbd0-364f705bd666",
   "metadata": {},
   "source": [
    "### Generate a metric\n",
    "\n",
    "* Instantiate a butler, load some data\n",
    "* Pass loaded data to an analysis_tool to generate a metric\n",
    "* Change some configuration and generate the metric again"
   ]
  },
  {
   "cell_type": "code",
   "execution_count": null,
   "id": "80ce7f05-1a27-4cdd-94c3-f9357c0d2dd2",
   "metadata": {},
   "outputs": [],
   "source": [
    "from lsst.analysis.tools.analysisMetrics import ShapeSizeFractionalMetric\n",
    "from lsst.analysis.tools.tasks.base import _StandinPlotInfo"
   ]
  },
  {
   "cell_type": "code",
   "execution_count": null,
   "id": "621bc570-aafe-4fd9-a58a-3326aa2e646b",
   "metadata": {},
   "outputs": [],
   "source": [
    "metric = ShapeSizeFractionalMetric()"
   ]
  },
  {
   "cell_type": "code",
   "execution_count": null,
   "id": "888e053c-71ef-427c-b1b6-980c2214983f",
   "metadata": {},
   "outputs": [],
   "source": [
    "results = metric(objectTable, band='i')"
   ]
  },
  {
   "cell_type": "code",
   "execution_count": null,
   "id": "e60f0d12-44e1-45e5-b47c-aa007d10cf96",
   "metadata": {},
   "outputs": [],
   "source": [
    "results"
   ]
  },
  {
   "cell_type": "markdown",
   "id": "8b7e92ef-990a-42ed-a1da-c9df23aade63",
   "metadata": {},
   "source": [
    "### Generate a plot\n",
    "\n",
    "* Use same data from example above\n",
    "* Pass data to an analysis_tool to generate a plot and visualize in notebook\n",
    "* Confirm that displayed values are consistent"
   ]
  },
  {
   "cell_type": "code",
   "execution_count": null,
   "id": "babb1659-6482-436c-8cc7-cfc7702cb1f4",
   "metadata": {},
   "outputs": [],
   "source": [
    "from lsst.analysis.tools.analysisPlots import ShapeSizeFractionalDiffScatterPlot"
   ]
  },
  {
   "cell_type": "code",
   "execution_count": null,
   "id": "338bf7cb-e7bb-4b8d-bdb1-2256a538472e",
   "metadata": {},
   "outputs": [],
   "source": [
    "plot = ShapeSizeFractionalDiffScatterPlot()\n",
    "# set some configs, we will go into this later\n",
    "plot.produce.addSummaryPlot = False"
   ]
  },
  {
   "cell_type": "code",
   "execution_count": null,
   "id": "e88d2b4a-377c-45c7-b9c2-299e03e88a2b",
   "metadata": {},
   "outputs": [],
   "source": [
    "# This throws an error I have not had a chance to look into yet\n",
    "# later keyword arguments will not be required going forward\n",
    "results = plot(objectTable, band='i', skymap=None, plotInfo=_StandinPlotInfo())"
   ]
  },
  {
   "cell_type": "markdown",
   "id": "01ffea76-10ee-49b8-a468-9499e5358f9b",
   "metadata": {},
   "source": [
    "## How it works "
   ]
  },
  {
   "cell_type": "markdown",
   "id": "64f7e84a",
   "metadata": {},
   "source": [
    "### Terminology\n",
    "* ConfigurableAction - generic interface for function like objects (actions) that have state which can be set during configuration\n",
    "* AnalysisAction - A ConfigurableAction subclass that is specialized for actions that function in analysis contexts\n",
    "* AnalysisTool - A top level \"container\" of multiple AnalysisActions which performs one type of analysis\n",
    "\n",
    "Below we dive into the later two in more detail"
   ]
  },
  {
   "cell_type": "markdown",
   "id": "5b669978-bb2f-4564-98a5-73bb88a658a7",
   "metadata": {},
   "source": [
    "### Using AnalysisActions\n",
    "\n",
    "* These are the atomic bits of analysis_tools; They can be combined together to make more complex actions, or used as part of an AnalysisTool\n",
    "* Show some examples of using configurable actions like standalone functions. This is intended to provide users with more intution about how configurable actions work.\n",
    "* Examples with KeyedDataActions, VectorActions (including selectors), and ScalarActions\n",
    "* Show examples of configuration"
   ]
  },
  {
   "cell_type": "code",
   "execution_count": null,
   "id": "4d995033-8aca-47f2-9dc4-d2a0c23c440e",
   "metadata": {},
   "outputs": [],
   "source": [
    "from lsst.analysis.tools.actions.vector import CalcShapeSize, MagColumnNanoJansky"
   ]
  },
  {
   "cell_type": "code",
   "execution_count": null,
   "id": "dd32b465-6ec3-4962-a813-a8b201991d78",
   "metadata": {},
   "outputs": [],
   "source": [
    "size = CalcShapeSize()(objectTable, band='i')\n",
    "mag = MagColumnNanoJansky()\n",
    "\n",
    "mag = MagColumnNanoJansky(vectorKey='{band}_psfFlux')(objectTable, band='i')\n",
    "mag = MagColumnNanoJansky(vectorKey='i_psfFlux')(objectTable)"
   ]
  },
  {
   "cell_type": "code",
   "execution_count": null,
   "id": "c6e0a34e-7c67-4115-b653-ebf735af56c9",
   "metadata": {},
   "outputs": [],
   "source": [
    "plt.figure()\n",
    "plt.scatter(mag, size, s=1)\n",
    "plt.xlim(17.5, 30.)\n",
    "plt.ylim(0, 5)"
   ]
  },
  {
   "cell_type": "code",
   "execution_count": null,
   "id": "4dcd3fa1-0151-4c7f-9c38-eaec5ad50143",
   "metadata": {},
   "outputs": [],
   "source": [
    "from lsst.analysis.tools.actions.vector import StarSelector, DownselectVector"
   ]
  },
  {
   "cell_type": "code",
   "execution_count": null,
   "id": "7c5119aa-e4a9-4589-b1f3-3208bcfae061",
   "metadata": {},
   "outputs": [],
   "source": [
    "star_selection = StarSelector()(objectTable, band='i')"
   ]
  },
  {
   "cell_type": "code",
   "execution_count": null,
   "id": "047115ef-62ff-4689-abf5-7325b4f0c8ed",
   "metadata": {},
   "outputs": [],
   "source": [
    "assert len(star_selection) == len(mag)"
   ]
  },
  {
   "cell_type": "code",
   "execution_count": null,
   "id": "a903edc8-fcf1-4d3a-ba60-e26068324460",
   "metadata": {},
   "outputs": [],
   "source": [
    "plt.figure()\n",
    "plt.scatter(mag[star_selection], c.values[star_selection], s=1)\n",
    "plt.xlim(17.5, 30.)\n",
    "plt.ylim(0, 5)"
   ]
  },
  {
   "cell_type": "code",
   "execution_count": null,
   "id": "5842dac2-ed97-48a2-8d7f-a5f05bfde05a",
   "metadata": {},
   "outputs": [],
   "source": [
    "# Compose a more advanced example\n",
    "#DownselectVector(vectorKey='{band}_psfFLux', selector=StarSelector())(objectTable, band='i')"
   ]
  },
  {
   "cell_type": "code",
   "execution_count": null,
   "id": "69512bc8-dcc1-439a-9913-079bdc3f2535",
   "metadata": {},
   "outputs": [],
   "source": [
    "from lsst.analysis.tools.actions.keyedData import KeyedDataSelectorAction"
   ]
  },
  {
   "cell_type": "markdown",
   "id": "f8b87375-73df-4fe5-8808-5eccfdead3f6",
   "metadata": {},
   "source": [
    "### Three conceptual steps in an `AnalysisTool`: prep, process, produce\n",
    "\n",
    "* Walk through the three stages of running an analysis tool in sequential lines of code, passing the output of one step as input to the next step\n",
    "* Examine intermediate results"
   ]
  },
  {
   "cell_type": "markdown",
   "id": "8ee2cb51-b412-4a13-9829-cfd267f8ef7e",
   "metadata": {},
   "source": [
    "## Workflow examples"
   ]
  },
  {
   "cell_type": "markdown",
   "id": "b0c55816-f242-4c8e-81f4-8bdafedcd29e",
   "metadata": {
    "jp-MarkdownHeadingCollapsed": true,
    "tags": []
   },
   "source": [
    "### Running analysis_tools as part of a pipeline\n",
    "\n",
    "* **All examples in this notebook should use the simple pipeline executor** (here is how you do it in a notebook)\n",
    "* We have a task for each data product. A pipeline can run multiple AnalysisTools that each produce a set of plots or set of metrics\n",
    "* Discuss an example yaml pipeline file (load the yaml)\n",
    "* Provide the command to run the pipeline\n",
    "* Show how to configure the pipeline, e.g., turning on or off different metrics and plots or changing other parameters"
   ]
  },
  {
   "cell_type": "markdown",
   "id": "e25eba85",
   "metadata": {},
   "source": [
    "## Pipeline\n",
    "```\n",
    "description: |\n",
    "  Tier1 plots and metrics to assess coadd quality\n",
    "tasks:\n",
    "  analyzeObjectTableCore:\n",
    "    class: lsst.analysis.tools.tasks.ObjectTableTractAnalysisTask\n",
    "    config:\n",
    "      connections.outputName: objectTableCore\n",
    "      plots.shapeSizeFractionalDiffScatter: ShapeSizeFractionalDiffScatterPlot\n",
    "      metrics.shapeSizeFractionalMetric: ShapeSizeFractionalMetric\n",
    "      plots.e1DiffScatter: E1DiffScatterPlot\n",
    "      metrics.e1DiffScatterMetric: E1DiffMetric\n",
    "      plots.e2DiffScatter: E2DiffScatterPlot\n",
    "      metrics.e2DiffScatterMetric: E2DiffMetric\n",
    "      metrics.skyFluxStatisticMetric: SkyFluxStatisticMetric\n",
    "      metrics.skyFluxStatisticMetric.applyContext: CoaddContext\n",
    "      python: |\n",
    "        from lsst.analysis.tools.analysisPlots import *\n",
    "        from lsst.analysis.tools.analysisMetrics import *\n",
    "        from lsst.analysis.tools.contexts import *\n",
    "  catalogMatchTract:\n",
    "    class: lsst.analysis.tools.tasks.catalogMatch.CatalogMatchTask\n",
    "    config:\n",
    "      bands: ['u', 'g', 'r', 'i', 'z', 'y']\n",
    "  refCatObjectTract:\n",
    "    class: lsst.analysis.tools.tasks.refCatObjectAnalysis.RefCatObjectAnalysisTask\n",
    "    config:\n",
    "      bands: ['u', 'g', 'r', 'i', 'z', 'y']\n",
    "      ```"
   ]
  },
  {
   "cell_type": "code",
   "execution_count": null,
   "id": "f29a6cee",
   "metadata": {},
   "outputs": [],
   "source": [
    "from lsst.ctrl.mpexec import SimplePipelineExecutor\n",
    "from lsst.pipe.base import Pipeline\n",
    "\n",
    "# set up an output collection with your username\n",
    "outputCollection = \"u/nate2/analysisToolsExample\"\n",
    "\n",
    "# this can be skipped if you already have a read writable butler setup\n",
    "butlerRW = SimplePipelineExecutor.prep_butler(repo, inputs=[collection], output=outputCollection)\n",
    "\n",
    "# load in the pipeline to run\n",
    "pipeline = Pipeline.from_uri(\"$ANALYSIS_TOOLS_DIR/pipelines/coaddQualityCore.yaml\")\n",
    "\n",
    "# override a configuration within a certain AnalysisTool\n",
    "configKey = \"plots.shapeSizeFractionalDiffScatter.prep.selectors.snSelector.threshold\"\n",
    "pipeline.addConfigOverride(\"analizeObjectTableCore\", configKey, 400)\n",
    "\n",
    "# restrict processing to the same dataId used above\n",
    "whereString = \"tract=9813 AND instrument='hsc'\"\n",
    "executor = SimplePipelineExecutor.from_pipeline(pipeline, where=whereString, butler=butler)\n",
    "quanta = spe.run(True)"
   ]
  },
  {
   "cell_type": "markdown",
   "id": "d7c9a863-4bac-49d4-bd1b-e29529cabafc",
   "metadata": {},
   "source": [
    "### Inspect the results\n",
    "\n",
    "* Inspect metrics and plots persisted in butler, display results"
   ]
  },
  {
   "cell_type": "markdown",
   "id": "e5721b9f-42e5-4be2-bd8d-9452681faa0c",
   "metadata": {},
   "source": [
    "### Reconstitute the inputs to an analysis_tool\n",
    "\n",
    "* Provide a few examples, including an example with callback from photometric repeatability\n",
    "* Inspect results"
   ]
  },
  {
   "cell_type": "markdown",
   "id": "cf56cde4-0c53-42ad-9e7f-374f58a0b27d",
   "metadata": {},
   "source": [
    "## Make a custom analysis tool\n",
    "\n",
    "* Import python file in the same directory that inherits from analysis_tools to define a custom analysis tool\n",
    "* Add to a custom pipeline and run"
   ]
  },
  {
   "cell_type": "code",
   "execution_count": null,
   "id": "630cd25b-33c9-4810-90ea-91f1b1819d4b",
   "metadata": {},
   "outputs": [],
   "source": []
  }
 ],
 "metadata": {
  "kernelspec": {
   "display_name": "Python 3 (ipykernel)",
   "language": "python",
   "name": "python3"
  },
  "language_info": {
   "codemirror_mode": {
    "name": "ipython",
    "version": 3
   },
   "file_extension": ".py",
   "mimetype": "text/x-python",
   "name": "python",
   "nbconvert_exporter": "python",
   "pygments_lexer": "ipython3",
   "version": "3.10.5"
  }
 },
 "nbformat": 4,
 "nbformat_minor": 5
}
