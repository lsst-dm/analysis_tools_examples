{
 "cells": [
  {
   "cell_type": "markdown",
   "id": "1ea952a0-7d6b-4665-860f-941f23b98a90",
   "metadata": {},
   "source": [
    "# Analysis Tools Examples\n",
    "\n",
    "Introduction to generating science performance diagnostic plots and metrics with the `analysis_tools` package using a small test dataset from HSC.\n",
    "\n",
    "Contact author: TBD\n",
    "\n",
    "Last verified to run: 2022-07-28\n",
    "\n",
    "LSST Science Piplines version: Weekly 2022_31\n",
    "\n",
    "Container size: medium\n",
    "\n",
    "**Targeted learning level:** intermediate\n",
    "\n",
    "**Description:** An introduction to generating science performance diagnostic plots and metrics using the `analysis_tools` package.\n",
    "\n",
    "**Skills:** \n",
    "* Generate a science performance diagnostic plot and corresponding metric values interactively in a notebook and as part of a pipeline (simple pipeline executor). \n",
    "* Adjust the configuration used to produce these diagnostics. \n",
    "* Retrieve persisted plots and metrics with the Bulter. \n",
    "* Reconstitute input data products that were used to create plots and metrics for further investigation."
   ]
  },
  {
   "cell_type": "markdown",
   "id": "be12865f-39a5-4865-8bb2-7ab5de9a4217",
   "metadata": {
    "tags": []
   },
   "source": [
    "## Preliminaries"
   ]
  },
  {
   "cell_type": "markdown",
   "id": "f9a2d20d-145d-4f6c-a2ef-163939882a6a",
   "metadata": {},
   "source": [
    "### Getting set up at USDF\n",
    "\n",
    "* Point to documentation"
   ]
  },
  {
   "cell_type": "markdown",
   "id": "99d2cbc4-c192-4ac3-a839-34c6b1ee8783",
   "metadata": {},
   "source": [
    "### Processing rc2_subset\n",
    "\n",
    "* Point to documentation about the rc2_dataset and processing instructions\n",
    "* Might need to point to a shell script"
   ]
  },
  {
   "cell_type": "markdown",
   "id": "28cd1179-5ab4-493e-9eea-fea5182de600",
   "metadata": {},
   "source": [
    "### Setting up the analysis_tools package"
   ]
  },
  {
   "cell_type": "markdown",
   "id": "049eb86c-8d4b-4526-9fa6-2160a3228fd9",
   "metadata": {},
   "source": [
    "Check the version of the stack you are using"
   ]
  },
  {
   "cell_type": "code",
   "execution_count": null,
   "id": "71b868fc-f869-45fb-a01f-0ccf43b59dfa",
   "metadata": {},
   "outputs": [],
   "source": [
    "!eups list -s | grep lsst_distrib"
   ]
  },
  {
   "cell_type": "markdown",
   "id": "f442c0f3-5702-4afd-85cd-3e2cdb70394e",
   "metadata": {},
   "source": [
    "The `analysis_tools` package was added to `lsst_distrib` in August 2022, and accordingly, if you have set up the LSST Stack version `w_2022_31` or later, then you should be able to import `analysis_tools` directly in the notebook."
   ]
  },
  {
   "cell_type": "code",
   "execution_count": null,
   "id": "1af82237-10d0-4693-9fd4-05ed8da480ae",
   "metadata": {},
   "outputs": [],
   "source": [
    "import lsst.analysis.tools"
   ]
  },
  {
   "cell_type": "markdown",
   "id": "abe860cd-cbf6-4548-aed0-1cc3a7af3f5d",
   "metadata": {},
   "source": [
    "If you are doing development on the `analysis_tools` package and want to test in a notebook, see the guidance [here](https://nb.lsst.io/science-pipelines/development-tutorial.html#step-5-set-up-the-package-for-notebooks)."
   ]
  },
  {
   "cell_type": "markdown",
   "id": "3d0e0410-c282-4ea3-93d1-8f5f4d717530",
   "metadata": {},
   "source": [
    "## Generating consistent metric values and visualizations"
   ]
  },
  {
   "cell_type": "markdown",
   "id": "0c0ac9ee-f2c4-43d0-bbd0-364f705bd666",
   "metadata": {},
   "source": [
    "### Generate a metric\n",
    "\n",
    "* Instantiate a butler, load some data\n",
    "* Pass loaded data to an analysis_tool to generate a metric\n",
    "* Change some configuration and generate the metric again"
   ]
  },
  {
   "cell_type": "markdown",
   "id": "8b7e92ef-990a-42ed-a1da-c9df23aade63",
   "metadata": {},
   "source": [
    "### Generate a plot\n",
    "\n",
    "* Use same data from example above\n",
    "* Pass data to an analysis_tool to generate a plot and visualize in notebook\n",
    "* Confirm that displayed values are consistent"
   ]
  },
  {
   "cell_type": "markdown",
   "id": "01ffea76-10ee-49b8-a468-9499e5358f9b",
   "metadata": {},
   "source": [
    "## How it works "
   ]
  },
  {
   "cell_type": "markdown",
   "id": "5b669978-bb2f-4564-98a5-73bb88a658a7",
   "metadata": {},
   "source": [
    "### Using configurable actions\n",
    "\n",
    "* These are the atomic bits of analysis_tools; AnalysisTools hold configurable actions\n",
    "* General idea: configurable actions are functions that can be configured ahead of time\n",
    "* Show some examples of using configurable actions like standalone functions. This is intended to provide users with more intution about how configurable actions work.\n",
    "* Examples with KeyedDataActions, VectorActions (including selectors), and ScalarActions\n",
    "* Show examples of configuration"
   ]
  },
  {
   "cell_type": "markdown",
   "id": "f8b87375-73df-4fe5-8808-5eccfdead3f6",
   "metadata": {},
   "source": [
    "### Three conceptual steps in an `AnalysisTool`: prep, process, produce\n",
    "\n",
    "* Walk through the three stages of running an analysis tool in sequential lines of code, passing the output of one step as input to the next step\n",
    "* Examine intermediate results"
   ]
  },
  {
   "cell_type": "markdown",
   "id": "8ee2cb51-b412-4a13-9829-cfd267f8ef7e",
   "metadata": {},
   "source": [
    "## Workflow examples"
   ]
  },
  {
   "cell_type": "markdown",
   "id": "b0c55816-f242-4c8e-81f4-8bdafedcd29e",
   "metadata": {
    "jp-MarkdownHeadingCollapsed": true,
    "tags": []
   },
   "source": [
    "### Running analysis_tools as part of a pipeline\n",
    "\n",
    "* **All examples in this notebook should use the simple pipeline executor** (here is how you do it in a notebook)\n",
    "* We have a task for each data product. A pipeline can run multiple AnalysisTools that each produce a set of plots or set of metrics\n",
    "* Discuss an example yaml pipeline file (load the yaml)\n",
    "* Provide the command to run the pipeline\n",
    "* Show how to configure the pipeline, e.g., turning on or off different metrics and plots or changing other parameters"
   ]
  },
  {
   "cell_type": "markdown",
   "id": "d7c9a863-4bac-49d4-bd1b-e29529cabafc",
   "metadata": {},
   "source": [
    "### Inspect the results\n",
    "\n",
    "* Inspect metrics and plots persisted in butler, display results"
   ]
  },
  {
   "cell_type": "markdown",
   "id": "e5721b9f-42e5-4be2-bd8d-9452681faa0c",
   "metadata": {},
   "source": [
    "### Reconstitute the inputs to an analysis_tool\n",
    "\n",
    "* Provide a few examples, including an example with callback from photometric repeatability\n",
    "* Inspect results"
   ]
  },
  {
   "cell_type": "markdown",
   "id": "cf56cde4-0c53-42ad-9e7f-374f58a0b27d",
   "metadata": {},
   "source": [
    "## Make a custom analysis tool\n",
    "\n",
    "* Import python file in the same directory that inherits from analysis_tools to define a custom analysis tool\n",
    "* Add to a custom pipeline and run"
   ]
  },
  {
   "cell_type": "code",
   "execution_count": null,
   "id": "630cd25b-33c9-4810-90ea-91f1b1819d4b",
   "metadata": {},
   "outputs": [],
   "source": []
  }
 ],
 "metadata": {
  "kernelspec": {
   "display_name": "LSST",
   "language": "python",
   "name": "lsst"
  },
  "language_info": {
   "codemirror_mode": {
    "name": "ipython",
    "version": 3
   },
   "file_extension": ".py",
   "mimetype": "text/x-python",
   "name": "python",
   "nbconvert_exporter": "python",
   "pygments_lexer": "ipython3",
   "version": "3.10.5"
  }
 },
 "nbformat": 4,
 "nbformat_minor": 5
}
