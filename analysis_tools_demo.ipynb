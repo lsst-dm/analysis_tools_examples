{
 "cells": [
  {
   "cell_type": "markdown",
   "id": "1ea952a0-7d6b-4665-860f-941f23b98a90",
   "metadata": {},
   "source": [
    "# Analysis Tools Examples\n",
    "\n",
    "Learning objectives"
   ]
  },
  {
   "cell_type": "markdown",
   "id": "be12865f-39a5-4865-8bb2-7ab5de9a4217",
   "metadata": {
    "tags": []
   },
   "source": [
    "## Preliminaries"
   ]
  },
  {
   "cell_type": "markdown",
   "id": "f9a2d20d-145d-4f6c-a2ef-163939882a6a",
   "metadata": {},
   "source": [
    "### Getting set up at USDF\n",
    "\n",
    "* Point to documentation"
   ]
  },
  {
   "cell_type": "markdown",
   "id": "99d2cbc4-c192-4ac3-a839-34c6b1ee8783",
   "metadata": {},
   "source": [
    "### Processing rc2_subset\n",
    "\n",
    "* Point to documentation\n",
    "* Might need to point to a shell script"
   ]
  },
  {
   "cell_type": "markdown",
   "id": "0c0ac9ee-f2c4-43d0-bbd0-364f705bd666",
   "metadata": {},
   "source": [
    "## Generate a metric\n",
    "\n",
    "* Instantiate a butler, load some data\n",
    "* Pass it to an analysis_tool to generate a metric\n",
    "* Change some configuration and generate the metric again"
   ]
  },
  {
   "cell_type": "markdown",
   "id": "8b7e92ef-990a-42ed-a1da-c9df23aade63",
   "metadata": {},
   "source": [
    "## Generate a plot\n",
    "\n",
    "* Use same data from example above\n",
    "* Pass data to an analysis_tool to generate a plot"
   ]
  },
  {
   "cell_type": "markdown",
   "id": "5b669978-bb2f-4564-98a5-73bb88a658a7",
   "metadata": {},
   "source": [
    "## Using configurable actions\n",
    "\n",
    "* Show some examples of using configurable actions standalone"
   ]
  },
  {
   "cell_type": "markdown",
   "id": "f8b87375-73df-4fe5-8808-5eccfdead3f6",
   "metadata": {},
   "source": [
    "## Three conceptual steps: prep, process, produce\n",
    "\n",
    "* Walk through the three stages of running an analysis tool"
   ]
  },
  {
   "cell_type": "markdown",
   "id": "b0c55816-f242-4c8e-81f4-8bdafedcd29e",
   "metadata": {
    "jp-MarkdownHeadingCollapsed": true,
    "tags": []
   },
   "source": [
    "## Running analysis_tools as part of a pipeline"
   ]
  },
  {
   "cell_type": "markdown",
   "id": "d7c9a863-4bac-49d4-bd1b-e29529cabafc",
   "metadata": {},
   "source": [
    "## Inspect the results\n",
    "\n",
    "* Inspect metrics and plots persisted in butler"
   ]
  },
  {
   "cell_type": "markdown",
   "id": "e5721b9f-42e5-4be2-bd8d-9452681faa0c",
   "metadata": {},
   "source": [
    "## Reconstitute the inputs to an analysis_tool\n",
    "\n",
    "* Provide a few examples"
   ]
  },
  {
   "cell_type": "markdown",
   "id": "cf56cde4-0c53-42ad-9e7f-374f58a0b27d",
   "metadata": {},
   "source": [
    "## Make a custom analysis tool\n",
    "\n",
    "* Import python file in the same directory that inherits from analysis_tools to define a custom analysis tool\n",
    "* Add to a custom pipeline and run"
   ]
  },
  {
   "cell_type": "code",
   "execution_count": null,
   "id": "630cd25b-33c9-4810-90ea-91f1b1819d4b",
   "metadata": {},
   "outputs": [],
   "source": []
  }
 ],
 "metadata": {
  "kernelspec": {
   "display_name": "LSST",
   "language": "python",
   "name": "lsst"
  },
  "language_info": {
   "codemirror_mode": {
    "name": "ipython",
    "version": 3
   },
   "file_extension": ".py",
   "mimetype": "text/x-python",
   "name": "python",
   "nbconvert_exporter": "python",
   "pygments_lexer": "ipython3",
   "version": "3.10.5"
  }
 },
 "nbformat": 4,
 "nbformat_minor": 5
}
