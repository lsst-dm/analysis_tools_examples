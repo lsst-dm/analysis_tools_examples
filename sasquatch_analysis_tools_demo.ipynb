{
 "cells": [
  {
   "cell_type": "markdown",
   "id": "8542a124-c99b-4cdd-b33b-df94a18560db",
   "metadata": {
    "tags": []
   },
   "source": [
    "# Using the EFD python client to query metrics from analysis_tools\n",
    "\n",
    "**Description:** Demonstrate how to query metric values produced with [analysis_tools](https://github.com/lsst/analysis_tools)[analysis_tools](https://github.com/lsst/analysis_tools) using the EFD python client for the Sasquatch environment. \n",
    "\n",
    "More information at https://sasquatch.lsst.io/\n",
    "\n",
    "**Contact authors:** Keith Bechtol\n",
    "\n",
    "**Last verified to run:** 2023-09-13\n",
    "\n",
    "**LSST Science Piplines version:** w_2023_34\n",
    "\n",
    "**Container Size:** any\n",
    "\n",
    "**Location:** This notebook was developed on the S3DF cluster at the USDF."
   ]
  },
  {
   "cell_type": "code",
   "execution_count": null,
   "id": "e17823bc-8339-44bb-b5ac-f2aea42ccac0",
   "metadata": {
    "tags": []
   },
   "outputs": [],
   "source": [
    "!eups list -s | grep lsst_distrib"
   ]
  },
  {
   "cell_type": "markdown",
   "id": "901ad00f-56fd-4b00-bb65-f041ee9b81a4",
   "metadata": {
    "execution": {
     "iopub.execute_input": "2023-09-13T23:17:28.887304Z",
     "iopub.status.busy": "2023-09-13T23:17:28.887108Z",
     "iopub.status.idle": "2023-09-13T23:17:28.890488Z",
     "shell.execute_reply": "2023-09-13T23:17:28.890021Z",
     "shell.execute_reply.started": "2023-09-13T23:17:28.887291Z"
    },
    "tags": []
   },
   "source": [
    "Currently, the analysis_tools metrics are dispatched to the USDF dev Sasquatch environment, indicated with the `usdfdev_efd` alias, and are located in the `lsst.dm` database."
   ]
  },
  {
   "cell_type": "code",
   "execution_count": null,
   "id": "39fca152-5856-48be-9cb3-b45159fd9e16",
   "metadata": {
    "tags": []
   },
   "outputs": [],
   "source": [
    "from lsst_efd_client import EfdClient\n",
    "client = EfdClient(\"usdfdev_efd\", db_name=\"lsst.dm\")"
   ]
  },
  {
   "cell_type": "markdown",
   "id": "2a14250e-eb70-4f29-820b-513943eada02",
   "metadata": {
    "execution": {
     "iopub.execute_input": "2023-09-13T23:55:44.175322Z",
     "iopub.status.busy": "2023-09-13T23:55:44.174885Z",
     "iopub.status.idle": "2023-09-13T23:55:44.178258Z",
     "shell.execute_reply": "2023-09-13T23:55:44.177781Z",
     "shell.execute_reply.started": "2023-09-13T23:55:44.175307Z"
    },
    "tags": []
   },
   "source": [
    "The topics correspond to individual analysis tools, e.g., as specified in the pipeline yaml file [coaddQualityCore.yaml](https://github.com/lsst/analysis_tools/blob/18877759150ddbd865aecc4be00199d1975baee4/pipelines/coaddQualityCore.yaml#L9). Consider `e1Diff` as an example."
   ]
  },
  {
   "cell_type": "code",
   "execution_count": null,
   "id": "7cb9a703-787d-4222-ab03-8979b50dffcc",
   "metadata": {
    "tags": []
   },
   "outputs": [],
   "source": [
    "topics = await client.get_topics()\n",
    "for t in topics: print(t)"
   ]
  },
  {
   "cell_type": "markdown",
   "id": "4c696458-0af3-4551-a9a8-d28454b790dd",
   "metadata": {},
   "source": [
    "For a given topic, the fields correspond to metadata and metrics. For example, the metrics in the topic `e1Diff` where specified in the [E1Diff](https://github.com/lsst/analysis_tools/blob/18877759150ddbd865aecc4be00199d1975baee4/python/lsst/analysis/tools/atools/shapes.py#L141) analysis tool class. "
   ]
  },
  {
   "cell_type": "code",
   "execution_count": null,
   "id": "711ebee9-61e8-4af8-afce-ab35d0a9f3ee",
   "metadata": {
    "tags": []
   },
   "outputs": [],
   "source": [
    "await client.get_fields(\"lsst.dm.e1Diff\")"
   ]
  },
  {
   "cell_type": "markdown",
   "id": "c7b0ea63-b019-4421-8cc6-1ac4d1ab5d5c",
   "metadata": {},
   "source": [
    "We can query a given topic using [InfluxQL syntax](https://docs.influxdata.com/influxdb/v1/query_language/explore-data). Notice that the columns in the returned DataFrame match the fields above."
   ]
  },
  {
   "cell_type": "code",
   "execution_count": null,
   "id": "7bd24581-3ab0-4944-91ae-b23c73b91180",
   "metadata": {
    "tags": []
   },
   "outputs": [],
   "source": [
    "query = '''SELECT * FROM \"lsst.dm.e1Diff\" WHERE time > now() - 100d '''\n",
    "df = await client.influx_client.query(query)\n",
    "df.columns.values"
   ]
  },
  {
   "cell_type": "markdown",
   "id": "9faa9223-d5da-4c4e-8e4c-971cb9d09cb2",
   "metadata": {},
   "source": [
    "Inspect the table. Each row corresponds to one `MetricMeasurementBundle` from analysis tools."
   ]
  },
  {
   "cell_type": "code",
   "execution_count": null,
   "id": "1a870781-dbdc-4045-a538-2f5301ca9a42",
   "metadata": {
    "tags": []
   },
   "outputs": [],
   "source": [
    "df"
   ]
  },
  {
   "cell_type": "markdown",
   "id": "dd1b8152-0341-4ad0-a47f-372d72c090d8",
   "metadata": {},
   "source": [
    "Suppose that we are only interested in metrics with a given tag, e.g., `HSC/RC2`. We can refine our query as follows to select on field values."
   ]
  },
  {
   "cell_type": "code",
   "execution_count": null,
   "id": "a6519af0-beff-48bc-9917-fca157b06d61",
   "metadata": {
    "tags": []
   },
   "outputs": [],
   "source": [
    "query = '''SELECT * FROM \"lsst.dm.e1Diff\" WHERE time > now() - 100d AND \"dataset_tag\" = 'HSC/RC2' '''\n",
    "df = await client.influx_client.query(query)\n",
    "df"
   ]
  },
  {
   "cell_type": "markdown",
   "id": "e38e7bd2-d103-4751-84ea-70cf1e72ae2c",
   "metadata": {},
   "source": [
    "Finally, access the specific metric values."
   ]
  },
  {
   "cell_type": "code",
   "execution_count": null,
   "id": "8c457f7d-f57a-4d27-9956-127180fbc4ca",
   "metadata": {
    "tags": []
   },
   "outputs": [],
   "source": [
    "df.g_highSNStars_count.values"
   ]
  }
 ],
 "metadata": {
  "kernelspec": {
   "display_name": "LSST",
   "language": "python",
   "name": "lsst"
  },
  "language_info": {
   "codemirror_mode": {
    "name": "ipython",
    "version": 3
   },
   "file_extension": ".py",
   "mimetype": "text/x-python",
   "name": "python",
   "nbconvert_exporter": "python",
   "pygments_lexer": "ipython3",
   "version": "3.11.4"
  }
 },
 "nbformat": 4,
 "nbformat_minor": 5
}
